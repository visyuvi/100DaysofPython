{
 "cells": [
  {
   "cell_type": "code",
   "execution_count": 2,
   "id": "f0048f0e",
   "metadata": {},
   "outputs": [
    {
     "name": "stdout",
     "output_type": "stream",
     "text": [
      "4\n"
     ]
    }
   ],
   "source": [
    "#integer\n",
    "print(4)\n",
    "#integer range is  1e309"
   ]
  },
  {
   "cell_type": "code",
   "execution_count": 5,
   "id": "b05d8800",
   "metadata": {},
   "outputs": [
    {
     "name": "stdout",
     "output_type": "stream",
     "text": [
      "4.5\n",
      "1.7e+308\n"
     ]
    }
   ],
   "source": [
    "#float\n",
    "print(4.5)\n",
    "print(1.7e308)"
   ]
  },
  {
   "cell_type": "code",
   "execution_count": 6,
   "id": "959b3f19",
   "metadata": {},
   "outputs": [
    {
     "name": "stdout",
     "output_type": "stream",
     "text": [
      "True\n",
      "False\n"
     ]
    }
   ],
   "source": [
    "#boolean\n",
    "print(True)\n",
    "print(False)"
   ]
  },
  {
   "cell_type": "code",
   "execution_count": 8,
   "id": "77fd234d",
   "metadata": {},
   "outputs": [
    {
     "name": "stdout",
     "output_type": "stream",
     "text": [
      "(4+5j)\n"
     ]
    }
   ],
   "source": [
    "#complex numbers\n",
    "print(4+5j)"
   ]
  },
  {
   "cell_type": "code",
   "execution_count": 11,
   "id": "051d0b01",
   "metadata": {},
   "outputs": [
    {
     "name": "stdout",
     "output_type": "stream",
     "text": [
      "spider\n",
      "Kolkata\n",
      "Delhi\n"
     ]
    }
   ],
   "source": [
    "#string\n",
    "print('spider')\n",
    "print(\"Kolkata\")\n",
    "print(\"\"\"Delhi\"\"\")"
   ]
  },
  {
   "cell_type": "code",
   "execution_count": 12,
   "id": "0a6a20b3",
   "metadata": {},
   "outputs": [],
   "source": [
    "#container types\n"
   ]
  },
  {
   "cell_type": "code",
   "execution_count": 14,
   "id": "c8f2d3c8",
   "metadata": {},
   "outputs": [],
   "source": [
    "#list"
   ]
  },
  {
   "cell_type": "code",
   "execution_count": 15,
   "id": "40307a76",
   "metadata": {},
   "outputs": [
    {
     "name": "stdout",
     "output_type": "stream",
     "text": [
      "[1, 2, 3, 4, 5]\n"
     ]
    }
   ],
   "source": [
    "print([1,2,3,4,5])"
   ]
  },
  {
   "cell_type": "code",
   "execution_count": 16,
   "id": "6425d06a",
   "metadata": {},
   "outputs": [
    {
     "name": "stdout",
     "output_type": "stream",
     "text": [
      "(1, 2, 3, 454)\n"
     ]
    }
   ],
   "source": [
    "#tuples\n",
    "print((1,2,3,454))"
   ]
  },
  {
   "cell_type": "code",
   "execution_count": 18,
   "id": "39988bd3",
   "metadata": {},
   "outputs": [
    {
     "name": "stdout",
     "output_type": "stream",
     "text": [
      "{1, 2, 3, 4}\n"
     ]
    }
   ],
   "source": [
    "#Sets\n",
    "print({1,2,3,4})"
   ]
  },
  {
   "cell_type": "code",
   "execution_count": 21,
   "id": "2c5eb5e4",
   "metadata": {},
   "outputs": [
    {
     "name": "stdout",
     "output_type": "stream",
     "text": [
      "{'Name': 'vishal', 'Age': 30, 'gender': 'Male'}\n"
     ]
    }
   ],
   "source": [
    "print({\"Name\":\"vishal\",\"Age\":30,\"gender\":\"Male\"})"
   ]
  },
  {
   "cell_type": "code",
   "execution_count": 25,
   "id": "1f20e875",
   "metadata": {},
   "outputs": [],
   "source": [
    "#comments"
   ]
  },
  {
   "cell_type": "code",
   "execution_count": 26,
   "id": "b99c9b01",
   "metadata": {},
   "outputs": [],
   "source": [
    "#you  write comments for readbility of code for both yourself and others"
   ]
  },
  {
   "cell_type": "code",
   "execution_count": 27,
   "id": "7ef4cab4",
   "metadata": {},
   "outputs": [],
   "source": [
    "#print(\"This is a comment\")"
   ]
  },
  {
   "cell_type": "code",
   "execution_count": 28,
   "id": "c24972d5",
   "metadata": {},
   "outputs": [],
   "source": [
    "#you cannot write multiline comments inherently. You need to put a # in every line."
   ]
  },
  {
   "cell_type": "code",
   "execution_count": null,
   "id": "553fa309",
   "metadata": {},
   "outputs": [],
   "source": []
  }
 ],
 "metadata": {
  "kernelspec": {
   "display_name": "Python 3 (ipykernel)",
   "language": "python",
   "name": "python3"
  },
  "language_info": {
   "codemirror_mode": {
    "name": "ipython",
    "version": 3
   },
   "file_extension": ".py",
   "mimetype": "text/x-python",
   "name": "python",
   "nbconvert_exporter": "python",
   "pygments_lexer": "ipython3",
   "version": "3.9.16"
  }
 },
 "nbformat": 4,
 "nbformat_minor": 5
}
