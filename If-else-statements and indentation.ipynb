{
 "cells": [
  {
   "cell_type": "code",
   "execution_count": 12,
   "id": "5b3e2175",
   "metadata": {},
   "outputs": [
    {
     "name": "stdout",
     "output_type": "stream",
     "text": [
      "Enter emailvisyuvi@gmail.com\n",
      "Passwordsdfsdf\n",
      "Password incorrect\n",
      "Passwordsdfsdf\n",
      "Still incorrect\n"
     ]
    }
   ],
   "source": [
    "email = input(\"Enter email\")\n",
    "\n",
    "if '@' in email:\n",
    "    \n",
    "    password = input(\"Password\")\n",
    "\n",
    "    if email == \"visyuvi@gmail.com\" and password == \"1234\":\n",
    "        print(\"Welcome\")\n",
    "\n",
    "    elif email == \"visyuvi@gmail.com\" and password != \"1234\":\n",
    "        print(\"Password incorrect\")\n",
    "        password = input(\"Password\")\n",
    "\n",
    "        if password == \"1234\":\n",
    "            print(\"Finally correct\")\n",
    "        else:\n",
    "            print(\"Still incorrect\")  \n",
    "    else:\n",
    "        print(\"Incorrect Credentials\")\n",
    "        \n",
    "else:\n",
    "    print(\"Enter email in correct format\")\n",
    "    \n",
    "\n"
   ]
  },
  {
   "cell_type": "code",
   "execution_count": null,
   "id": "9ab73997",
   "metadata": {},
   "outputs": [],
   "source": [
    " "
   ]
  }
 ],
 "metadata": {
  "kernelspec": {
   "display_name": "Python 3 (ipykernel)",
   "language": "python",
   "name": "python3"
  },
  "language_info": {
   "codemirror_mode": {
    "name": "ipython",
    "version": 3
   },
   "file_extension": ".py",
   "mimetype": "text/x-python",
   "name": "python",
   "nbconvert_exporter": "python",
   "pygments_lexer": "ipython3",
   "version": "3.9.16"
  }
 },
 "nbformat": 4,
 "nbformat_minor": 5
}
