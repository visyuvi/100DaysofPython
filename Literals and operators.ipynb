{
 "cells": [
  {
   "cell_type": "code",
   "execution_count": 3,
   "id": "efd2863f",
   "metadata": {},
   "outputs": [],
   "source": [
    " str = r\"\\n\""
   ]
  },
  {
   "cell_type": "code",
   "execution_count": 4,
   "id": "4fa9ad0a",
   "metadata": {},
   "outputs": [
    {
     "name": "stdout",
     "output_type": "stream",
     "text": [
      "\\n\n"
     ]
    }
   ],
   "source": [
    "print(str)"
   ]
  },
  {
   "cell_type": "code",
   "execution_count": 7,
   "id": "520287b2",
   "metadata": {},
   "outputs": [],
   "source": [
    "a = True+10"
   ]
  },
  {
   "cell_type": "code",
   "execution_count": 8,
   "id": "cecb2bc9",
   "metadata": {},
   "outputs": [
    {
     "data": {
      "text/plain": [
       "11"
      ]
     },
     "execution_count": 8,
     "metadata": {},
     "output_type": "execute_result"
    }
   ],
   "source": [
    "a"
   ]
  },
  {
   "cell_type": "code",
   "execution_count": 9,
   "id": "12e01460",
   "metadata": {},
   "outputs": [],
   "source": [
    "#Special literal\n",
    "k = None"
   ]
  },
  {
   "cell_type": "code",
   "execution_count": 10,
   "id": "985b4053",
   "metadata": {},
   "outputs": [
    {
     "data": {
      "text/plain": [
       "NoneType"
      ]
     },
     "execution_count": 10,
     "metadata": {},
     "output_type": "execute_result"
    }
   ],
   "source": [
    "type(k)"
   ]
  },
  {
   "cell_type": "code",
   "execution_count": 11,
   "id": "c0fa0dd4",
   "metadata": {},
   "outputs": [],
   "source": [
    "#operators"
   ]
  },
  {
   "cell_type": "code",
   "execution_count": 36,
   "id": "57aae5a3",
   "metadata": {},
   "outputs": [],
   "source": [
    "x=0b101"
   ]
  },
  {
   "cell_type": "code",
   "execution_count": 37,
   "id": "48ff9e3f",
   "metadata": {},
   "outputs": [],
   "source": [
    "y=0b010"
   ]
  },
  {
   "cell_type": "code",
   "execution_count": 38,
   "id": "71775dbb",
   "metadata": {},
   "outputs": [
    {
     "data": {
      "text/plain": [
       "(7, 3, 10, 2.5, 1, 7, 2)"
      ]
     },
     "execution_count": 38,
     "metadata": {},
     "output_type": "execute_result"
    }
   ],
   "source": [
    "#arithmetic \n",
    "x+y, x-y,x*y,x/y, x%y, x^2,x//y "
   ]
  },
  {
   "cell_type": "code",
   "execution_count": 40,
   "id": "f33a1031",
   "metadata": {},
   "outputs": [
    {
     "data": {
      "text/plain": [
       "(5, 2)"
      ]
     },
     "execution_count": 40,
     "metadata": {},
     "output_type": "execute_result"
    }
   ],
   "source": [
    "x,y"
   ]
  },
  {
   "cell_type": "code",
   "execution_count": 44,
   "id": "e74b7e8f",
   "metadata": {},
   "outputs": [
    {
     "data": {
      "text/plain": [
       "7"
      ]
     },
     "execution_count": 44,
     "metadata": {},
     "output_type": "execute_result"
    }
   ],
   "source": [
    "#logical operators\n",
    "x | y"
   ]
  },
  {
   "cell_type": "code",
   "execution_count": null,
   "id": "ac780bfc",
   "metadata": {},
   "outputs": [],
   "source": []
  }
 ],
 "metadata": {
  "kernelspec": {
   "display_name": "Python 3 (ipykernel)",
   "language": "python",
   "name": "python3"
  },
  "language_info": {
   "codemirror_mode": {
    "name": "ipython",
    "version": 3
   },
   "file_extension": ".py",
   "mimetype": "text/x-python",
   "name": "python",
   "nbconvert_exporter": "python",
   "pygments_lexer": "ipython3",
   "version": "3.9.16"
  }
 },
 "nbformat": 4,
 "nbformat_minor": 5
}
