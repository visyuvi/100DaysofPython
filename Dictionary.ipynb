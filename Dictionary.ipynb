{
 "cells": [
  {
   "cell_type": "code",
   "execution_count": 1,
   "id": "1a94720c",
   "metadata": {},
   "outputs": [
    {
     "data": {
      "text/plain": [
       "{'Name': 'Vishal', 'Gender': 'Male'}"
      ]
     },
     "execution_count": 1,
     "metadata": {},
     "output_type": "execute_result"
    }
   ],
   "source": [
    "{\"Name\":\"Vishal\", \"Gender\":\"Male\"}"
   ]
  },
  {
   "cell_type": "code",
   "execution_count": 2,
   "id": "178ea709",
   "metadata": {},
   "outputs": [],
   "source": [
    "#Rules\n",
    "#R1:- No indexing\n",
    "#R2:- It is a mutable data type\n",
    "#R3:- Keys should always be immutable, values can be mutable\n",
    "#R4: Keys should be unique"
   ]
  },
  {
   "cell_type": "code",
   "execution_count": 3,
   "id": "13250bb0",
   "metadata": {},
   "outputs": [],
   "source": [
    "#Mutable data types:- Lists, sets and dictionary\n",
    "#Immutable data types:- strings, tuples, integer, float, boolean, complex"
   ]
  },
  {
   "cell_type": "code",
   "execution_count": 7,
   "id": "88173ccf",
   "metadata": {},
   "outputs": [
    {
     "ename": "TypeError",
     "evalue": "unhashable type: 'list'",
     "output_type": "error",
     "traceback": [
      "\u001b[0;31m---------------------------------------------------------------------------\u001b[0m",
      "\u001b[0;31mTypeError\u001b[0m                                 Traceback (most recent call last)",
      "\u001b[0;32m/tmp/ipykernel_1566134/3460463471.py\u001b[0m in \u001b[0;36m<module>\u001b[0;34m\u001b[0m\n\u001b[1;32m      2\u001b[0m \u001b[0;31m#showing keys have to be immutable\u001b[0m\u001b[0;34m\u001b[0m\u001b[0;34m\u001b[0m\u001b[0m\n\u001b[1;32m      3\u001b[0m \u001b[0mD\u001b[0m \u001b[0;34m=\u001b[0m  \u001b[0;34m{\u001b[0m\u001b[0;34m}\u001b[0m\u001b[0;34m\u001b[0m\u001b[0;34m\u001b[0m\u001b[0m\n\u001b[0;32m----> 4\u001b[0;31m \u001b[0mD1\u001b[0m \u001b[0;34m=\u001b[0m \u001b[0;34m{\u001b[0m\u001b[0;34m[\u001b[0m\u001b[0;36m1\u001b[0m\u001b[0;34m,\u001b[0m\u001b[0;36m2\u001b[0m\u001b[0;34m,\u001b[0m\u001b[0;36m3\u001b[0m\u001b[0;34m]\u001b[0m\u001b[0;34m:\u001b[0m\u001b[0;34m\"Nitish\"\u001b[0m\u001b[0;34m}\u001b[0m\u001b[0;34m\u001b[0m\u001b[0;34m\u001b[0m\u001b[0m\n\u001b[0m",
      "\u001b[0;31mTypeError\u001b[0m: unhashable type: 'list'"
     ]
    }
   ],
   "source": [
    "#create\n",
    "#showing keys have to be immutable\n",
    "D =  {}\n",
    "D1 = {[1,2,3]:\"Nitish\"}"
   ]
  },
  {
   "cell_type": "code",
   "execution_count": 8,
   "id": "1f795c32",
   "metadata": {},
   "outputs": [],
   "source": [
    "D1 = {(1,2,3):\"Nitish\"} #shown here"
   ]
  },
  {
   "cell_type": "code",
   "execution_count": 9,
   "id": "6c6957d5",
   "metadata": {},
   "outputs": [],
   "source": [
    "D2 = {\"Name\":\"Rahul\",\"Name\":\"Rohit\"}"
   ]
  },
  {
   "cell_type": "code",
   "execution_count": 11,
   "id": "5f019422",
   "metadata": {},
   "outputs": [
    {
     "data": {
      "text/plain": [
       "{'Name': 'Rohit'}"
      ]
     },
     "execution_count": 11,
     "metadata": {},
     "output_type": "execute_result"
    }
   ],
   "source": [
    "D2"
   ]
  },
  {
   "cell_type": "code",
   "execution_count": 69,
   "id": "42996b56",
   "metadata": {},
   "outputs": [],
   "source": [
    "D3 = {\"Name\":\"Vishal\",\"College\":\"MNIT\",\"Marks\":{\"M1\":56,\"DS\":54,\"Eng\":67}}"
   ]
  },
  {
   "cell_type": "code",
   "execution_count": 70,
   "id": "9811996b",
   "metadata": {},
   "outputs": [
    {
     "data": {
      "text/plain": [
       "{'Name': 'Vishal', 'College': 'MNIT', 'Marks': {'M1': 56, 'DS': 54, 'Eng': 67}}"
      ]
     },
     "execution_count": 70,
     "metadata": {},
     "output_type": "execute_result"
    }
   ],
   "source": [
    "D3"
   ]
  },
  {
   "cell_type": "code",
   "execution_count": 71,
   "id": "88b970cd",
   "metadata": {},
   "outputs": [
    {
     "data": {
      "text/plain": [
       "'Vishal'"
      ]
     },
     "execution_count": 71,
     "metadata": {},
     "output_type": "execute_result"
    }
   ],
   "source": [
    "D3[\"Name\"]"
   ]
  },
  {
   "cell_type": "code",
   "execution_count": 72,
   "id": "30d68c13",
   "metadata": {},
   "outputs": [
    {
     "ename": "KeyError",
     "evalue": "0",
     "output_type": "error",
     "traceback": [
      "\u001b[0;31m---------------------------------------------------------------------------\u001b[0m",
      "\u001b[0;31mKeyError\u001b[0m                                  Traceback (most recent call last)",
      "\u001b[0;32m/tmp/ipykernel_1566134/1459853993.py\u001b[0m in \u001b[0;36m<module>\u001b[0;34m\u001b[0m\n\u001b[0;32m----> 1\u001b[0;31m \u001b[0mD3\u001b[0m\u001b[0;34m[\u001b[0m\u001b[0;36m0\u001b[0m\u001b[0;34m]\u001b[0m \u001b[0;31m#can't use indexing\u001b[0m\u001b[0;34m\u001b[0m\u001b[0;34m\u001b[0m\u001b[0m\n\u001b[0m",
      "\u001b[0;31mKeyError\u001b[0m: 0"
     ]
    }
   ],
   "source": [
    "D3[0] #can't use indexing"
   ]
  },
  {
   "cell_type": "code",
   "execution_count": null,
   "id": "241acc1a",
   "metadata": {},
   "outputs": [],
   "source": [
    "D3[\"Marks\"][\"DS\"]"
   ]
  },
  {
   "cell_type": "code",
   "execution_count": null,
   "id": "b0e3dcf2",
   "metadata": {},
   "outputs": [],
   "source": [
    "#Edit\n",
    "D3[\"Name\"]=\"Spider\""
   ]
  },
  {
   "cell_type": "code",
   "execution_count": 73,
   "id": "379eb608",
   "metadata": {},
   "outputs": [
    {
     "data": {
      "text/plain": [
       "{'Name': 'Vishal', 'College': 'MNIT', 'Marks': {'M1': 56, 'DS': 54, 'Eng': 67}}"
      ]
     },
     "execution_count": 73,
     "metadata": {},
     "output_type": "execute_result"
    }
   ],
   "source": [
    "D3"
   ]
  },
  {
   "cell_type": "code",
   "execution_count": 88,
   "id": "506cbf33",
   "metadata": {},
   "outputs": [],
   "source": [
    "D3[\"Marks\"][\"DS\"]=120"
   ]
  },
  {
   "cell_type": "code",
   "execution_count": 89,
   "id": "44beb7e3",
   "metadata": {},
   "outputs": [
    {
     "data": {
      "text/plain": [
       "{'Name': 'Vishal',\n",
       " 'College': 'MNIT',\n",
       " 'Marks': {'M1': 56, 'DS': 120, 'Eng': 67},\n",
       " 'Age': 34}"
      ]
     },
     "execution_count": 89,
     "metadata": {},
     "output_type": "execute_result"
    }
   ],
   "source": [
    "D3"
   ]
  },
  {
   "cell_type": "code",
   "execution_count": 90,
   "id": "66dc7638",
   "metadata": {},
   "outputs": [
    {
     "data": {
      "text/plain": [
       "120"
      ]
     },
     "execution_count": 90,
     "metadata": {},
     "output_type": "execute_result"
    }
   ],
   "source": [
    "D3.get(\"Marks\").get(\"DS\")"
   ]
  },
  {
   "cell_type": "code",
   "execution_count": 91,
   "id": "3ef140be",
   "metadata": {},
   "outputs": [],
   "source": [
    "#Add new key-value pairs"
   ]
  },
  {
   "cell_type": "code",
   "execution_count": 92,
   "id": "65449f4c",
   "metadata": {},
   "outputs": [
    {
     "data": {
      "text/plain": [
       "{'Name': 'Vishal',\n",
       " 'College': 'MNIT',\n",
       " 'Marks': {'M1': 56, 'DS': 120, 'Eng': 67},\n",
       " 'Age': 34}"
      ]
     },
     "execution_count": 92,
     "metadata": {},
     "output_type": "execute_result"
    }
   ],
   "source": [
    "D3[\"Age\"]=34;D3"
   ]
  },
  {
   "cell_type": "code",
   "execution_count": 93,
   "id": "277c3eb7",
   "metadata": {},
   "outputs": [
    {
     "ename": "NameError",
     "evalue": "name 'D5' is not defined",
     "output_type": "error",
     "traceback": [
      "\u001b[0;31m---------------------------------------------------------------------------\u001b[0m",
      "\u001b[0;31mNameError\u001b[0m                                 Traceback (most recent call last)",
      "\u001b[0;32m/tmp/ipykernel_1566134/728669483.py\u001b[0m in \u001b[0;36m<module>\u001b[0;34m\u001b[0m\n\u001b[1;32m      3\u001b[0m \u001b[0mD5\u001b[0m\u001b[0;34m\u001b[0m\u001b[0;34m\u001b[0m\u001b[0m\n\u001b[1;32m      4\u001b[0m \u001b[0;32mdel\u001b[0m\u001b[0;34m(\u001b[0m\u001b[0mD5\u001b[0m\u001b[0;34m)\u001b[0m\u001b[0;34m\u001b[0m\u001b[0;34m\u001b[0m\u001b[0m\n\u001b[0;32m----> 5\u001b[0;31m \u001b[0mD5\u001b[0m\u001b[0;34m\u001b[0m\u001b[0;34m\u001b[0m\u001b[0m\n\u001b[0m",
      "\u001b[0;31mNameError\u001b[0m: name 'D5' is not defined"
     ]
    }
   ],
   "source": [
    "#How to delete\n",
    "D5={}\n",
    "D5\n",
    "del(D5)\n",
    "D5"
   ]
  },
  {
   "cell_type": "code",
   "execution_count": 94,
   "id": "49adacac",
   "metadata": {},
   "outputs": [],
   "source": [
    "del D3[\"Name\"]"
   ]
  },
  {
   "cell_type": "code",
   "execution_count": 98,
   "id": "86b7f001",
   "metadata": {},
   "outputs": [
    {
     "data": {
      "text/plain": [
       "{'College': 'MNIT', 'Marks': {'M1': 56, 'DS': 120, 'Eng': 67}, 'Age': 34}"
      ]
     },
     "execution_count": 98,
     "metadata": {},
     "output_type": "execute_result"
    }
   ],
   "source": [
    "D3"
   ]
  },
  {
   "cell_type": "code",
   "execution_count": 99,
   "id": "e6366854",
   "metadata": {},
   "outputs": [
    {
     "data": {
      "text/plain": [
       "{'College': 'MNIT', 'Marks': {'M1': 56, 'DS': 120, 'Eng': 67}, 'Age': 34}"
      ]
     },
     "execution_count": 99,
     "metadata": {},
     "output_type": "execute_result"
    }
   ],
   "source": [
    "D3"
   ]
  },
  {
   "cell_type": "code",
   "execution_count": 100,
   "id": "a71d114e",
   "metadata": {},
   "outputs": [],
   "source": [
    "#operations "
   ]
  },
  {
   "cell_type": "code",
   "execution_count": 101,
   "id": "2b6c66b5",
   "metadata": {},
   "outputs": [
    {
     "name": "stdout",
     "output_type": "stream",
     "text": [
      "College MNIT\n",
      "Marks {'M1': 56, 'DS': 120, 'Eng': 67}\n",
      "Age 34\n"
     ]
    }
   ],
   "source": [
    "for i in D3:\n",
    "    print(i, D3[i])"
   ]
  },
  {
   "cell_type": "code",
   "execution_count": 102,
   "id": "8db79edd",
   "metadata": {},
   "outputs": [
    {
     "data": {
      "text/plain": [
       "False"
      ]
     },
     "execution_count": 102,
     "metadata": {},
     "output_type": "execute_result"
    }
   ],
   "source": [
    "\"Name\" in D3"
   ]
  },
  {
   "cell_type": "code",
   "execution_count": 110,
   "id": "01e18f19",
   "metadata": {},
   "outputs": [
    {
     "data": {
      "text/plain": [
       "['Marks', 'College', 'Age']"
      ]
     },
     "execution_count": 110,
     "metadata": {},
     "output_type": "execute_result"
    }
   ],
   "source": [
    "#functions in dictionary\n",
    "#len , min,max, sorted\n",
    "sorted(D3,reverse=True)\n"
   ]
  },
  {
   "cell_type": "code",
   "execution_count": 112,
   "id": "84bdac90",
   "metadata": {},
   "outputs": [
    {
     "data": {
      "text/plain": [
       "dict_values(['MNIT', {'M1': 56, 'DS': 120, 'Eng': 67}, 34])"
      ]
     },
     "execution_count": 112,
     "metadata": {},
     "output_type": "execute_result"
    }
   ],
   "source": [
    "D3.keys()\n"
   ]
  },
  {
   "cell_type": "code",
   "execution_count": 113,
   "id": "ed834b91",
   "metadata": {},
   "outputs": [
    {
     "data": {
      "text/plain": [
       "dict_values(['MNIT', {'M1': 56, 'DS': 120, 'Eng': 67}, 34])"
      ]
     },
     "execution_count": 113,
     "metadata": {},
     "output_type": "execute_result"
    }
   ],
   "source": [
    "D3.values()"
   ]
  },
  {
   "cell_type": "code",
   "execution_count": null,
   "id": "df42f572",
   "metadata": {},
   "outputs": [],
   "source": []
  },
  {
   "cell_type": "code",
   "execution_count": null,
   "id": "573973ea",
   "metadata": {},
   "outputs": [],
   "source": []
  },
  {
   "cell_type": "code",
   "execution_count": null,
   "id": "e933bd48",
   "metadata": {},
   "outputs": [],
   "source": []
  },
  {
   "cell_type": "code",
   "execution_count": null,
   "id": "a413f91c",
   "metadata": {},
   "outputs": [],
   "source": []
  },
  {
   "cell_type": "code",
   "execution_count": null,
   "id": "9c8845bb",
   "metadata": {},
   "outputs": [],
   "source": []
  },
  {
   "cell_type": "code",
   "execution_count": null,
   "id": "a2e71353",
   "metadata": {},
   "outputs": [],
   "source": []
  },
  {
   "cell_type": "code",
   "execution_count": null,
   "id": "e2ffdecc",
   "metadata": {},
   "outputs": [],
   "source": []
  },
  {
   "cell_type": "code",
   "execution_count": null,
   "id": "71f7c2e9",
   "metadata": {},
   "outputs": [],
   "source": []
  },
  {
   "cell_type": "code",
   "execution_count": null,
   "id": "2fead3d9",
   "metadata": {},
   "outputs": [],
   "source": []
  },
  {
   "cell_type": "code",
   "execution_count": null,
   "id": "d247467b",
   "metadata": {},
   "outputs": [],
   "source": []
  }
 ],
 "metadata": {
  "kernelspec": {
   "display_name": "Python 3 (ipykernel)",
   "language": "python",
   "name": "python3"
  },
  "language_info": {
   "codemirror_mode": {
    "name": "ipython",
    "version": 3
   },
   "file_extension": ".py",
   "mimetype": "text/x-python",
   "name": "python",
   "nbconvert_exporter": "python",
   "pygments_lexer": "ipython3",
   "version": "3.9.16"
  }
 },
 "nbformat": 4,
 "nbformat_minor": 5
}
