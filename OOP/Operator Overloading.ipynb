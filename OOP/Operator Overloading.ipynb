{
 "cells": [
  {
   "cell_type": "code",
   "execution_count": 1,
   "id": "94557cbb",
   "metadata": {},
   "outputs": [],
   "source": [
    "#polymorphism \n",
    "#1. Method Overriding \n",
    "#2. Method Overloading\n",
    "#3. Operator Overloading"
   ]
  },
  {
   "cell_type": "code",
   "execution_count": 6,
   "id": "45eae4a8",
   "metadata": {},
   "outputs": [],
   "source": [
    "class Geometry:\n",
    "     \n",
    "    def area(self,a,b=0):\n",
    "        if b==0:\n",
    "            print(\"Circle\", 3.14 * a *a)\n",
    "        else:\n",
    "            print(\"Rectangle\", a*b)"
   ]
  },
  {
   "cell_type": "code",
   "execution_count": 7,
   "id": "6d5c3f36",
   "metadata": {},
   "outputs": [],
   "source": [
    "obj = Geometry()"
   ]
  },
  {
   "cell_type": "code",
   "execution_count": 9,
   "id": "f8c8f6b6",
   "metadata": {},
   "outputs": [
    {
     "name": "stdout",
     "output_type": "stream",
     "text": [
      "Rectangle 20\n"
     ]
    }
   ],
   "source": [
    "obj.area(4,5)"
   ]
  },
  {
   "cell_type": "code",
   "execution_count": 10,
   "id": "aec99852",
   "metadata": {},
   "outputs": [],
   "source": [
    "#Python doesn't support method overloading. But it can be achieved as shown above.  "
   ]
  },
  {
   "cell_type": "code",
   "execution_count": 11,
   "id": "e6601780",
   "metadata": {},
   "outputs": [],
   "source": [
    "#operator overloading\n"
   ]
  },
  {
   "cell_type": "code",
   "execution_count": 14,
   "id": "66a24c9c",
   "metadata": {},
   "outputs": [
    {
     "data": {
      "text/plain": [
       "'Hello Spider'"
      ]
     },
     "execution_count": 14,
     "metadata": {},
     "output_type": "execute_result"
    }
   ],
   "source": [
    "\"Hello\" + \" Spider\""
   ]
  },
  {
   "cell_type": "code",
   "execution_count": 15,
   "id": "b8b99532",
   "metadata": {},
   "outputs": [],
   "source": [
    "from fractions import Fraction\n"
   ]
  },
  {
   "cell_type": "code",
   "execution_count": 16,
   "id": "856c39e2",
   "metadata": {},
   "outputs": [],
   "source": [
    "x = Fraction(3,4)"
   ]
  },
  {
   "cell_type": "code",
   "execution_count": 20,
   "id": "83e3bf93",
   "metadata": {},
   "outputs": [],
   "source": [
    "y = Fraction(5,6)"
   ]
  },
  {
   "cell_type": "code",
   "execution_count": 21,
   "id": "7a880243",
   "metadata": {},
   "outputs": [
    {
     "name": "stdout",
     "output_type": "stream",
     "text": [
      "19/12\n"
     ]
    }
   ],
   "source": [
    "print(x+y)"
   ]
  },
  {
   "cell_type": "code",
   "execution_count": null,
   "id": "6ef20f0d",
   "metadata": {},
   "outputs": [],
   "source": []
  }
 ],
 "metadata": {
  "kernelspec": {
   "display_name": "Python 3 (ipykernel)",
   "language": "python",
   "name": "python3"
  },
  "language_info": {
   "codemirror_mode": {
    "name": "ipython",
    "version": 3
   },
   "file_extension": ".py",
   "mimetype": "text/x-python",
   "name": "python",
   "nbconvert_exporter": "python",
   "pygments_lexer": "ipython3",
   "version": "3.9.16"
  }
 },
 "nbformat": 4,
 "nbformat_minor": 5
}
