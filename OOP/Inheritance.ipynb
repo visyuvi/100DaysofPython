{
 "cells": [
  {
   "cell_type": "code",
   "execution_count": 6,
   "id": "239970c1",
   "metadata": {},
   "outputs": [],
   "source": [
    "class  User:\n",
    "    \n",
    "    def login(self):\n",
    "        print(\"Login\")\n",
    "    \n",
    "    def register(self):\n",
    "        print(\"Register\")\n",
    "\n",
    "class Student(User): \n",
    "    \n",
    "      \n",
    "    def enroll(self):\n",
    "        print(\"Enroll\")\n",
    "        \n",
    "        \n",
    "    def review(self):\n",
    "        print(\"Review\")\n",
    "    \n",
    "    "
   ]
  },
  {
   "cell_type": "code",
   "execution_count": 7,
   "id": "825e0c75",
   "metadata": {},
   "outputs": [
    {
     "name": "stdout",
     "output_type": "stream",
     "text": [
      "Enroll\n",
      "Register\n",
      "Review\n",
      "Login\n"
     ]
    }
   ],
   "source": [
    "stu1 = Student()\n",
    "stu1.enroll()\n",
    "stu1.register()\n",
    "stu1.review()\n",
    "stu1.login()\n"
   ]
  },
  {
   "cell_type": "code",
   "execution_count": 20,
   "id": "4fca94ed",
   "metadata": {},
   "outputs": [],
   "source": [
    "class Phone:\n",
    "    def __init__(self,price,brand,camera):\n",
    "        print(\"Inside constructor\")\n",
    "        self.price = price\n",
    "        self.__brand = brand\n",
    "        self.camera = camera\n",
    "        \n",
    "    def buy(self):\n",
    "        print(\"Buying a Phone\")"
   ]
  },
  {
   "cell_type": "code",
   "execution_count": 26,
   "id": "4a7af3d1",
   "metadata": {},
   "outputs": [],
   "source": [
    "class SmartPhone(Phone):\n",
    "    \n",
    "    def __init__(self,os):\n",
    "        print(\"Inside SmartPhone\")\n",
    "        super().__init__(\"100\",\"samsung\",\"10MP\")\n",
    "        self.os = \"ios\"\n",
    "    \n",
    "    def buy(self):\n",
    "        print(\"Buying a smartphone\")\n",
    "    "
   ]
  },
  {
   "cell_type": "code",
   "execution_count": 27,
   "id": "b1525078",
   "metadata": {},
   "outputs": [
    {
     "name": "stdout",
     "output_type": "stream",
     "text": [
      "Inside SmartPhone\n",
      "Inside constructor\n"
     ]
    }
   ],
   "source": [
    "s =  SmartPhone(\"Android\")"
   ]
  },
  {
   "cell_type": "code",
   "execution_count": 29,
   "id": "f749fdbf",
   "metadata": {},
   "outputs": [
    {
     "name": "stdout",
     "output_type": "stream",
     "text": [
      "Buying a smartphone\n"
     ]
    },
    {
     "data": {
      "text/plain": [
       "'10MP'"
      ]
     },
     "execution_count": 29,
     "metadata": {},
     "output_type": "execute_result"
    }
   ],
   "source": [
    "s.buy()\n",
    "s.camera"
   ]
  },
  {
   "cell_type": "code",
   "execution_count": 24,
   "id": "910b6dee",
   "metadata": {},
   "outputs": [],
   "source": [
    "#Method overriding -> Polymorphism\n",
    "#Method overloading\n",
    "#Operator overloading"
   ]
  },
  {
   "cell_type": "code",
   "execution_count": 35,
   "id": "755a68b3",
   "metadata": {},
   "outputs": [],
   "source": [
    "class Parent:\n",
    "    def __init__(self,value):\n",
    "        self.numP=value\n",
    "    \n",
    "class Child(Parent):\n",
    "    def __init__(self,num,val):\n",
    "        super().__init__(num)\n",
    "        \n",
    "        self.numS = val\n",
    "        \n",
    "        "
   ]
  },
  {
   "cell_type": "code",
   "execution_count": 36,
   "id": "a92a75c4",
   "metadata": {},
   "outputs": [
    {
     "name": "stdout",
     "output_type": "stream",
     "text": [
      "10\n"
     ]
    }
   ],
   "source": [
    "dad = Parent(10)\n",
    "print(dad.numP)"
   ]
  },
  {
   "cell_type": "code",
   "execution_count": 37,
   "id": "5a449f58",
   "metadata": {},
   "outputs": [],
   "source": [
    "child = Child(100,1000)"
   ]
  },
  {
   "cell_type": "code",
   "execution_count": 38,
   "id": "2bfd3f79",
   "metadata": {},
   "outputs": [
    {
     "name": "stdout",
     "output_type": "stream",
     "text": [
      "10\n"
     ]
    }
   ],
   "source": [
    "print(dad.numP)"
   ]
  },
  {
   "cell_type": "code",
   "execution_count": 39,
   "id": "9568a995",
   "metadata": {},
   "outputs": [
    {
     "name": "stdout",
     "output_type": "stream",
     "text": [
      "100\n"
     ]
    }
   ],
   "source": [
    "print(child.numP)"
   ]
  },
  {
   "cell_type": "code",
   "execution_count": null,
   "id": "e9a62e5d",
   "metadata": {},
   "outputs": [],
   "source": []
  },
  {
   "cell_type": "code",
   "execution_count": 1,
   "id": "11a57db4",
   "metadata": {},
   "outputs": [],
   "source": [
    "#inheritance in python "
   ]
  },
  {
   "cell_type": "code",
   "execution_count": 2,
   "id": "673a16dc",
   "metadata": {},
   "outputs": [],
   "source": [
    "#single level inheritance - 1 Parent and 1 Child class inheriting Parent class"
   ]
  },
  {
   "cell_type": "code",
   "execution_count": 3,
   "id": "edefaebd",
   "metadata": {},
   "outputs": [],
   "source": [
    "#Multilevel inheritance - Dada <- Papa <- Child "
   ]
  },
  {
   "cell_type": "code",
   "execution_count": 4,
   "id": "c6ec9111",
   "metadata": {},
   "outputs": [],
   "source": [
    "#heirarchical inheritance  1 Parent and multiple Children"
   ]
  },
  {
   "cell_type": "code",
   "execution_count": 5,
   "id": "3310b4fe",
   "metadata": {},
   "outputs": [],
   "source": [
    "#Multiple inheritance - Papa <---Child---> Mummy "
   ]
  },
  {
   "cell_type": "code",
   "execution_count": 6,
   "id": "b72029f1",
   "metadata": {},
   "outputs": [],
   "source": [
    "#hybrid inheritance - combination of above 4"
   ]
  },
  {
   "cell_type": "code",
   "execution_count": 7,
   "id": "c16c9d14",
   "metadata": {},
   "outputs": [],
   "source": [
    "#MRO Method resolution order  "
   ]
  },
  {
   "cell_type": "code",
   "execution_count": null,
   "id": "77cf2c5f",
   "metadata": {},
   "outputs": [],
   "source": []
  }
 ],
 "metadata": {
  "kernelspec": {
   "display_name": "Python 3 (ipykernel)",
   "language": "python",
   "name": "python3"
  },
  "language_info": {
   "codemirror_mode": {
    "name": "ipython",
    "version": 3
   },
   "file_extension": ".py",
   "mimetype": "text/x-python",
   "name": "python",
   "nbconvert_exporter": "python",
   "pygments_lexer": "ipython3",
   "version": "3.9.16"
  }
 },
 "nbformat": 4,
 "nbformat_minor": 5
}
