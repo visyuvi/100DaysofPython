{
 "cells": [
  {
   "cell_type": "code",
   "execution_count": 8,
   "id": "3a0d02d5",
   "metadata": {},
   "outputs": [],
   "source": [
    "L = [1,2,3,4]"
   ]
  },
  {
   "cell_type": "code",
   "execution_count": 9,
   "id": "834de1c3",
   "metadata": {},
   "outputs": [
    {
     "ename": "AttributeError",
     "evalue": "'list' object has no attribute 'upper'",
     "output_type": "error",
     "traceback": [
      "\u001b[0;31m---------------------------------------------------------------------------\u001b[0m",
      "\u001b[0;31mAttributeError\u001b[0m                            Traceback (most recent call last)",
      "\u001b[0;32m/tmp/ipykernel_8622/3930800027.py\u001b[0m in \u001b[0;36m<module>\u001b[0;34m\u001b[0m\n\u001b[0;32m----> 1\u001b[0;31m \u001b[0mL\u001b[0m\u001b[0;34m.\u001b[0m\u001b[0mupper\u001b[0m\u001b[0;34m(\u001b[0m\u001b[0;34m)\u001b[0m\u001b[0;34m\u001b[0m\u001b[0;34m\u001b[0m\u001b[0m\n\u001b[0m",
      "\u001b[0;31mAttributeError\u001b[0m: 'list' object has no attribute 'upper'"
     ]
    }
   ],
   "source": [
    "L.upper()"
   ]
  },
  {
   "cell_type": "code",
   "execution_count": 10,
   "id": "f2d0e07b",
   "metadata": {},
   "outputs": [],
   "source": [
    "city = \"Kolkata\""
   ]
  },
  {
   "cell_type": "code",
   "execution_count": 11,
   "id": "0c422c39",
   "metadata": {},
   "outputs": [
    {
     "ename": "AttributeError",
     "evalue": "'str' object has no attribute 'append'",
     "output_type": "error",
     "traceback": [
      "\u001b[0;31m---------------------------------------------------------------------------\u001b[0m",
      "\u001b[0;31mAttributeError\u001b[0m                            Traceback (most recent call last)",
      "\u001b[0;32m/tmp/ipykernel_8622/3747902233.py\u001b[0m in \u001b[0;36m<module>\u001b[0;34m\u001b[0m\n\u001b[0;32m----> 1\u001b[0;31m \u001b[0mcity\u001b[0m\u001b[0;34m.\u001b[0m\u001b[0mappend\u001b[0m\u001b[0;34m(\u001b[0m\u001b[0;34m\"r\"\u001b[0m\u001b[0;34m)\u001b[0m\u001b[0;34m\u001b[0m\u001b[0;34m\u001b[0m\u001b[0m\n\u001b[0m",
      "\u001b[0;31mAttributeError\u001b[0m: 'str' object has no attribute 'append'"
     ]
    }
   ],
   "source": [
    "city.append(\"r\")"
   ]
  },
  {
   "cell_type": "code",
   "execution_count": 12,
   "id": "0f5a59c3",
   "metadata": {},
   "outputs": [],
   "source": [
    "#everything in python is an object"
   ]
  },
  {
   "cell_type": "code",
   "execution_count": 13,
   "id": "68e71622",
   "metadata": {},
   "outputs": [],
   "source": [
    "#Generality to specificity"
   ]
  },
  {
   "cell_type": "code",
   "execution_count": 14,
   "id": "75bd2399",
   "metadata": {},
   "outputs": [],
   "source": [
    " #An object always belongs to a class"
   ]
  },
  {
   "cell_type": "code",
   "execution_count": 15,
   "id": "a77cf761",
   "metadata": {},
   "outputs": [],
   "source": [
    "L=[1,2,3,4]"
   ]
  },
  {
   "cell_type": "code",
   "execution_count": 16,
   "id": "2800e656",
   "metadata": {},
   "outputs": [
    {
     "data": {
      "text/plain": [
       "list"
      ]
     },
     "execution_count": 16,
     "metadata": {},
     "output_type": "execute_result"
    }
   ],
   "source": [
    "type(L)"
   ]
  },
  {
   "cell_type": "code",
   "execution_count": 17,
   "id": "80220e84",
   "metadata": {},
   "outputs": [],
   "source": [
    "#so one can say class is a data type\n",
    "# and if you  make a variable of that data  type then that is an object. "
   ]
  },
  {
   "cell_type": "code",
   "execution_count": 18,
   "id": "06b2b9cb",
   "metadata": {},
   "outputs": [],
   "source": [
    "L = 4"
   ]
  },
  {
   "cell_type": "code",
   "execution_count": 19,
   "id": "7210cb29",
   "metadata": {},
   "outputs": [],
   "source": [
    "#class is a blueprint of how an object will behave !!"
   ]
  },
  {
   "cell_type": "code",
   "execution_count": 20,
   "id": "8bf7bc47",
   "metadata": {},
   "outputs": [],
   "source": [
    "#Class has two things:- \n",
    "######################\n",
    "# data or property\n",
    "# Functions or behaviors \n"
   ]
  },
  {
   "cell_type": "code",
   "execution_count": 21,
   "id": "64147052",
   "metadata": {},
   "outputs": [],
   "source": [
    "#Class name should be in Pascal case\n",
    "#thisIsPascalCase"
   ]
  },
  {
   "cell_type": "code",
   "execution_count": 22,
   "id": "3fdb1fec",
   "metadata": {},
   "outputs": [],
   "source": [
    "#snake_case (when two words are combined via '_')"
   ]
  },
  {
   "cell_type": "code",
   "execution_count": 23,
   "id": "299bc5f9",
   "metadata": {},
   "outputs": [],
   "source": [
    "#variables / data names / function names  should be in snake_case. "
   ]
  },
  {
   "cell_type": "code",
   "execution_count": 24,
   "id": "6514beac",
   "metadata": {},
   "outputs": [],
   "source": [
    "#for example "
   ]
  },
  {
   "cell_type": "code",
   "execution_count": 25,
   "id": "bdafd932",
   "metadata": {},
   "outputs": [],
   "source": [
    "class Car:\n",
    "    color=\"blue\"\n",
    "    model=\"sports\"\n",
    "    \n",
    "    def calculate_avg_speed():\n",
    "        pass"
   ]
  },
  {
   "cell_type": "code",
   "execution_count": 26,
   "id": "000ae251",
   "metadata": {},
   "outputs": [],
   "source": [
    "#defining an object \n",
    "#For example\n",
    "wagonR = Car()\n",
    "#Creating an object of the Car class."
   ]
  },
  {
   "cell_type": "code",
   "execution_count": 27,
   "id": "6cb3ddbf",
   "metadata": {},
   "outputs": [],
   "source": [
    "L = [1,2,3]\n",
    "#Object literal is available for built in  classes."
   ]
  },
  {
   "cell_type": "code",
   "execution_count": 28,
   "id": "7f28fb97",
   "metadata": {},
   "outputs": [],
   "source": [
    "L = list()"
   ]
  },
  {
   "cell_type": "code",
   "execution_count": 29,
   "id": "a7e78354",
   "metadata": {},
   "outputs": [],
   "source": [
    "city = str()"
   ]
  },
  {
   "cell_type": "code",
   "execution_count": 30,
   "id": "f67a877d",
   "metadata": {},
   "outputs": [
    {
     "data": {
      "text/plain": [
       "''"
      ]
     },
     "execution_count": 30,
     "metadata": {},
     "output_type": "execute_result"
    }
   ],
   "source": [
    "city"
   ]
  },
  {
   "cell_type": "code",
   "execution_count": 31,
   "id": "35914353",
   "metadata": {},
   "outputs": [],
   "source": [
    "#lets make a class for ATM"
   ]
  },
  {
   "cell_type": "code",
   "execution_count": 88,
   "id": "0b7aea69",
   "metadata": {},
   "outputs": [],
   "source": [
    "class Atm:\n",
    "    \n",
    "    #Constructor\n",
    "    #aka magic/special/dunder methods\n",
    "    #It is a special method which  gets called automatically when an object of a class is created\n",
    "    #magic methods are called automatically based on a  given criteria. They are not called with the help of an object\n",
    "    \n",
    "    #instance variable\n",
    "    #Those variables which are made inside constructor. Value of these variables are different for each object.\n",
    "    \n",
    "    def __init__(self):\n",
    "        \n",
    "        #there is no such thing as private in python. You put a __ before the variable that you  want to make it private \n",
    "        #as shown below. These variables __pin and __balance are no visible now to an object of this class:-  \n",
    "        #even methods can be made private using __ before method name as shown below.\n",
    "        \n",
    "        self.__pin = \"\"\n",
    "        self.__balance = 0\n",
    "        print('Hello')\n",
    "        \n",
    "        print(id(self))\n",
    "        \n",
    "        self.__menu()\n",
    "        \n",
    "    def get_pin(self):\n",
    "        return self.__pin\n",
    "    \n",
    "    def set_pin(self,new_pin):\n",
    "        if type(new_pin)== str:\n",
    "            self.__pin = new_pin\n",
    "            print(\"Pin changed\")\n",
    "        else:\n",
    "            print(\"Not allowed\")\n",
    "        \n",
    "    \n",
    "    def __menu(self):\n",
    "        user_input = input(\"\"\"\n",
    "        Hello,how would you like to proceed?\n",
    "        1. Enter 1 to  create pin\n",
    "        2. Enter 2 to deposit \n",
    "        3. Enter 3 to withdraw\n",
    "        4. Enter 4 to check balance\n",
    "        5. Exit\n",
    "          \"\"\")\n",
    "        \n",
    "        if user_input == \"1\":\n",
    "            self.create_pin()\n",
    "        \n",
    "        elif user_input == \"3\":\n",
    "            self.withdraw()\n",
    "            \n",
    "        elif user_input == \"2\":\n",
    "            self.deposit()\n",
    "        \n",
    "        elif user_input == \"4\":\n",
    "            self.check_balance()\n",
    "            \n",
    "        else:\n",
    "            print(\"Bye\")\n",
    "            \n",
    "    def create_pin(self):\n",
    "        self.__pin = input(\"Enter your pin\")\n",
    "        print(\"Pin set successfully\")\n",
    "\n",
    "    \n",
    "    def deposit(self):\n",
    "        temp = input(\"Enter your pin\")\n",
    "        \n",
    "        if temp == self.__pin:\n",
    "            amount = int(input(\"Enter the amount\"))\n",
    "            \n",
    "            self.__balance = self.__balance + amount\n",
    "            print(\"Deposit successful\")\n",
    "        else:\n",
    "            print(\"Invalid pin\")\n",
    "            \n",
    "            \n",
    "    def withdraw(self):\n",
    "        temp = input(\"Enter your pin\")\n",
    "        \n",
    "        if temp == self.__pin:\n",
    "            amount = int(input(\"Enter the amount\"))\n",
    "            \n",
    "            if amount < self.__balance:\n",
    "                self.__balance = self.__balance - amount\n",
    "                print(\"Operation successfull\")\n",
    "                \n",
    "                \n",
    "            else:\n",
    "                print(\"insufficient funds\")\n",
    "        else:\n",
    "            print(\"Invalid pin\")\n",
    "            \n",
    "    def check_balance(self):\n",
    "        temp = input(\"Enter your pin\")\n",
    "        \n",
    "        if temp == self.__pin:\n",
    "                print(self.__balance)\n",
    "        else:\n",
    "            print(\"Invalid pin\")\n",
    "            \n",
    "    #Function vs  Methods\n",
    "    #Method is a function that is defined inside a class and only object of that class can access it.\n",
    "    "
   ]
  },
  {
   "cell_type": "code",
   "execution_count": 89,
   "id": "b1778637",
   "metadata": {},
   "outputs": [
    {
     "name": "stdout",
     "output_type": "stream",
     "text": [
      "Hello\n",
      "139899241386336\n",
      "\n",
      "        Hello,how would you like to proceed?\n",
      "        1. Enter 1 to  create pin\n",
      "        2. Enter 2 to deposit \n",
      "        3. Enter 3 to withdraw\n",
      "        4. Enter 4 to check balance\n",
      "        5. Exit\n",
      "          1\n",
      "Enter your pin1234\n",
      "Pin set successfully\n"
     ]
    }
   ],
   "source": [
    "sbi =  Atm()"
   ]
  },
  {
   "cell_type": "code",
   "execution_count": 87,
   "id": "204868a2",
   "metadata": {},
   "outputs": [
    {
     "name": "stdout",
     "output_type": "stream",
     "text": [
      "Pin changed\n"
     ]
    },
    {
     "data": {
      "text/plain": [
       "'5.6'"
      ]
     },
     "execution_count": 87,
     "metadata": {},
     "output_type": "execute_result"
    }
   ],
   "source": [
    "sbi.set_pin(\"5.6\")\n",
    "sbi.get_pin()\n"
   ]
  },
  {
   "cell_type": "code",
   "execution_count": 35,
   "id": "6e2c3fbe",
   "metadata": {},
   "outputs": [
    {
     "name": "stdout",
     "output_type": "stream",
     "text": [
      "Hello\n",
      "139899242172720\n",
      "\n",
      "        Hello,how would you like to proceed?\n",
      "        1. Enter 1 to  create pin\n",
      "        2. Enter 2 to deposit \n",
      "        3. Enter 3 to withdraw\n",
      "        4. Enter 4 to check balance\n",
      "        5. Exit\n",
      "          \n",
      "Bye\n"
     ]
    }
   ],
   "source": [
    "hdfc = Atm()"
   ]
  },
  {
   "cell_type": "code",
   "execution_count": 71,
   "id": "0a59edb8",
   "metadata": {},
   "outputs": [
    {
     "name": "stdout",
     "output_type": "stream",
     "text": [
      "Enter your pin\n",
      "Enter the amount1234\n"
     ]
    },
    {
     "ename": "TypeError",
     "evalue": "can only concatenate str (not \"int\") to str",
     "output_type": "error",
     "traceback": [
      "\u001b[0;31m---------------------------------------------------------------------------\u001b[0m",
      "\u001b[0;31mTypeError\u001b[0m                                 Traceback (most recent call last)",
      "\u001b[0;32m/tmp/ipykernel_8622/3792524778.py\u001b[0m in \u001b[0;36m<module>\u001b[0;34m\u001b[0m\n\u001b[1;32m      1\u001b[0m \u001b[0msbi\u001b[0m\u001b[0;34m.\u001b[0m\u001b[0m_Atm__balance\u001b[0m\u001b[0;34m=\u001b[0m\u001b[0;34m\"sdswer\"\u001b[0m\u001b[0;34m\u001b[0m\u001b[0;34m\u001b[0m\u001b[0m\n\u001b[0;32m----> 2\u001b[0;31m \u001b[0msbi\u001b[0m\u001b[0;34m.\u001b[0m\u001b[0mdeposit\u001b[0m\u001b[0;34m(\u001b[0m\u001b[0;34m)\u001b[0m\u001b[0;34m\u001b[0m\u001b[0;34m\u001b[0m\u001b[0m\n\u001b[0m",
      "\u001b[0;32m/tmp/ipykernel_8622/3567827325.py\u001b[0m in \u001b[0;36mdeposit\u001b[0;34m(self)\u001b[0m\n\u001b[1;32m     59\u001b[0m             \u001b[0mamount\u001b[0m \u001b[0;34m=\u001b[0m \u001b[0mint\u001b[0m\u001b[0;34m(\u001b[0m\u001b[0minput\u001b[0m\u001b[0;34m(\u001b[0m\u001b[0;34m\"Enter the amount\"\u001b[0m\u001b[0;34m)\u001b[0m\u001b[0;34m)\u001b[0m\u001b[0;34m\u001b[0m\u001b[0;34m\u001b[0m\u001b[0m\n\u001b[1;32m     60\u001b[0m \u001b[0;34m\u001b[0m\u001b[0m\n\u001b[0;32m---> 61\u001b[0;31m             \u001b[0mself\u001b[0m\u001b[0;34m.\u001b[0m\u001b[0m__balance\u001b[0m \u001b[0;34m=\u001b[0m \u001b[0mself\u001b[0m\u001b[0;34m.\u001b[0m\u001b[0m__balance\u001b[0m \u001b[0;34m+\u001b[0m \u001b[0mamount\u001b[0m\u001b[0;34m\u001b[0m\u001b[0;34m\u001b[0m\u001b[0m\n\u001b[0m\u001b[1;32m     62\u001b[0m             \u001b[0mprint\u001b[0m\u001b[0;34m(\u001b[0m\u001b[0;34m\"Deposit successful\"\u001b[0m\u001b[0;34m)\u001b[0m\u001b[0;34m\u001b[0m\u001b[0;34m\u001b[0m\u001b[0m\n\u001b[1;32m     63\u001b[0m         \u001b[0;32melse\u001b[0m\u001b[0;34m:\u001b[0m\u001b[0;34m\u001b[0m\u001b[0;34m\u001b[0m\u001b[0m\n",
      "\u001b[0;31mTypeError\u001b[0m: can only concatenate str (not \"int\") to str"
     ]
    }
   ],
   "source": [
    "sbi._Atm__balance=\"sdswer\"\n",
    "sbi.deposit()\n",
    "\n",
    "#Nothing in python is truly private. Python is for adults!"
   ]
  },
  {
   "cell_type": "code",
   "execution_count": 69,
   "id": "8c36253a",
   "metadata": {},
   "outputs": [
    {
     "name": "stdout",
     "output_type": "stream",
     "text": [
      "sdsf\n"
     ]
    }
   ],
   "source": [
    "sbi.__spider=\"fsdf\"\n",
    "print(sbi.__balance)"
   ]
  },
  {
   "cell_type": "code",
   "execution_count": 36,
   "id": "f564d750",
   "metadata": {},
   "outputs": [
    {
     "name": "stdout",
     "output_type": "stream",
     "text": [
      "Enter your pin\n",
      "0\n"
     ]
    }
   ],
   "source": [
    "hdfc.check_balance()"
   ]
  },
  {
   "cell_type": "code",
   "execution_count": 42,
   "id": "c8afbe67",
   "metadata": {},
   "outputs": [],
   "source": [
    "sbi.balance=\"sousdfsdf\""
   ]
  },
  {
   "cell_type": "code",
   "execution_count": 43,
   "id": "7dc0e7a6",
   "metadata": {},
   "outputs": [
    {
     "name": "stdout",
     "output_type": "stream",
     "text": [
      "Enter your pin1234\n",
      "Enter the amount400\n"
     ]
    },
    {
     "ename": "TypeError",
     "evalue": "can only concatenate str (not \"int\") to str",
     "output_type": "error",
     "traceback": [
      "\u001b[0;31m---------------------------------------------------------------------------\u001b[0m",
      "\u001b[0;31mTypeError\u001b[0m                                 Traceback (most recent call last)",
      "\u001b[0;32m/tmp/ipykernel_8622/3431529112.py\u001b[0m in \u001b[0;36m<module>\u001b[0;34m\u001b[0m\n\u001b[0;32m----> 1\u001b[0;31m \u001b[0msbi\u001b[0m\u001b[0;34m.\u001b[0m\u001b[0mdeposit\u001b[0m\u001b[0;34m(\u001b[0m\u001b[0;34m)\u001b[0m\u001b[0;34m\u001b[0m\u001b[0;34m\u001b[0m\u001b[0m\n\u001b[0m",
      "\u001b[0;32m/tmp/ipykernel_8622/2237202822.py\u001b[0m in \u001b[0;36mdeposit\u001b[0;34m(self)\u001b[0m\n\u001b[1;32m     55\u001b[0m             \u001b[0mamount\u001b[0m \u001b[0;34m=\u001b[0m \u001b[0mint\u001b[0m\u001b[0;34m(\u001b[0m\u001b[0minput\u001b[0m\u001b[0;34m(\u001b[0m\u001b[0;34m\"Enter the amount\"\u001b[0m\u001b[0;34m)\u001b[0m\u001b[0;34m)\u001b[0m\u001b[0;34m\u001b[0m\u001b[0;34m\u001b[0m\u001b[0m\n\u001b[1;32m     56\u001b[0m \u001b[0;34m\u001b[0m\u001b[0m\n\u001b[0;32m---> 57\u001b[0;31m             \u001b[0mself\u001b[0m\u001b[0;34m.\u001b[0m\u001b[0mbalance\u001b[0m \u001b[0;34m=\u001b[0m \u001b[0mself\u001b[0m\u001b[0;34m.\u001b[0m\u001b[0mbalance\u001b[0m \u001b[0;34m+\u001b[0m \u001b[0mamount\u001b[0m\u001b[0;34m\u001b[0m\u001b[0;34m\u001b[0m\u001b[0m\n\u001b[0m\u001b[1;32m     58\u001b[0m             \u001b[0mprint\u001b[0m\u001b[0;34m(\u001b[0m\u001b[0;34m\"Deposit successful\"\u001b[0m\u001b[0;34m)\u001b[0m\u001b[0;34m\u001b[0m\u001b[0;34m\u001b[0m\u001b[0m\n\u001b[1;32m     59\u001b[0m         \u001b[0;32melse\u001b[0m\u001b[0;34m:\u001b[0m\u001b[0;34m\u001b[0m\u001b[0;34m\u001b[0m\u001b[0m\n",
      "\u001b[0;31mTypeError\u001b[0m: can only concatenate str (not \"int\") to str"
     ]
    }
   ],
   "source": [
    "sbi.deposit()"
   ]
  },
  {
   "cell_type": "code",
   "execution_count": 90,
   "id": "8797ca0e",
   "metadata": {},
   "outputs": [],
   "source": [
    "#Reference variable"
   ]
  },
  {
   "cell_type": "code",
   "execution_count": 91,
   "id": "b53e7d06",
   "metadata": {},
   "outputs": [
    {
     "name": "stdout",
     "output_type": "stream",
     "text": [
      "Hello\n",
      "139899231734368\n",
      "\n",
      "        Hello,how would you like to proceed?\n",
      "        1. Enter 1 to  create pin\n",
      "        2. Enter 2 to deposit \n",
      "        3. Enter 3 to withdraw\n",
      "        4. Enter 4 to check balance\n",
      "        5. Exit\n",
      "          \n",
      "Bye\n"
     ]
    },
    {
     "data": {
      "text/plain": [
       "<__main__.Atm at 0x7f3cd4030a60>"
      ]
     },
     "execution_count": 91,
     "metadata": {},
     "output_type": "execute_result"
    }
   ],
   "source": [
    "Atm()"
   ]
  },
  {
   "cell_type": "code",
   "execution_count": 94,
   "id": "2c7607e1",
   "metadata": {},
   "outputs": [
    {
     "name": "stdout",
     "output_type": "stream",
     "text": [
      "Hello\n",
      "139899231735136\n",
      "\n",
      "        Hello,how would you like to proceed?\n",
      "        1. Enter 1 to  create pin\n",
      "        2. Enter 2 to deposit \n",
      "        3. Enter 3 to withdraw\n",
      "        4. Enter 4 to check balance\n",
      "        5. Exit\n",
      "          \n",
      "Bye\n"
     ]
    }
   ],
   "source": [
    "sbi = Atm() # sbi is the reference to Atm() object"
   ]
  },
  {
   "cell_type": "code",
   "execution_count": null,
   "id": "b192cd20",
   "metadata": {},
   "outputs": [],
   "source": []
  }
 ],
 "metadata": {
  "kernelspec": {
   "display_name": "Python 3 (ipykernel)",
   "language": "python",
   "name": "python3"
  },
  "language_info": {
   "codemirror_mode": {
    "name": "ipython",
    "version": 3
   },
   "file_extension": ".py",
   "mimetype": "text/x-python",
   "name": "python",
   "nbconvert_exporter": "python",
   "pygments_lexer": "ipython3",
   "version": "3.9.16"
  }
 },
 "nbformat": 4,
 "nbformat_minor": 5
}
