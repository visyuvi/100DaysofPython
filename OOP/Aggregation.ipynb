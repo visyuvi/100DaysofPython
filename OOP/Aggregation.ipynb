{
 "cells": [
  {
   "cell_type": "code",
   "execution_count": 41,
   "id": "714ccb5e",
   "metadata": {},
   "outputs": [],
   "source": [
    "class Customer:\n",
    "\n",
    "    def __init__(self,name,gender, address):\n",
    "        self.name = name\n",
    "        self.gender = gender\n",
    "        self.address = address\n",
    "        \n",
    "    def edit_profile(self,new_name, new_city, new_pin, new_state):\n",
    "        self.name = new_name\n",
    "        self.address.change_address(new_city,new_pin,new_state)        \n",
    "        \n",
    "        \n",
    "        \n",
    "\n",
    "class Address:\n",
    "    \n",
    "    def __init__(self,city,pincode,state):\n",
    "        self.city = city\n",
    "        self.pincode = pincode\n",
    "        self.state = state\n",
    "\n",
    "    \n",
    "    def change_address(self, new_city,new_pin,new_state):\n",
    "        self.city = new_city\n",
    "        self.pincode = new_pin\n",
    "        self.state = new_state\n",
    "        \n",
    "        \n",
    "        \n"
   ]
  },
  {
   "cell_type": "code",
   "execution_count": 42,
   "id": "c08f0614",
   "metadata": {},
   "outputs": [],
   "source": [
    "add = Address(\"New Delhi\",110030,\"DELHI\")\n",
    "customer = Customer(\"Vishal\",\"Male\",add)"
   ]
  },
  {
   "cell_type": "code",
   "execution_count": 43,
   "id": "6b39f5bd",
   "metadata": {},
   "outputs": [
    {
     "name": "stdout",
     "output_type": "stream",
     "text": [
      "110030\n"
     ]
    }
   ],
   "source": [
    "print(customer.address.pincode)"
   ]
  },
  {
   "cell_type": "code",
   "execution_count": 44,
   "id": "0e1b7a9e",
   "metadata": {},
   "outputs": [],
   "source": [
    "customer.edit_profile(\"Vishal\",\"Gurgaon\",\"122002\",\"haryana\")"
   ]
  },
  {
   "cell_type": "code",
   "execution_count": 46,
   "id": "d24b3a26",
   "metadata": {},
   "outputs": [
    {
     "name": "stdout",
     "output_type": "stream",
     "text": [
      "haryana\n"
     ]
    }
   ],
   "source": [
    "print(customer.address.state)"
   ]
  },
  {
   "cell_type": "code",
   "execution_count": null,
   "id": "17a5fc98",
   "metadata": {},
   "outputs": [],
   "source": []
  }
 ],
 "metadata": {
  "kernelspec": {
   "display_name": "Python 3 (ipykernel)",
   "language": "python",
   "name": "python3"
  },
  "language_info": {
   "codemirror_mode": {
    "name": "ipython",
    "version": 3
   },
   "file_extension": ".py",
   "mimetype": "text/x-python",
   "name": "python",
   "nbconvert_exporter": "python",
   "pygments_lexer": "ipython3",
   "version": "3.9.16"
  }
 },
 "nbformat": 4,
 "nbformat_minor": 5
}
