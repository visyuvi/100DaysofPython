{
 "cells": [
  {
   "cell_type": "code",
   "execution_count": 58,
   "id": "5e35633d",
   "metadata": {},
   "outputs": [],
   "source": [
    "class Fraction:\n",
    "    \n",
    "    def __init__(self,n,d):\n",
    "        self.num = n\n",
    "        self.den = d\n",
    "    \n",
    "    #__str__ function gets called automatically whenever object is printed\n",
    "    \n",
    "    def __str__(self):\n",
    "        return \"{}/{}\".format(self.num,self.den)\n",
    "    \n",
    "    def __add__(self,other):\n",
    "        \n",
    "        temp_num = self.num*other.den + other.num * self.den\n",
    "        temp_den = self.den * other.den\n",
    "        \n",
    "        return \"{}/{}\".format(temp_num,temp_den)\n",
    "    \n",
    "    def __sub__(self,other):\n",
    "        \n",
    "        temp_num = self.num*other.den - other.num * self.den\n",
    "        temp_den = self.den * other.den\n",
    "        \n",
    "        return \"{}/{}\".format(temp_num,temp_den)\n",
    "    \n",
    "    def __mul__(self,other):\n",
    "        \n",
    "        temp_num = self.num*other.num\n",
    "        temp_den = self.den * other.den\n",
    "        \n",
    "        return \"{}/{}\".format(temp_num,temp_den)\n",
    " \n",
    "    def __truediv__(self,other):\n",
    "        \n",
    "        temp_num = self.num*other.den\n",
    "        temp_den = self.den * other.num\n",
    "        \n",
    "        return \"{}/{}\".format(temp_num,temp_den)\n",
    "\n",
    "        \n",
    "         \n",
    "        "
   ]
  },
  {
   "cell_type": "code",
   "execution_count": 59,
   "id": "b1640a16",
   "metadata": {},
   "outputs": [],
   "source": [
    "x = Fraction(4,5)\n",
    "L = [1,2,3,x]"
   ]
  },
  {
   "cell_type": "code",
   "execution_count": 60,
   "id": "df75a2d5",
   "metadata": {},
   "outputs": [
    {
     "data": {
      "text/plain": [
       "__main__.Fraction"
      ]
     },
     "execution_count": 60,
     "metadata": {},
     "output_type": "execute_result"
    }
   ],
   "source": [
    "type(x)"
   ]
  },
  {
   "cell_type": "code",
   "execution_count": 61,
   "id": "bbbd0d4a",
   "metadata": {},
   "outputs": [
    {
     "name": "stdout",
     "output_type": "stream",
     "text": [
      "4/5\n"
     ]
    }
   ],
   "source": [
    "print(x)"
   ]
  },
  {
   "cell_type": "code",
   "execution_count": 62,
   "id": "dbd61b7a",
   "metadata": {},
   "outputs": [],
   "source": [
    "y = Fraction(5,6)"
   ]
  },
  {
   "cell_type": "code",
   "execution_count": 63,
   "id": "4ff206ae",
   "metadata": {},
   "outputs": [
    {
     "name": "stdout",
     "output_type": "stream",
     "text": [
      "5/6\n"
     ]
    }
   ],
   "source": [
    "print(y)"
   ]
  },
  {
   "cell_type": "code",
   "execution_count": 64,
   "id": "0336dd29",
   "metadata": {},
   "outputs": [
    {
     "name": "stdout",
     "output_type": "stream",
     "text": [
      "-1/30\n"
     ]
    }
   ],
   "source": [
    "print(x-y)"
   ]
  },
  {
   "cell_type": "code",
   "execution_count": 65,
   "id": "27e312cd",
   "metadata": {},
   "outputs": [
    {
     "name": "stdout",
     "output_type": "stream",
     "text": [
      "20/30\n"
     ]
    }
   ],
   "source": [
    "print(x*y)"
   ]
  },
  {
   "cell_type": "code",
   "execution_count": 66,
   "id": "5a0897f7",
   "metadata": {},
   "outputs": [
    {
     "name": "stdout",
     "output_type": "stream",
     "text": [
      "24/25\n"
     ]
    }
   ],
   "source": [
    "print(x/y)"
   ]
  },
  {
   "cell_type": "code",
   "execution_count": null,
   "id": "f74ef95d",
   "metadata": {},
   "outputs": [],
   "source": [
    " "
   ]
  }
 ],
 "metadata": {
  "kernelspec": {
   "display_name": "Python 3 (ipykernel)",
   "language": "python",
   "name": "python3"
  },
  "language_info": {
   "codemirror_mode": {
    "name": "ipython",
    "version": 3
   },
   "file_extension": ".py",
   "mimetype": "text/x-python",
   "name": "python",
   "nbconvert_exporter": "python",
   "pygments_lexer": "ipython3",
   "version": "3.9.16"
  }
 },
 "nbformat": 4,
 "nbformat_minor": 5
}
