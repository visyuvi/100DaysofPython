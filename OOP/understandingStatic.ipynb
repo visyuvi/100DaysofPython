{
 "cells": [
  {
   "cell_type": "code",
   "execution_count": 87,
   "id": "a8192590",
   "metadata": {},
   "outputs": [],
   "source": [
    "class Atm:\n",
    "    \n",
    "    #Constructor\n",
    "    #aka magic/special/dunder methods\n",
    "    #It is a special method which  gets called automatically when an object of a class is created\n",
    "    #magic methods are called automatically based on a  given criteria. They are not called with the help of an object\n",
    "    \n",
    "    #instance variable\n",
    "    #Those variables which are made inside constructor. Value of these variables are different for each object.\n",
    "    \n",
    "    #static / class variables are defined outside the constructor as below:-\n",
    "    \n",
    "    __counter = 1\n",
    "    #Basically it is a shared value. \n",
    "\n",
    "    \n",
    "    \n",
    "    def __init__(self):\n",
    "        \n",
    "        #there is no such thing as private in python. You put a __ before the variable that you  want to make it private \n",
    "        #as shown below. These variables __pin and __balance are no visible now to an object of this class:-  \n",
    "        #even methods can be made private using __ before method name as shown below.\n",
    "        \n",
    "        #These are all instance variables\n",
    "        self.__pin = \"\"\n",
    "        self.__balance = 0\n",
    "        \n",
    "        self.sno = 0\n",
    "        \n",
    "        self.sno+= Atm.__counter\n",
    "        \n",
    "        Atm.__counter = Atm.__counter + 1\n",
    "        \n",
    "        print(id(self))\n",
    "        \n",
    "        self.__menu()\n",
    "        \n",
    "    @staticmethod   \n",
    "    def get_counter():\n",
    "        \n",
    "        return Atm.__counter\n",
    "    @staticmethod\n",
    "    def set_counter(new_counter):\n",
    "        \n",
    "        if(type(new_counter)==int):\n",
    "            Atm.__counter = new_counter\n",
    "        else:\n",
    "            print(\"Not allowed\")\n",
    "        \n",
    "        \n",
    "        \n",
    "        \n",
    "    def get_pin(self):\n",
    "        return self.__pin\n",
    "    \n",
    "    def set_pin(self,new_pin):\n",
    "        if type(new_pin)== str:\n",
    "            self.__pin = new_pin\n",
    "            print(\"Pin changed\")\n",
    "        else:\n",
    "            print(\"Not allowed\")\n",
    "        \n",
    "    \n",
    "    def __menu(self):\n",
    "        user_input = input(\"\"\"\n",
    "        Hello,how would you like to proceed?\n",
    "        1. Enter 1 to  create pin\n",
    "        2. Enter 2 to deposit \n",
    "        3. Enter 3 to withdraw\n",
    "        4. Enter 4 to check balance\n",
    "        5. Exit\n",
    "          \"\"\")\n",
    "        \n",
    "        if user_input == \"1\":\n",
    "            self.create_pin()\n",
    "        \n",
    "        elif user_input == \"3\":\n",
    "            self.withdraw()\n",
    "            \n",
    "        elif user_input == \"2\":\n",
    "            self.deposit()\n",
    "        \n",
    "        elif user_input == \"4\":\n",
    "            self.check_balance()\n",
    "            \n",
    "        else:\n",
    "            print(\"Bye\")\n",
    "            \n",
    "    def create_pin(self):\n",
    "        self.__pin = input(\"Enter your pin\")\n",
    "        print(\"Pin set successfully\")\n",
    "\n",
    "    \n",
    "    def deposit(self):\n",
    "        temp = input(\"Enter your pin\")\n",
    "        \n",
    "        if temp == self.__pin:\n",
    "            amount = int(input(\"Enter the amount\"))\n",
    "            \n",
    "            self.__balance = self.__balance + amount\n",
    "            print(\"Deposit successful\")\n",
    "        else:\n",
    "            print(\"Invalid pin\")\n",
    "            \n",
    "            \n",
    "    def withdraw(self):\n",
    "        temp = input(\"Enter your pin\")\n",
    "        \n",
    "        if temp == self.__pin:\n",
    "            amount = int(input(\"Enter the amount\"))\n",
    "            \n",
    "            if amount < self.__balance:\n",
    "                self.__balance = self.__balance - amount\n",
    "                print(\"Operation successfull\")\n",
    "                \n",
    "                \n",
    "            else:\n",
    "                print(\"insufficient funds\")\n",
    "        else:\n",
    "            print(\"Invalid pin\")\n",
    "            \n",
    "    def check_balance(self):\n",
    "        temp = input(\"Enter your pin\")\n",
    "        \n",
    "        if temp == self.__pin:\n",
    "                print(self.__balance)\n",
    "        else:\n",
    "            print(\"Invalid pin\")\n",
    "            \n",
    "    #Function vs  Methods\n",
    "    #Method is a function that is defined inside a class and only object of that class can access it.\n",
    "    "
   ]
  },
  {
   "cell_type": "code",
   "execution_count": 88,
   "id": "48764003",
   "metadata": {},
   "outputs": [
    {
     "name": "stdout",
     "output_type": "stream",
     "text": [
      "140233893107984\n",
      "\n",
      "        Hello,how would you like to proceed?\n",
      "        1. Enter 1 to  create pin\n",
      "        2. Enter 2 to deposit \n",
      "        3. Enter 3 to withdraw\n",
      "        4. Enter 4 to check balance\n",
      "        5. Exit\n",
      "          \n",
      "Bye\n"
     ]
    }
   ],
   "source": [
    "c1 = Atm()"
   ]
  },
  {
   "cell_type": "code",
   "execution_count": 89,
   "id": "d199cbf5",
   "metadata": {},
   "outputs": [
    {
     "data": {
      "text/plain": [
       "1"
      ]
     },
     "execution_count": 89,
     "metadata": {},
     "output_type": "execute_result"
    }
   ],
   "source": [
    "c1.sno"
   ]
  },
  {
   "cell_type": "code",
   "execution_count": 90,
   "id": "d264c994",
   "metadata": {},
   "outputs": [
    {
     "name": "stdout",
     "output_type": "stream",
     "text": [
      "140233886182032\n",
      "\n",
      "        Hello,how would you like to proceed?\n",
      "        1. Enter 1 to  create pin\n",
      "        2. Enter 2 to deposit \n",
      "        3. Enter 3 to withdraw\n",
      "        4. Enter 4 to check balance\n",
      "        5. Exit\n",
      "          \n",
      "Bye\n"
     ]
    }
   ],
   "source": [
    "c2 = Atm()"
   ]
  },
  {
   "cell_type": "code",
   "execution_count": 91,
   "id": "0e8866d1",
   "metadata": {},
   "outputs": [
    {
     "data": {
      "text/plain": [
       "2"
      ]
     },
     "execution_count": 91,
     "metadata": {},
     "output_type": "execute_result"
    }
   ],
   "source": [
    "c2.sno"
   ]
  },
  {
   "cell_type": "code",
   "execution_count": 92,
   "id": "7ebfa62a",
   "metadata": {},
   "outputs": [
    {
     "name": "stdout",
     "output_type": "stream",
     "text": [
      "140233886181648\n",
      "\n",
      "        Hello,how would you like to proceed?\n",
      "        1. Enter 1 to  create pin\n",
      "        2. Enter 2 to deposit \n",
      "        3. Enter 3 to withdraw\n",
      "        4. Enter 4 to check balance\n",
      "        5. Exit\n",
      "          \n",
      "Bye\n"
     ]
    }
   ],
   "source": [
    "c3 = Atm()\n"
   ]
  },
  {
   "cell_type": "code",
   "execution_count": 93,
   "id": "61314569",
   "metadata": {},
   "outputs": [
    {
     "data": {
      "text/plain": [
       "3"
      ]
     },
     "execution_count": 93,
     "metadata": {},
     "output_type": "execute_result"
    }
   ],
   "source": [
    "c3.sno"
   ]
  },
  {
   "cell_type": "code",
   "execution_count": null,
   "id": "7114d976",
   "metadata": {},
   "outputs": [],
   "source": []
  },
  {
   "cell_type": "code",
   "execution_count": 94,
   "id": "ea5dbf4b",
   "metadata": {},
   "outputs": [
    {
     "data": {
      "text/plain": [
       "4"
      ]
     },
     "execution_count": 94,
     "metadata": {},
     "output_type": "execute_result"
    }
   ],
   "source": [
    "c3.get_counter()"
   ]
  },
  {
   "cell_type": "code",
   "execution_count": 95,
   "id": "20ce7200",
   "metadata": {},
   "outputs": [
    {
     "name": "stdout",
     "output_type": "stream",
     "text": [
      "Not allowed\n"
     ]
    }
   ],
   "source": [
    "c3.set_counter(\"1sd\")"
   ]
  },
  {
   "cell_type": "code",
   "execution_count": 96,
   "id": "a93d6712",
   "metadata": {},
   "outputs": [],
   "source": [
    "Atm.set_counter(123)"
   ]
  },
  {
   "cell_type": "code",
   "execution_count": null,
   "id": "01303f6b",
   "metadata": {},
   "outputs": [],
   "source": []
  },
  {
   "cell_type": "code",
   "execution_count": 97,
   "id": "e9d6edf0",
   "metadata": {},
   "outputs": [],
   "source": [
    "#Relationship between classes - Aggregation and Inheritance"
   ]
  },
  {
   "cell_type": "code",
   "execution_count": 98,
   "id": "2cc7e976",
   "metadata": {},
   "outputs": [],
   "source": [
    "#Aggregation means (Has a ),   Inheritance  means (Is  - a )"
   ]
  },
  {
   "cell_type": "code",
   "execution_count": null,
   "id": "9d3b0aa5",
   "metadata": {},
   "outputs": [],
   "source": []
  }
 ],
 "metadata": {
  "kernelspec": {
   "display_name": "Python 3 (ipykernel)",
   "language": "python",
   "name": "python3"
  },
  "language_info": {
   "codemirror_mode": {
    "name": "ipython",
    "version": 3
   },
   "file_extension": ".py",
   "mimetype": "text/x-python",
   "name": "python",
   "nbconvert_exporter": "python",
   "pygments_lexer": "ipython3",
   "version": "3.9.16"
  }
 },
 "nbformat": 4,
 "nbformat_minor": 5
}
