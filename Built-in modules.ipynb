{
 "cells": [
  {
   "cell_type": "code",
   "execution_count": 2,
   "id": "bff5f26a",
   "metadata": {},
   "outputs": [],
   "source": [
    "#module is like a library. It can be a file with many functions\n"
   ]
  },
  {
   "cell_type": "code",
   "execution_count": 3,
   "id": "1793abda",
   "metadata": {},
   "outputs": [],
   "source": [
    "import math"
   ]
  },
  {
   "cell_type": "code",
   "execution_count": 7,
   "id": "d4be3d69",
   "metadata": {},
   "outputs": [
    {
     "data": {
      "text/plain": [
       "3.141592653589793"
      ]
     },
     "execution_count": 7,
     "metadata": {},
     "output_type": "execute_result"
    }
   ],
   "source": [
    "math.pi\n"
   ]
  },
  {
   "cell_type": "code",
   "execution_count": 11,
   "id": "64ea38d5",
   "metadata": {},
   "outputs": [
    {
     "data": {
      "text/plain": [
       "33.0"
      ]
     },
     "execution_count": 11,
     "metadata": {},
     "output_type": "execute_result"
    }
   ],
   "source": [
    "math.pow(33,1)"
   ]
  },
  {
   "cell_type": "code",
   "execution_count": 18,
   "id": "aa5649b1",
   "metadata": {},
   "outputs": [
    {
     "data": {
      "text/plain": [
       "3"
      ]
     },
     "execution_count": 18,
     "metadata": {},
     "output_type": "execute_result"
    }
   ],
   "source": [
    "import random\n",
    "random.randint(1,3)"
   ]
  },
  {
   "cell_type": "code",
   "execution_count": 23,
   "id": "576e7a7e",
   "metadata": {},
   "outputs": [
    {
     "data": {
      "text/plain": [
       "[2, 1, 3, 5, 4]"
      ]
     },
     "execution_count": 23,
     "metadata": {},
     "output_type": "execute_result"
    }
   ],
   "source": [
    "a=[1,2,3,4,5]\n",
    "random.shuffle(a)\n",
    "a"
   ]
  },
  {
   "cell_type": "code",
   "execution_count": 24,
   "id": "18b5e0b2",
   "metadata": {},
   "outputs": [
    {
     "data": {
      "text/plain": [
       "1684665333.5207038"
      ]
     },
     "execution_count": 24,
     "metadata": {},
     "output_type": "execute_result"
    }
   ],
   "source": [
    "import time\n",
    "time.time()"
   ]
  },
  {
   "cell_type": "code",
   "execution_count": 25,
   "id": "f9dee9b6",
   "metadata": {},
   "outputs": [
    {
     "data": {
      "text/plain": [
       "'Sun May 21 16:06:08 2023'"
      ]
     },
     "execution_count": 25,
     "metadata": {},
     "output_type": "execute_result"
    }
   ],
   "source": [
    "time.ctime()"
   ]
  },
  {
   "cell_type": "code",
   "execution_count": 27,
   "id": "8a34d23c",
   "metadata": {},
   "outputs": [
    {
     "name": "stdout",
     "output_type": "stream",
     "text": [
      "Spider\n",
      "man\n"
     ]
    }
   ],
   "source": [
    "print(\"Spider\")\n",
    "time.sleep(1)\n",
    "print(\"man\")"
   ]
  },
  {
   "cell_type": "code",
   "execution_count": 28,
   "id": "06a13089",
   "metadata": {},
   "outputs": [
    {
     "data": {
      "text/plain": [
       "'/home/cdot/Downloads/Python/SELF/100DaysOfPython'"
      ]
     },
     "execution_count": 28,
     "metadata": {},
     "output_type": "execute_result"
    }
   ],
   "source": [
    "import os\n",
    "os.getcwd()"
   ]
  },
  {
   "cell_type": "code",
   "execution_count": 29,
   "id": "42d29382",
   "metadata": {},
   "outputs": [
    {
     "data": {
      "text/plain": [
       "['data-types and comments.ipynb',\n",
       " 'Variables.ipynb',\n",
       " 'break,continue,pass and built-in functions.ipynb',\n",
       " 'Keywords-and-identifierrs.ipynb',\n",
       " 'Built-in modules.ipynb',\n",
       " 'Guessing game in python.ipynb',\n",
       " 'README.txt',\n",
       " '.ipynb_checkpoints',\n",
       " 'print-function.ipynb',\n",
       " 'While loop.ipynb',\n",
       " 'user-input-and-type-conversion.ipynb',\n",
       " 'For-loops and nested -loops.ipynb',\n",
       " '.gitignore',\n",
       " 'If-else-statements and indentation.ipynb',\n",
       " '.git',\n",
       " 'Literals and operators.ipynb']"
      ]
     },
     "execution_count": 29,
     "metadata": {},
     "output_type": "execute_result"
    }
   ],
   "source": [
    "os.listdir()"
   ]
  },
  {
   "cell_type": "code",
   "execution_count": null,
   "id": "7b14b8ab",
   "metadata": {},
   "outputs": [],
   "source": []
  }
 ],
 "metadata": {
  "kernelspec": {
   "display_name": "Python 3 (ipykernel)",
   "language": "python",
   "name": "python3"
  },
  "language_info": {
   "codemirror_mode": {
    "name": "ipython",
    "version": 3
   },
   "file_extension": ".py",
   "mimetype": "text/x-python",
   "name": "python",
   "nbconvert_exporter": "python",
   "pygments_lexer": "ipython3",
   "version": "3.9.16"
  }
 },
 "nbformat": 4,
 "nbformat_minor": 5
}
