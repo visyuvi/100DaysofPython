{
 "cells": [
  {
   "cell_type": "code",
   "execution_count": 11,
   "id": "295bd3a1",
   "metadata": {},
   "outputs": [],
   "source": [
    "L = [x for  x in range(1,1000000)]"
   ]
  },
  {
   "cell_type": "code",
   "execution_count": 14,
   "id": "ba4dcf1d",
   "metadata": {},
   "outputs": [
    {
     "data": {
      "text/plain": [
       "48"
      ]
     },
     "execution_count": 14,
     "metadata": {},
     "output_type": "execute_result"
    }
   ],
   "source": [
    "# for i in L:\n",
    "#     print(i**2)\n",
    "    \n",
    "import sys\n",
    "sys.getsizeof(L)\n",
    "\n",
    "x = range(100000)\n",
    "\n",
    "sys.getsizeof(x)"
   ]
  },
  {
   "cell_type": "code",
   "execution_count": 16,
   "id": "b0dbd2ce",
   "metadata": {},
   "outputs": [],
   "source": [
    "#what is a generator?\n",
    "#It is an easy way to create an iterator "
   ]
  },
  {
   "cell_type": "markdown",
   "id": "a8ffb5e5",
   "metadata": {},
   "source": [
    "## A simple Example"
   ]
  },
  {
   "cell_type": "code",
   "execution_count": 22,
   "id": "4837bb1a",
   "metadata": {},
   "outputs": [],
   "source": [
    "#A generator doesn't have a return statement. It has a yield statement\n",
    "\n",
    "def gen_demo():\n",
    "    \n",
    "    yield \"First statment\"\n",
    "    yield \"Second statement\"\n",
    "    yield \"third statement\""
   ]
  },
  {
   "cell_type": "code",
   "execution_count": 26,
   "id": "f22b56c8",
   "metadata": {},
   "outputs": [
    {
     "name": "stdout",
     "output_type": "stream",
     "text": [
      "First statment\n",
      "Second statement\n",
      "third statement\n"
     ]
    },
    {
     "ename": "StopIteration",
     "evalue": "",
     "output_type": "error",
     "traceback": [
      "\u001b[0;31m---------------------------------------------------------------------------\u001b[0m",
      "\u001b[0;31mStopIteration\u001b[0m                             Traceback (most recent call last)",
      "Cell \u001b[0;32mIn[26], line 6\u001b[0m\n\u001b[1;32m      4\u001b[0m \u001b[38;5;28mprint\u001b[39m(\u001b[38;5;28mnext\u001b[39m(gen))\n\u001b[1;32m      5\u001b[0m \u001b[38;5;28mprint\u001b[39m(\u001b[38;5;28mnext\u001b[39m(gen))\n\u001b[0;32m----> 6\u001b[0m \u001b[38;5;28mprint\u001b[39m(\u001b[38;5;28;43mnext\u001b[39;49m\u001b[43m(\u001b[49m\u001b[43mgen\u001b[49m\u001b[43m)\u001b[49m)\n\u001b[1;32m      8\u001b[0m \u001b[38;5;28;01mfor\u001b[39;00m i \u001b[38;5;129;01min\u001b[39;00m gen:\n\u001b[1;32m      9\u001b[0m     \u001b[38;5;28mprint\u001b[39m(i)\n",
      "\u001b[0;31mStopIteration\u001b[0m: "
     ]
    }
   ],
   "source": [
    "gen = gen_demo()\n",
    "dir(gen)\n",
    "print(next(gen))\n",
    "print(next(gen))\n",
    "print(next(gen))\n",
    "print(next(gen))\n",
    "\n",
    "for i in gen:\n",
    "    print(i)"
   ]
  },
  {
   "cell_type": "markdown",
   "id": "e527e559",
   "metadata": {},
   "source": [
    "## Example 2 "
   ]
  },
  {
   "cell_type": "code",
   "execution_count": 28,
   "id": "60288a10",
   "metadata": {},
   "outputs": [],
   "source": [
    "def square(num):\n",
    "    for i in range(1,num):\n",
    "        yield i**2\n",
    "        "
   ]
  },
  {
   "cell_type": "code",
   "execution_count": 38,
   "id": "aa1ff2c4",
   "metadata": {},
   "outputs": [
    {
     "name": "stdout",
     "output_type": "stream",
     "text": [
      "1\n",
      "4\n",
      "spider\n",
      "9\n",
      "16\n",
      "25\n",
      "36\n",
      "49\n",
      "64\n",
      "81\n"
     ]
    }
   ],
   "source": [
    "gen = square(10)\n",
    "\n",
    "print(next(gen))\n",
    "print(next(gen))\n",
    "\n",
    "print (\"spider\")\n",
    "\n",
    "for i in gen:\n",
    "    print(i)"
   ]
  },
  {
   "cell_type": "markdown",
   "id": "1c26d06d",
   "metadata": {},
   "source": [
    "# Range function using Generator"
   ]
  },
  {
   "cell_type": "code",
   "execution_count": 39,
   "id": "b59d8dff",
   "metadata": {},
   "outputs": [],
   "source": [
    "def mera_range(start,end):\n",
    "    \n",
    "    for i in range(start,end):\n",
    "        yield i"
   ]
  },
  {
   "cell_type": "code",
   "execution_count": 40,
   "id": "2431f71d",
   "metadata": {},
   "outputs": [],
   "source": [
    "gen = mera_range(15,36)"
   ]
  },
  {
   "cell_type": "code",
   "execution_count": 41,
   "id": "19e50c57",
   "metadata": {},
   "outputs": [
    {
     "name": "stdout",
     "output_type": "stream",
     "text": [
      "15\n",
      "16\n",
      "17\n",
      "18\n",
      "19\n",
      "20\n",
      "21\n",
      "22\n",
      "23\n",
      "24\n",
      "25\n",
      "26\n",
      "27\n",
      "28\n",
      "29\n",
      "30\n",
      "31\n",
      "32\n",
      "33\n",
      "34\n",
      "35\n"
     ]
    }
   ],
   "source": [
    "for i in gen:\n",
    "    print(i)"
   ]
  },
  {
   "cell_type": "markdown",
   "id": "2dd837db",
   "metadata": {},
   "source": [
    "# Generator expression"
   ]
  },
  {
   "cell_type": "code",
   "execution_count": 44,
   "id": "4fb44e8c",
   "metadata": {},
   "outputs": [],
   "source": [
    "#list comprehension\n",
    "L = [ i**2 for i in range(1,101)]"
   ]
  },
  {
   "cell_type": "code",
   "execution_count": 45,
   "id": "d0fd2c16",
   "metadata": {},
   "outputs": [
    {
     "data": {
      "text/plain": [
       "[1,\n",
       " 4,\n",
       " 9,\n",
       " 16,\n",
       " 25,\n",
       " 36,\n",
       " 49,\n",
       " 64,\n",
       " 81,\n",
       " 100,\n",
       " 121,\n",
       " 144,\n",
       " 169,\n",
       " 196,\n",
       " 225,\n",
       " 256,\n",
       " 289,\n",
       " 324,\n",
       " 361,\n",
       " 400,\n",
       " 441,\n",
       " 484,\n",
       " 529,\n",
       " 576,\n",
       " 625,\n",
       " 676,\n",
       " 729,\n",
       " 784,\n",
       " 841,\n",
       " 900,\n",
       " 961,\n",
       " 1024,\n",
       " 1089,\n",
       " 1156,\n",
       " 1225,\n",
       " 1296,\n",
       " 1369,\n",
       " 1444,\n",
       " 1521,\n",
       " 1600,\n",
       " 1681,\n",
       " 1764,\n",
       " 1849,\n",
       " 1936,\n",
       " 2025,\n",
       " 2116,\n",
       " 2209,\n",
       " 2304,\n",
       " 2401,\n",
       " 2500,\n",
       " 2601,\n",
       " 2704,\n",
       " 2809,\n",
       " 2916,\n",
       " 3025,\n",
       " 3136,\n",
       " 3249,\n",
       " 3364,\n",
       " 3481,\n",
       " 3600,\n",
       " 3721,\n",
       " 3844,\n",
       " 3969,\n",
       " 4096,\n",
       " 4225,\n",
       " 4356,\n",
       " 4489,\n",
       " 4624,\n",
       " 4761,\n",
       " 4900,\n",
       " 5041,\n",
       " 5184,\n",
       " 5329,\n",
       " 5476,\n",
       " 5625,\n",
       " 5776,\n",
       " 5929,\n",
       " 6084,\n",
       " 6241,\n",
       " 6400,\n",
       " 6561,\n",
       " 6724,\n",
       " 6889,\n",
       " 7056,\n",
       " 7225,\n",
       " 7396,\n",
       " 7569,\n",
       " 7744,\n",
       " 7921,\n",
       " 8100,\n",
       " 8281,\n",
       " 8464,\n",
       " 8649,\n",
       " 8836,\n",
       " 9025,\n",
       " 9216,\n",
       " 9409,\n",
       " 9604,\n",
       " 9801,\n",
       " 10000]"
      ]
     },
     "execution_count": 45,
     "metadata": {},
     "output_type": "execute_result"
    }
   ],
   "source": [
    "L"
   ]
  },
  {
   "cell_type": "code",
   "execution_count": 47,
   "id": "fa7380b7",
   "metadata": {},
   "outputs": [],
   "source": [
    "gen = (i**2 for i in range(1,101))"
   ]
  },
  {
   "cell_type": "code",
   "execution_count": 48,
   "id": "d77ec7b7",
   "metadata": {},
   "outputs": [
    {
     "name": "stdout",
     "output_type": "stream",
     "text": [
      "1\n",
      "4\n",
      "9\n",
      "16\n",
      "25\n",
      "36\n",
      "49\n",
      "64\n",
      "81\n",
      "100\n",
      "121\n",
      "144\n",
      "169\n",
      "196\n",
      "225\n",
      "256\n",
      "289\n",
      "324\n",
      "361\n",
      "400\n",
      "441\n",
      "484\n",
      "529\n",
      "576\n",
      "625\n",
      "676\n",
      "729\n",
      "784\n",
      "841\n",
      "900\n",
      "961\n",
      "1024\n",
      "1089\n",
      "1156\n",
      "1225\n",
      "1296\n",
      "1369\n",
      "1444\n",
      "1521\n",
      "1600\n",
      "1681\n",
      "1764\n",
      "1849\n",
      "1936\n",
      "2025\n",
      "2116\n",
      "2209\n",
      "2304\n",
      "2401\n",
      "2500\n",
      "2601\n",
      "2704\n",
      "2809\n",
      "2916\n",
      "3025\n",
      "3136\n",
      "3249\n",
      "3364\n",
      "3481\n",
      "3600\n",
      "3721\n",
      "3844\n",
      "3969\n",
      "4096\n",
      "4225\n",
      "4356\n",
      "4489\n",
      "4624\n",
      "4761\n",
      "4900\n",
      "5041\n",
      "5184\n",
      "5329\n",
      "5476\n",
      "5625\n",
      "5776\n",
      "5929\n",
      "6084\n",
      "6241\n",
      "6400\n",
      "6561\n",
      "6724\n",
      "6889\n",
      "7056\n",
      "7225\n",
      "7396\n",
      "7569\n",
      "7744\n",
      "7921\n",
      "8100\n",
      "8281\n",
      "8464\n",
      "8649\n",
      "8836\n",
      "9025\n",
      "9216\n",
      "9409\n",
      "9604\n",
      "9801\n",
      "10000\n"
     ]
    }
   ],
   "source": [
    "for i in gen:\n",
    "    print(i)"
   ]
  },
  {
   "cell_type": "markdown",
   "id": "a1c26c1a",
   "metadata": {},
   "source": [
    "# Practical Example"
   ]
  },
  {
   "cell_type": "code",
   "execution_count": 2,
   "id": "d648c546",
   "metadata": {},
   "outputs": [
    {
     "name": "stdout",
     "output_type": "stream",
     "text": [
      "Collecting opencv-python\n",
      "  Using cached opencv_python-4.7.0.72-cp37-abi3-manylinux_2_17_x86_64.manylinux2014_x86_64.whl (61.8 MB)\n",
      "Requirement already satisfied: numpy>=1.21.2 in /root/anaconda3/lib/python3.10/site-packages (from opencv-python) (1.23.5)\n",
      "Installing collected packages: opencv-python\n",
      "Successfully installed opencv-python-4.7.0.72\n",
      "\u001b[33mWARNING: Running pip as the 'root' user can result in broken permissions and conflicting behaviour with the system package manager. It is recommended to use a virtual environment instead: https://pip.pypa.io/warnings/venv\u001b[0m\u001b[33m\n",
      "\u001b[0m"
     ]
    }
   ],
   "source": [
    "!pip install  opencv-python"
   ]
  },
  {
   "cell_type": "code",
   "execution_count": 3,
   "id": "07fa24a9",
   "metadata": {},
   "outputs": [],
   "source": [
    "import os\n",
    "import cv2\n",
    "\n",
    "def image_data_reader(folder_path):\n",
    "    \n",
    "    for file in os.listdir(folder_path):\n",
    "        f_array = cv2.imread(os.path.join(folder_path,file))\n",
    "        yield f_array"
   ]
  },
  {
   "cell_type": "code",
   "execution_count": 4,
   "id": "426436d9",
   "metadata": {},
   "outputs": [],
   "source": [
    "\n",
    "gen = image_data_reader('/home/cdot/Downloads/ML/Projects/BollywoodCelebPredictor/data/Rajkummar_Rao')"
   ]
  },
  {
   "cell_type": "code",
   "execution_count": 5,
   "id": "ec64bc50",
   "metadata": {},
   "outputs": [
    {
     "data": {
      "text/plain": [
       "array([[[ 34,  20,  22],\n",
       "        [ 38,  26,  26],\n",
       "        [ 48,  36,  34],\n",
       "        ...,\n",
       "        [232, 221, 147],\n",
       "        [187, 176, 108],\n",
       "        [159, 150,  83]],\n",
       "\n",
       "       [[ 44,  30,  32],\n",
       "        [ 47,  34,  36],\n",
       "        [ 49,  40,  37],\n",
       "        ...,\n",
       "        [240, 228, 156],\n",
       "        [195, 184, 116],\n",
       "        [163, 154,  86]],\n",
       "\n",
       "       [[ 51,  37,  41],\n",
       "        [ 50,  37,  39],\n",
       "        [ 49,  41,  41],\n",
       "        ...,\n",
       "        [207, 195, 125],\n",
       "        [178, 168,  98],\n",
       "        [137, 129,  59]],\n",
       "\n",
       "       ...,\n",
       "\n",
       "       [[104, 105, 166],\n",
       "        [110, 113, 174],\n",
       "        [119, 124, 187],\n",
       "        ...,\n",
       "        [212, 206, 135],\n",
       "        [183, 177, 106],\n",
       "        [165, 159,  88]],\n",
       "\n",
       "       [[106, 105, 169],\n",
       "        [110, 110, 174],\n",
       "        [118, 123, 184],\n",
       "        ...,\n",
       "        [241, 235, 164],\n",
       "        [195, 189, 118],\n",
       "        [186, 180, 107]],\n",
       "\n",
       "       [[103, 101, 167],\n",
       "        [113, 113, 177],\n",
       "        [122, 125, 186],\n",
       "        ...,\n",
       "        [217, 211, 140],\n",
       "        [176, 170,  97],\n",
       "        [154, 148,  75]]], dtype=uint8)"
      ]
     },
     "execution_count": 5,
     "metadata": {},
     "output_type": "execute_result"
    }
   ],
   "source": [
    "next(gen)"
   ]
  },
  {
   "cell_type": "markdown",
   "id": "feb516fd",
   "metadata": {},
   "source": [
    "## Benefits of using a generator"
   ]
  },
  {
   "cell_type": "code",
   "execution_count": 9,
   "id": "b07780ce",
   "metadata": {},
   "outputs": [],
   "source": [
    "#1. Ease of implementation\n",
    "#2. Memory Efficient\n",
    "#3. Representing infinite streams\n",
    "#4. Chaining Generators"
   ]
  },
  {
   "cell_type": "code",
   "execution_count": null,
   "id": "885c34ba",
   "metadata": {},
   "outputs": [],
   "source": []
  }
 ],
 "metadata": {
  "kernelspec": {
   "display_name": "Python 3 (ipykernel)",
   "language": "python",
   "name": "python3"
  },
  "language_info": {
   "codemirror_mode": {
    "name": "ipython",
    "version": 3
   },
   "file_extension": ".py",
   "mimetype": "text/x-python",
   "name": "python",
   "nbconvert_exporter": "python",
   "pygments_lexer": "ipython3",
   "version": "3.10.9"
  }
 },
 "nbformat": 4,
 "nbformat_minor": 5
}
