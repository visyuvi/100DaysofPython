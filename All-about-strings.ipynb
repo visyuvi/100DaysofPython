{
 "cells": [
  {
   "cell_type": "code",
   "execution_count": 9,
   "id": "6f034a44",
   "metadata": {},
   "outputs": [
    {
     "name": "stdout",
     "output_type": "stream",
     "text": [
      "hello\n"
     ]
    }
   ],
   "source": [
    "print(\"hello\")"
   ]
  },
  {
   "cell_type": "code",
   "execution_count": 13,
   "id": "1524ec15",
   "metadata": {},
   "outputs": [],
   "source": [
    "c=\"world\"\n",
    "#positive and negative indexing in strings"
   ]
  },
  {
   "cell_type": "code",
   "execution_count": 14,
   "id": "cb4dccfa",
   "metadata": {},
   "outputs": [
    {
     "name": "stdout",
     "output_type": "stream",
     "text": [
      "w\n"
     ]
    }
   ],
   "source": [
    "print(c[0])"
   ]
  },
  {
   "cell_type": "code",
   "execution_count": 15,
   "id": "35b75097",
   "metadata": {},
   "outputs": [],
   "source": [
    "#slicing"
   ]
  },
  {
   "cell_type": "code",
   "execution_count": 16,
   "id": "ca19be92",
   "metadata": {},
   "outputs": [
    {
     "name": "stdout",
     "output_type": "stream",
     "text": [
      "Hell\n"
     ]
    }
   ],
   "source": [
    "c = \"Hello-world\"\n",
    "print(c[0:4])"
   ]
  },
  {
   "cell_type": "code",
   "execution_count": 17,
   "id": "98f566f0",
   "metadata": {},
   "outputs": [
    {
     "name": "stdout",
     "output_type": "stream",
     "text": [
      "Hello-worl\n"
     ]
    }
   ],
   "source": [
    "print(c[:-1])"
   ]
  },
  {
   "cell_type": "code",
   "execution_count": 18,
   "id": "92fc7d11",
   "metadata": {},
   "outputs": [],
   "source": [
    "#python strings are immutable\n"
   ]
  },
  {
   "cell_type": "code",
   "execution_count": 19,
   "id": "39aa2ec7",
   "metadata": {},
   "outputs": [],
   "source": [
    "#Deletion"
   ]
  },
  {
   "cell_type": "code",
   "execution_count": null,
   "id": "7c9700ad",
   "metadata": {},
   "outputs": [],
   "source": [
    "\n"
   ]
  },
  {
   "cell_type": "code",
   "execution_count": 24,
   "id": "652e5abe",
   "metadata": {},
   "outputs": [
    {
     "data": {
      "text/plain": [
       "'this is tom tom with star'"
      ]
     },
     "execution_count": 24,
     "metadata": {},
     "output_type": "execute_result"
    }
   ],
   "source": [
    "#format\n",
    "\"this is tom {} with {}\".format(\"tom\",\"star\")"
   ]
  },
  {
   "cell_type": "code",
   "execution_count": 31,
   "id": "ba138f10",
   "metadata": {},
   "outputs": [
    {
     "data": {
      "text/plain": [
       "True"
      ]
     },
     "execution_count": 31,
     "metadata": {},
     "output_type": "execute_result"
    }
   ],
   "source": [
    "\"hell_sdf\".isidentifier()"
   ]
  },
  {
   "cell_type": "code",
   "execution_count": 36,
   "id": "e5f28cfa",
   "metadata": {},
   "outputs": [
    {
     "data": {
      "text/plain": [
       "['who', 'is', 'tom', 'star']"
      ]
     },
     "execution_count": 36,
     "metadata": {},
     "output_type": "execute_result"
    }
   ],
   "source": [
    "\"who is tom star\".split()"
   ]
  },
  {
   "cell_type": "code",
   "execution_count": 40,
   "id": "7afd7653",
   "metadata": {},
   "outputs": [
    {
     "data": {
      "text/plain": [
       "'whospiderisspidertomspiderstar'"
      ]
     },
     "execution_count": 40,
     "metadata": {},
     "output_type": "execute_result"
    }
   ],
   "source": [
    "\"spider\".join(['who', 'is', 'tom', 'star'])"
   ]
  },
  {
   "cell_type": "code",
   "execution_count": null,
   "id": "79fad6f1",
   "metadata": {},
   "outputs": [],
   "source": []
  }
 ],
 "metadata": {
  "kernelspec": {
   "display_name": "Python 3 (ipykernel)",
   "language": "python",
   "name": "python3"
  },
  "language_info": {
   "codemirror_mode": {
    "name": "ipython",
    "version": 3
   },
   "file_extension": ".py",
   "mimetype": "text/x-python",
   "name": "python",
   "nbconvert_exporter": "python",
   "pygments_lexer": "ipython3",
   "version": "3.9.16"
  }
 },
 "nbformat": 4,
 "nbformat_minor": 5
}
