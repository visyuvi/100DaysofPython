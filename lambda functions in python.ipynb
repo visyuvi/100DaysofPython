{
 "cells": [
  {
   "cell_type": "code",
   "execution_count": 2,
   "id": "1308a45c",
   "metadata": {},
   "outputs": [],
   "source": [
    "#these functions are written in 1 line.\n",
    "# They don't have a name "
   ]
  },
  {
   "cell_type": "code",
   "execution_count": 9,
   "id": "968b12d1",
   "metadata": {},
   "outputs": [],
   "source": [
    "#x = lambda   input :   expression\n",
    "x = lambda     x    :    x**2"
   ]
  },
  {
   "cell_type": "code",
   "execution_count": 10,
   "id": "06743222",
   "metadata": {},
   "outputs": [
    {
     "data": {
      "text/plain": [
       "81"
      ]
     },
     "execution_count": 10,
     "metadata": {},
     "output_type": "execute_result"
    }
   ],
   "source": [
    "x(9)"
   ]
  },
  {
   "cell_type": "code",
   "execution_count": 11,
   "id": "eda61492",
   "metadata": {},
   "outputs": [],
   "source": [
    "a = lambda x,y : x + y"
   ]
  },
  {
   "cell_type": "code",
   "execution_count": 12,
   "id": "2ef7235f",
   "metadata": {},
   "outputs": [
    {
     "data": {
      "text/plain": [
       "10.5"
      ]
     },
     "execution_count": 12,
     "metadata": {},
     "output_type": "execute_result"
    }
   ],
   "source": [
    "a(4.5,6)"
   ]
  },
  {
   "cell_type": "code",
   "execution_count": 14,
   "id": "c90473ff",
   "metadata": {},
   "outputs": [
    {
     "data": {
      "text/plain": [
       "function"
      ]
     },
     "execution_count": 14,
     "metadata": {},
     "output_type": "execute_result"
    }
   ],
   "source": [
    "type(a)"
   ]
  },
  {
   "cell_type": "code",
   "execution_count": 13,
   "id": "811cd4fd",
   "metadata": {},
   "outputs": [],
   "source": [
    "#difference"
   ]
  },
  {
   "cell_type": "code",
   "execution_count": 17,
   "id": "a74b3ff5",
   "metadata": {},
   "outputs": [],
   "source": [
    "#1. lambda has no return value. Instead, complete function is  returned as shown above using type(a)\n",
    "#2. Lambda function is a one line function\n",
    "#3. Not used for code reusability \n",
    "#4. No name unlike a normal function"
   ]
  },
  {
   "cell_type": "code",
   "execution_count": 22,
   "id": "d8e813e2",
   "metadata": {},
   "outputs": [],
   "source": [
    "#why should you  use a lambda function ?\n",
    "#Lambda functions are used along with higher order functions\n",
    "#higher order functions characteristics:-\n",
    " #1. They take functions as input\n",
    " #2. Their return value is also a function.\n",
    "\n",
    "#but why use  higher order functions? Discussed later "
   ]
  },
  {
   "cell_type": "code",
   "execution_count": 33,
   "id": "c8d7e7e7",
   "metadata": {},
   "outputs": [],
   "source": [
    "#more examples of lambda functions:-\n",
    "b = lambda x: x[0] == 'a'"
   ]
  },
  {
   "cell_type": "code",
   "execution_count": 34,
   "id": "0280fbde",
   "metadata": {},
   "outputs": [
    {
     "data": {
      "text/plain": [
       "False"
      ]
     },
     "execution_count": 34,
     "metadata": {},
     "output_type": "execute_result"
    }
   ],
   "source": [
    "b('banana')"
   ]
  },
  {
   "cell_type": "code",
   "execution_count": 35,
   "id": "45c1cb3b",
   "metadata": {},
   "outputs": [],
   "source": [
    "b = lambda x: \"Even\" if x%2==0 else \"Odd\" #using if else in lambda functions"
   ]
  },
  {
   "cell_type": "code",
   "execution_count": 36,
   "id": "29aaafaa",
   "metadata": {},
   "outputs": [
    {
     "data": {
      "text/plain": [
       "'Odd'"
      ]
     },
     "execution_count": 36,
     "metadata": {},
     "output_type": "execute_result"
    }
   ],
   "source": [
    "b(61)"
   ]
  },
  {
   "cell_type": "code",
   "execution_count": 46,
   "id": "1298f078",
   "metadata": {},
   "outputs": [],
   "source": [
    "#Let's discuss HOF\n",
    "#Let's create our own HOF"
   ]
  },
  {
   "cell_type": "code",
   "execution_count": 47,
   "id": "b1c2c3c3",
   "metadata": {},
   "outputs": [],
   "source": [
    "L = [11,14,21,23,56,78,45,29,28]"
   ]
  },
  {
   "cell_type": "code",
   "execution_count": 48,
   "id": "f5dd0428",
   "metadata": {},
   "outputs": [],
   "source": [
    "def return_sum(func,L):\n",
    "    result = 0\n",
    "    for i in L:\n",
    "        if func(i)==True:\n",
    "            result = result + i\n",
    "    \n",
    "    return  result "
   ]
  },
  {
   "cell_type": "code",
   "execution_count": 49,
   "id": "d48c0451",
   "metadata": {},
   "outputs": [],
   "source": [
    "x = lambda x: x%2==0\n",
    "y = lambda x: x%2!=0\n",
    "z = lambda x: x%3==0"
   ]
  },
  {
   "cell_type": "code",
   "execution_count": 50,
   "id": "64960133",
   "metadata": {},
   "outputs": [
    {
     "name": "stdout",
     "output_type": "stream",
     "text": [
      "176\n",
      "129\n",
      "144\n"
     ]
    }
   ],
   "source": [
    "print(return_sum(x,L))\n",
    "print(return_sum(y,L))\n",
    "print(return_sum(z,L))"
   ]
  },
  {
   "cell_type": "code",
   "execution_count": 52,
   "id": "68a2c45d",
   "metadata": {},
   "outputs": [],
   "source": [
    "#Map\n",
    "#Filter\n",
    "#Reduce\n",
    "#These are built in  HOF in python"
   ]
  },
  {
   "cell_type": "code",
   "execution_count": 54,
   "id": "45d413c1",
   "metadata": {},
   "outputs": [],
   "source": [
    "#Map"
   ]
  },
  {
   "cell_type": "code",
   "execution_count": 55,
   "id": "99f58a43",
   "metadata": {},
   "outputs": [],
   "source": [
    "L = [1,2,3,4,5,6,7]"
   ]
  },
  {
   "cell_type": "code",
   "execution_count": 56,
   "id": "94f9f627",
   "metadata": {},
   "outputs": [
    {
     "data": {
      "text/plain": [
       "[1, 2, 3, 4, 5, 6, 7]"
      ]
     },
     "execution_count": 56,
     "metadata": {},
     "output_type": "execute_result"
    }
   ],
   "source": [
    "L"
   ]
  },
  {
   "cell_type": "code",
   "execution_count": 61,
   "id": "f09bcdff",
   "metadata": {},
   "outputs": [
    {
     "data": {
      "text/plain": [
       "<map at 0x7f1ab9bacf40>"
      ]
     },
     "execution_count": 61,
     "metadata": {},
     "output_type": "execute_result"
    }
   ],
   "source": [
    "#map (         func    ,   input        )\n",
    "map  (lambda x: x*2    ,      L         )"
   ]
  },
  {
   "cell_type": "code",
   "execution_count": 64,
   "id": "d5f5ae91",
   "metadata": {},
   "outputs": [
    {
     "data": {
      "text/plain": [
       "[2, 4, 6, 8, 10, 12, 14]"
      ]
     },
     "execution_count": 64,
     "metadata": {},
     "output_type": "execute_result"
    }
   ],
   "source": [
    "list(map  (lambda x: x*2    ,      L         ))"
   ]
  },
  {
   "cell_type": "code",
   "execution_count": 66,
   "id": "a361698c",
   "metadata": {},
   "outputs": [
    {
     "data": {
      "text/plain": [
       "[False, True, False, True, False, True, False]"
      ]
     },
     "execution_count": 66,
     "metadata": {},
     "output_type": "execute_result"
    }
   ],
   "source": [
    "list(map  (lambda x: x%2==0    ,      L         ))"
   ]
  },
  {
   "cell_type": "code",
   "execution_count": null,
   "id": "70b53b79",
   "metadata": {},
   "outputs": [],
   "source": []
  },
  {
   "cell_type": "code",
   "execution_count": 67,
   "id": "ff7923cc",
   "metadata": {},
   "outputs": [],
   "source": [
    "#Filter "
   ]
  },
  {
   "cell_type": "code",
   "execution_count": 70,
   "id": "ae8942c3",
   "metadata": {},
   "outputs": [
    {
     "data": {
      "text/plain": [
       "[5, 6, 7]"
      ]
     },
     "execution_count": 70,
     "metadata": {},
     "output_type": "execute_result"
    }
   ],
   "source": [
    "list(filter(lambda x: x >4, L))"
   ]
  },
  {
   "cell_type": "code",
   "execution_count": 71,
   "id": "2b23ec28",
   "metadata": {},
   "outputs": [],
   "source": [
    "fruits = [\"Apple\", \"orange\", \"mango\", \"guava\"]"
   ]
  },
  {
   "cell_type": "code",
   "execution_count": 74,
   "id": "d1c26fd8",
   "metadata": {},
   "outputs": [
    {
     "data": {
      "text/plain": [
       "['Apple', 'orange']"
      ]
     },
     "execution_count": 74,
     "metadata": {},
     "output_type": "execute_result"
    }
   ],
   "source": [
    "list(filter(lambda fruit:'e' in fruit,fruits ))"
   ]
  },
  {
   "cell_type": "code",
   "execution_count": null,
   "id": "4ff87716",
   "metadata": {},
   "outputs": [],
   "source": []
  },
  {
   "cell_type": "code",
   "execution_count": 75,
   "id": "40062c79",
   "metadata": {},
   "outputs": [],
   "source": [
    "#reduce - reduces the list"
   ]
  },
  {
   "cell_type": "code",
   "execution_count": 79,
   "id": "32d08894",
   "metadata": {},
   "outputs": [],
   "source": [
    "import functools"
   ]
  },
  {
   "cell_type": "code",
   "execution_count": 77,
   "id": "c8a82ebf",
   "metadata": {},
   "outputs": [
    {
     "data": {
      "text/plain": [
       "[1, 2, 3, 4, 5, 6, 7]"
      ]
     },
     "execution_count": 77,
     "metadata": {},
     "output_type": "execute_result"
    }
   ],
   "source": [
    " L"
   ]
  },
  {
   "cell_type": "code",
   "execution_count": 80,
   "id": "c9a3a42f",
   "metadata": {},
   "outputs": [
    {
     "data": {
      "text/plain": [
       "28"
      ]
     },
     "execution_count": 80,
     "metadata": {},
     "output_type": "execute_result"
    }
   ],
   "source": [
    "functools.reduce(lambda x,y:x+y, L)"
   ]
  },
  {
   "cell_type": "code",
   "execution_count": 81,
   "id": "9be6c6d9",
   "metadata": {},
   "outputs": [],
   "source": [
    "L1 = [12,34,56,11,21,58]"
   ]
  },
  {
   "cell_type": "code",
   "execution_count": 88,
   "id": "84d40055",
   "metadata": {},
   "outputs": [
    {
     "data": {
      "text/plain": [
       "58"
      ]
     },
     "execution_count": 88,
     "metadata": {},
     "output_type": "execute_result"
    }
   ],
   "source": [
    "functools.reduce(lambda x,y : x if x>y else y ,L1)"
   ]
  },
  {
   "cell_type": "code",
   "execution_count": null,
   "id": "b7b72eef",
   "metadata": {},
   "outputs": [],
   "source": []
  },
  {
   "cell_type": "code",
   "execution_count": 89,
   "id": "086130ff",
   "metadata": {},
   "outputs": [],
   "source": [
    "#List comprehensions"
   ]
  },
  {
   "cell_type": "code",
   "execution_count": 90,
   "id": "39bd3a5d",
   "metadata": {},
   "outputs": [
    {
     "data": {
      "text/plain": [
       "[1, 2, 3, 4, 5, 6, 7]"
      ]
     },
     "execution_count": 90,
     "metadata": {},
     "output_type": "execute_result"
    }
   ],
   "source": [
    "L"
   ]
  },
  {
   "cell_type": "code",
   "execution_count": 91,
   "id": "05eff52c",
   "metadata": {},
   "outputs": [],
   "source": [
    "L1 = [item * 2 for item in L]"
   ]
  },
  {
   "cell_type": "code",
   "execution_count": 94,
   "id": "d11c7d84",
   "metadata": {},
   "outputs": [
    {
     "data": {
      "text/plain": [
       "[2, 4, 6, 8, 10, 12, 14]"
      ]
     },
     "execution_count": 94,
     "metadata": {},
     "output_type": "execute_result"
    }
   ],
   "source": [
    "L1"
   ]
  },
  {
   "cell_type": "code",
   "execution_count": 101,
   "id": "2672683b",
   "metadata": {},
   "outputs": [],
   "source": [
    "L2 = [i**2 for i in L1]"
   ]
  },
  {
   "cell_type": "code",
   "execution_count": 102,
   "id": "214a94e0",
   "metadata": {},
   "outputs": [
    {
     "data": {
      "text/plain": [
       "[4, 16, 36, 64, 100, 144, 196]"
      ]
     },
     "execution_count": 102,
     "metadata": {},
     "output_type": "execute_result"
    }
   ],
   "source": [
    "L2"
   ]
  },
  {
   "cell_type": "code",
   "execution_count": null,
   "id": "2d847d01",
   "metadata": {},
   "outputs": [],
   "source": []
  },
  {
   "cell_type": "code",
   "execution_count": 105,
   "id": "5a8175e8",
   "metadata": {},
   "outputs": [],
   "source": [
    "L3 = [i**2 for i in range(10) if i%2!=0 ]"
   ]
  },
  {
   "cell_type": "code",
   "execution_count": 106,
   "id": "684c9791",
   "metadata": {},
   "outputs": [
    {
     "data": {
      "text/plain": [
       "[1, 9, 25, 49, 81]"
      ]
     },
     "execution_count": 106,
     "metadata": {},
     "output_type": "execute_result"
    }
   ],
   "source": [
    "L3\n"
   ]
  },
  {
   "cell_type": "code",
   "execution_count": 107,
   "id": "0a573dcc",
   "metadata": {},
   "outputs": [
    {
     "data": {
      "text/plain": [
       "['Apple', 'orange', 'mango', 'guava']"
      ]
     },
     "execution_count": 107,
     "metadata": {},
     "output_type": "execute_result"
    }
   ],
   "source": [
    "fruits"
   ]
  },
  {
   "cell_type": "code",
   "execution_count": 116,
   "id": "e717d32a",
   "metadata": {},
   "outputs": [],
   "source": [
    "L4 = [fruit for fruit in fruits if fruit[0]=='o' ]"
   ]
  },
  {
   "cell_type": "code",
   "execution_count": 117,
   "id": "97240573",
   "metadata": {},
   "outputs": [
    {
     "data": {
      "text/plain": [
       "['orange']"
      ]
     },
     "execution_count": 117,
     "metadata": {},
     "output_type": "execute_result"
    }
   ],
   "source": [
    "L4"
   ]
  },
  {
   "cell_type": "code",
   "execution_count": null,
   "id": "fdda4710",
   "metadata": {},
   "outputs": [],
   "source": []
  },
  {
   "cell_type": "code",
   "execution_count": 118,
   "id": "0bbe8034",
   "metadata": {},
   "outputs": [],
   "source": [
    "#Dictionary comprehensions"
   ]
  },
  {
   "cell_type": "code",
   "execution_count": 123,
   "id": "e2922684",
   "metadata": {},
   "outputs": [],
   "source": [
    "D = {\"Name\":\"Nitish\", \"Gender\":\"Male\", \"Age\":30}"
   ]
  },
  {
   "cell_type": "code",
   "execution_count": 137,
   "id": "a343a15f",
   "metadata": {},
   "outputs": [
    {
     "data": {
      "text/plain": [
       "dict_items([('Name', 'Nitish'), ('Gender', 'Male'), ('Age', 30)])"
      ]
     },
     "execution_count": 137,
     "metadata": {},
     "output_type": "execute_result"
    }
   ],
   "source": [
    "D.items() #to extract tuples containing (key,value) pairs from a dictionary"
   ]
  },
  {
   "cell_type": "code",
   "execution_count": 138,
   "id": "1d166290",
   "metadata": {},
   "outputs": [],
   "source": [
    "D1={ key:value for key,value in D.items() if len(key)>3}"
   ]
  },
  {
   "cell_type": "code",
   "execution_count": 139,
   "id": "c5eec09d",
   "metadata": {},
   "outputs": [
    {
     "data": {
      "text/plain": [
       "{'Name': 'Nitish', 'Gender': 'Male'}"
      ]
     },
     "execution_count": 139,
     "metadata": {},
     "output_type": "execute_result"
    }
   ],
   "source": [
    "D1"
   ]
  },
  {
   "cell_type": "code",
   "execution_count": 142,
   "id": "af4d0cc9",
   "metadata": {},
   "outputs": [],
   "source": [
    "D2 = {item:item for item in L}"
   ]
  },
  {
   "cell_type": "code",
   "execution_count": 143,
   "id": "92a40756",
   "metadata": {},
   "outputs": [
    {
     "data": {
      "text/plain": [
       "{1: 1, 2: 2, 3: 3, 4: 4, 5: 5, 6: 6, 7: 7}"
      ]
     },
     "execution_count": 143,
     "metadata": {},
     "output_type": "execute_result"
    }
   ],
   "source": [
    "D2"
   ]
  },
  {
   "cell_type": "code",
   "execution_count": null,
   "id": "81259f24",
   "metadata": {},
   "outputs": [],
   "source": []
  }
 ],
 "metadata": {
  "kernelspec": {
   "display_name": "Python 3 (ipykernel)",
   "language": "python",
   "name": "python3"
  },
  "language_info": {
   "codemirror_mode": {
    "name": "ipython",
    "version": 3
   },
   "file_extension": ".py",
   "mimetype": "text/x-python",
   "name": "python",
   "nbconvert_exporter": "python",
   "pygments_lexer": "ipython3",
   "version": "3.9.16"
  }
 },
 "nbformat": 4,
 "nbformat_minor": 5
}
