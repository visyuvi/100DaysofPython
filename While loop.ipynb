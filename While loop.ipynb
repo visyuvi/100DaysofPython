{
 "cells": [
  {
   "cell_type": "code",
   "execution_count": 2,
   "id": "bf2a816c",
   "metadata": {},
   "outputs": [],
   "source": [
    "#types\n",
    "#while\n",
    "#For loop"
   ]
  },
  {
   "cell_type": "code",
   "execution_count": 3,
   "id": "285f0d9c",
   "metadata": {},
   "outputs": [],
   "source": [
    "#while loop"
   ]
  },
  {
   "cell_type": "code",
   "execution_count": 11,
   "id": "cf42d01f",
   "metadata": {},
   "outputs": [
    {
     "name": "stdout",
     "output_type": "stream",
     "text": [
      "Enter a number12\n",
      "12 times 1 = 12\n",
      "12 times 2 = 24\n",
      "12 times 3 = 36\n",
      "12 times 4 = 48\n",
      "12 times 5 = 60\n",
      "12 times 6 = 72\n",
      "12 times 7 = 84\n",
      "12 times 8 = 96\n",
      "12 times 9 = 108\n"
     ]
    }
   ],
   "source": [
    "x =int(input(\"Enter a number\")) \n",
    "\n",
    "i =1\n",
    "\n",
    "while i<10:\n",
    "    print(x,\"times\",i,\"=\",x*i)\n",
    "    i +=1"
   ]
  },
  {
   "cell_type": "code",
   "execution_count": null,
   "id": "73fddc3c",
   "metadata": {},
   "outputs": [],
   "source": []
  }
 ],
 "metadata": {
  "kernelspec": {
   "display_name": "Python 3 (ipykernel)",
   "language": "python",
   "name": "python3"
  },
  "language_info": {
   "codemirror_mode": {
    "name": "ipython",
    "version": 3
   },
   "file_extension": ".py",
   "mimetype": "text/x-python",
   "name": "python",
   "nbconvert_exporter": "python",
   "pygments_lexer": "ipython3",
   "version": "3.9.16"
  }
 },
 "nbformat": 4,
 "nbformat_minor": 5
}
