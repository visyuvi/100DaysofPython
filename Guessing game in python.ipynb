{
 "cells": [
  {
   "cell_type": "code",
   "execution_count": 1,
   "id": "94700c75",
   "metadata": {},
   "outputs": [],
   "source": [
    "import random"
   ]
  },
  {
   "cell_type": "code",
   "execution_count": 6,
   "id": "ced382de",
   "metadata": {},
   "outputs": [
    {
     "data": {
      "text/plain": [
       "64"
      ]
     },
     "execution_count": 6,
     "metadata": {},
     "output_type": "execute_result"
    }
   ],
   "source": [
    "random.randint(1,100)"
   ]
  },
  {
   "cell_type": "code",
   "execution_count": 7,
   "id": "7896a925",
   "metadata": {},
   "outputs": [],
   "source": [
    "jackpot=random.randint(1,100)"
   ]
  },
  {
   "cell_type": "code",
   "execution_count": null,
   "id": "7da00640",
   "metadata": {},
   "outputs": [
    {
     "name": "stdout",
     "output_type": "stream",
     "text": [
      "Guess a number50\n",
      "Guess lower\n",
      "Guess a number30\n",
      "Guess lower\n",
      "Guess a number20\n",
      "Guess higher\n"
     ]
    }
   ],
   "source": [
    "guess = int(input(\"Guess a number\"))\n",
    "counter = 1\n",
    "\n",
    "while guess != jackpot:\n",
    "    \n",
    "    if guess<jackpot:\n",
    "        print(\"Guess higher\")\n",
    "    \n",
    "    else:\n",
    "        print(\"Guess lower\")\n",
    "    \n",
    "    guess = int(input(\"Guess a number\"))\n",
    "    counter += 1\n",
    "\n",
    "print(\"Correct answer\")\n",
    "print(\"You took \", counter, \"attempts to guess the correct number\")"
   ]
  },
  {
   "cell_type": "code",
   "execution_count": null,
   "id": "dd6efa6f",
   "metadata": {},
   "outputs": [],
   "source": []
  },
  {
   "cell_type": "code",
   "execution_count": null,
   "id": "46bae103",
   "metadata": {},
   "outputs": [],
   "source": []
  }
 ],
 "metadata": {
  "kernelspec": {
   "display_name": "Python 3 (ipykernel)",
   "language": "python",
   "name": "python3"
  },
  "language_info": {
   "codemirror_mode": {
    "name": "ipython",
    "version": 3
   },
   "file_extension": ".py",
   "mimetype": "text/x-python",
   "name": "python",
   "nbconvert_exporter": "python",
   "pygments_lexer": "ipython3",
   "version": "3.9.16"
  }
 },
 "nbformat": 4,
 "nbformat_minor": 5
}
