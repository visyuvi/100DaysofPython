{
 "cells": [
  {
   "cell_type": "code",
   "execution_count": 1,
   "id": "e8622aa6",
   "metadata": {},
   "outputs": [],
   "source": [
    "#variables are containers for future use"
   ]
  },
  {
   "cell_type": "code",
   "execution_count": 2,
   "id": "25953b61",
   "metadata": {},
   "outputs": [],
   "source": [
    "#C lang\n",
    "#int a = 4"
   ]
  },
  {
   "cell_type": "code",
   "execution_count": 5,
   "id": "de7a141f",
   "metadata": {},
   "outputs": [],
   "source": [
    "name = 'Spider' \n",
    "#no need to provide data type. Aka dynamic typing"
   ]
  },
  {
   "cell_type": "code",
   "execution_count": 6,
   "id": "6ba2b946",
   "metadata": {},
   "outputs": [
    {
     "name": "stdout",
     "output_type": "stream",
     "text": [
      "Spider\n"
     ]
    }
   ],
   "source": [
    "print(name)"
   ]
  },
  {
   "cell_type": "code",
   "execution_count": 7,
   "id": "24d85c75",
   "metadata": {},
   "outputs": [
    {
     "data": {
      "text/plain": [
       "'Spider'"
      ]
     },
     "execution_count": 7,
     "metadata": {},
     "output_type": "execute_result"
    }
   ],
   "source": [
    "name"
   ]
  },
  {
   "cell_type": "code",
   "execution_count": 8,
   "id": "7e68c0b2",
   "metadata": {},
   "outputs": [
    {
     "data": {
      "text/plain": [
       "4"
      ]
     },
     "execution_count": 8,
     "metadata": {},
     "output_type": "execute_result"
    }
   ],
   "source": [
    "name=4\n",
    "name"
   ]
  },
  {
   "cell_type": "code",
   "execution_count": 9,
   "id": "6631e5bc",
   "metadata": {},
   "outputs": [],
   "source": [
    "#Dynamic binding. One variable  can store multiple variable types"
   ]
  },
  {
   "cell_type": "code",
   "execution_count": 11,
   "id": "d58aacb1",
   "metadata": {},
   "outputs": [],
   "source": [
    "#special syntax\n",
    "a =5 ;b =6;c=7"
   ]
  },
  {
   "cell_type": "code",
   "execution_count": 13,
   "id": "c26a8b60",
   "metadata": {},
   "outputs": [
    {
     "name": "stdout",
     "output_type": "stream",
     "text": [
      "5 6 7\n"
     ]
    }
   ],
   "source": [
    "print(a,b,c)"
   ]
  },
  {
   "cell_type": "code",
   "execution_count": null,
   "id": "95de7924",
   "metadata": {},
   "outputs": [],
   "source": []
  },
  {
   "cell_type": "code",
   "execution_count": null,
   "id": "612099f6",
   "metadata": {},
   "outputs": [],
   "source": []
  }
 ],
 "metadata": {
  "kernelspec": {
   "display_name": "Python 3 (ipykernel)",
   "language": "python",
   "name": "python3"
  },
  "language_info": {
   "codemirror_mode": {
    "name": "ipython",
    "version": 3
   },
   "file_extension": ".py",
   "mimetype": "text/x-python",
   "name": "python",
   "nbconvert_exporter": "python",
   "pygments_lexer": "ipython3",
   "version": "3.9.16"
  }
 },
 "nbformat": 4,
 "nbformat_minor": 5
}
