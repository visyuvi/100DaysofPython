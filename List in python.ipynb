{
 "cells": [
  {
   "cell_type": "code",
   "execution_count": 1,
   "id": "e7a9b2a3",
   "metadata": {},
   "outputs": [],
   "source": [
    "#arrays contain homogeneous items\n",
    "#list can be heterogeneous\n",
    "#array memory locations are continuous\n",
    "#list doesn't have continuous memory locations so it is slower\n",
    "#lists are most programmer friendly although slower"
   ]
  },
  {
   "cell_type": "code",
   "execution_count": 2,
   "id": "53b4d364",
   "metadata": {},
   "outputs": [],
   "source": [
    "#how to create an empty list. It is shown below:-\n",
    "L = []"
   ]
  },
  {
   "cell_type": "code",
   "execution_count": 3,
   "id": "56ae8ce6",
   "metadata": {},
   "outputs": [],
   "source": [
    "#Example of heterogeneous lists\n",
    "L2 = [\"hello\", 4.5,True,1]"
   ]
  },
  {
   "cell_type": "code",
   "execution_count": 4,
   "id": "8c4e182a",
   "metadata": {},
   "outputs": [],
   "source": [
    "#Multidimensional lists\n",
    "L3 = [[1],[1,20],[1,2,3]]"
   ]
  },
  {
   "cell_type": "code",
   "execution_count": 6,
   "id": "39f830f8",
   "metadata": {},
   "outputs": [],
   "source": [
    "L4 = [[[1,2],[3,4]],[[5,6],[7,8]]]"
   ]
  },
  {
   "cell_type": "code",
   "execution_count": 8,
   "id": "f427b23d",
   "metadata": {},
   "outputs": [
    {
     "data": {
      "text/plain": [
       "['h', 'a', 'l', 'd', 'i', 'a']"
      ]
     },
     "execution_count": 8,
     "metadata": {},
     "output_type": "execute_result"
    }
   ],
   "source": [
    "L5 = list(\"haldia\")\n",
    "L5"
   ]
  },
  {
   "cell_type": "code",
   "execution_count": 10,
   "id": "8dcacb62",
   "metadata": {},
   "outputs": [
    {
     "data": {
      "text/plain": [
       "['a', 'i', 'd', 'l', 'a', 'h']"
      ]
     },
     "execution_count": 10,
     "metadata": {},
     "output_type": "execute_result"
    }
   ],
   "source": [
    "L5[::-1]"
   ]
  },
  {
   "cell_type": "code",
   "execution_count": 11,
   "id": "454c0e07",
   "metadata": {},
   "outputs": [
    {
     "data": {
      "text/plain": [
       "['a', 'l']"
      ]
     },
     "execution_count": 11,
     "metadata": {},
     "output_type": "execute_result"
    }
   ],
   "source": [
    "L5[1:3]"
   ]
  },
  {
   "cell_type": "code",
   "execution_count": 13,
   "id": "e7f964fa",
   "metadata": {},
   "outputs": [
    {
     "data": {
      "text/plain": [
       "2"
      ]
     },
     "execution_count": 13,
     "metadata": {},
     "output_type": "execute_result"
    }
   ],
   "source": [
    "L3[2][1]"
   ]
  },
  {
   "cell_type": "code",
   "execution_count": 15,
   "id": "12491170",
   "metadata": {},
   "outputs": [
    {
     "data": {
      "text/plain": [
       "7"
      ]
     },
     "execution_count": 15,
     "metadata": {},
     "output_type": "execute_result"
    }
   ],
   "source": [
    "L4[1][1][0]"
   ]
  },
  {
   "cell_type": "code",
   "execution_count": 17,
   "id": "6226efc5",
   "metadata": {},
   "outputs": [],
   "source": [
    " #edit items in a list . Lists in python are mutable"
   ]
  },
  {
   "cell_type": "code",
   "execution_count": 18,
   "id": "42dd902c",
   "metadata": {},
   "outputs": [],
   "source": [
    "L.append(\"spider\")"
   ]
  },
  {
   "cell_type": "code",
   "execution_count": 20,
   "id": "13b8aaac",
   "metadata": {},
   "outputs": [],
   "source": [
    "L.append(\"whyshall\")\n"
   ]
  },
  {
   "cell_type": "code",
   "execution_count": 21,
   "id": "636586b3",
   "metadata": {},
   "outputs": [
    {
     "data": {
      "text/plain": [
       "['spider', 'whyshall']"
      ]
     },
     "execution_count": 21,
     "metadata": {},
     "output_type": "execute_result"
    }
   ],
   "source": [
    "L"
   ]
  },
  {
   "cell_type": "code",
   "execution_count": 22,
   "id": "99dc6b39",
   "metadata": {},
   "outputs": [],
   "source": [
    "L.append([1,2,3])"
   ]
  },
  {
   "cell_type": "code",
   "execution_count": 24,
   "id": "8163f4ec",
   "metadata": {},
   "outputs": [],
   "source": [
    "L.extend([1,2,3])\n"
   ]
  },
  {
   "cell_type": "code",
   "execution_count": 25,
   "id": "d2ae432f",
   "metadata": {},
   "outputs": [
    {
     "data": {
      "text/plain": [
       "['spider', 'whyshall', [1, 2, 3], 1, 2, 3]"
      ]
     },
     "execution_count": 25,
     "metadata": {},
     "output_type": "execute_result"
    }
   ],
   "source": [
    "L"
   ]
  },
  {
   "cell_type": "code",
   "execution_count": 29,
   "id": "eaee82c8",
   "metadata": {},
   "outputs": [],
   "source": [
    "L.append([5,6]) #append will add only 1 item while extend will add multiple items\n"
   ]
  },
  {
   "cell_type": "code",
   "execution_count": 30,
   "id": "e6e347b1",
   "metadata": {},
   "outputs": [
    {
     "data": {
      "text/plain": [
       "['spider', 'whyshall', [1, 2, 3], 1, 2, 3, [5, 6], [5, 6], [5, 6]]"
      ]
     },
     "execution_count": 30,
     "metadata": {},
     "output_type": "execute_result"
    }
   ],
   "source": [
    "L"
   ]
  },
  {
   "cell_type": "code",
   "execution_count": 31,
   "id": "d792d4b9",
   "metadata": {},
   "outputs": [],
   "source": [
    "L.insert(1,'world')"
   ]
  },
  {
   "cell_type": "code",
   "execution_count": 32,
   "id": "33f12c8a",
   "metadata": {},
   "outputs": [
    {
     "data": {
      "text/plain": [
       "['spider', 'world', 'whyshall', [1, 2, 3], 1, 2, 3, [5, 6], [5, 6], [5, 6]]"
      ]
     },
     "execution_count": 32,
     "metadata": {},
     "output_type": "execute_result"
    }
   ],
   "source": [
    "L"
   ]
  },
  {
   "cell_type": "code",
   "execution_count": 33,
   "id": "9ca118cf",
   "metadata": {},
   "outputs": [],
   "source": [
    "#deletion in a list\n",
    "#del\n",
    "#remove\n",
    "#pop\n",
    "#clear"
   ]
  },
  {
   "cell_type": "code",
   "execution_count": 34,
   "id": "2527cd1e",
   "metadata": {},
   "outputs": [],
   "source": [
    "del L2\n"
   ]
  },
  {
   "cell_type": "code",
   "execution_count": 37,
   "id": "384b6ecd",
   "metadata": {},
   "outputs": [],
   "source": [
    "L.remove(\"whyshall\")"
   ]
  },
  {
   "cell_type": "code",
   "execution_count": 42,
   "id": "d1733262",
   "metadata": {},
   "outputs": [
    {
     "data": {
      "text/plain": [
       "[5, 6]"
      ]
     },
     "execution_count": 42,
     "metadata": {},
     "output_type": "execute_result"
    }
   ],
   "source": [
    "L.pop()"
   ]
  },
  {
   "cell_type": "code",
   "execution_count": 43,
   "id": "565c12ac",
   "metadata": {},
   "outputs": [
    {
     "data": {
      "text/plain": [
       "['spider', 'world', [1, 2, 3], 1, 2, 3]"
      ]
     },
     "execution_count": 43,
     "metadata": {},
     "output_type": "execute_result"
    }
   ],
   "source": [
    "L"
   ]
  },
  {
   "cell_type": "code",
   "execution_count": 47,
   "id": "db15bb88",
   "metadata": {},
   "outputs": [
    {
     "data": {
      "text/plain": [
       "['spider', 'world', [1, 2, 3], 1, 2, 3, [1], [1, 20], [1, 2, 3]]"
      ]
     },
     "execution_count": 47,
     "metadata": {},
     "output_type": "execute_result"
    }
   ],
   "source": [
    "L+L3"
   ]
  },
  {
   "cell_type": "code",
   "execution_count": 49,
   "id": "66813e9b",
   "metadata": {},
   "outputs": [
    {
     "data": {
      "text/plain": [
       "['spider', 'world', [1, 2, 3], 1, 2, 3]"
      ]
     },
     "execution_count": 49,
     "metadata": {},
     "output_type": "execute_result"
    }
   ],
   "source": [
    "L"
   ]
  },
  {
   "cell_type": "code",
   "execution_count": 50,
   "id": "e61fe2e7",
   "metadata": {},
   "outputs": [],
   "source": [
    "#functions\n",
    "#sorted is not a permanent option. It will create a new list in memory!"
   ]
  },
  {
   "cell_type": "code",
   "execution_count": 51,
   "id": "84ae666e",
   "metadata": {},
   "outputs": [
    {
     "data": {
      "text/plain": [
       "['spider', 'world', [1, 2, 3], 1, 2, 3]"
      ]
     },
     "execution_count": 51,
     "metadata": {},
     "output_type": "execute_result"
    }
   ],
   "source": [
    "L"
   ]
  },
  {
   "cell_type": "code",
   "execution_count": 56,
   "id": "7c2ca3f3",
   "metadata": {},
   "outputs": [
    {
     "data": {
      "text/plain": [
       "[[1, 20], [1, 2, 3], [1]]"
      ]
     },
     "execution_count": 56,
     "metadata": {},
     "output_type": "execute_result"
    }
   ],
   "source": [
    "L3.sort(reverse=True)\n",
    "L3"
   ]
  },
  {
   "cell_type": "code",
   "execution_count": 57,
   "id": "dc942e09",
   "metadata": {},
   "outputs": [
    {
     "data": {
      "text/plain": [
       "5"
      ]
     },
     "execution_count": 57,
     "metadata": {},
     "output_type": "execute_result"
    }
   ],
   "source": [
    "L.index(3)"
   ]
  },
  {
   "cell_type": "code",
   "execution_count": 58,
   "id": "12d99815",
   "metadata": {},
   "outputs": [],
   "source": [
    "sample = \"hello how are you?!\""
   ]
  },
  {
   "cell_type": "code",
   "execution_count": 59,
   "id": "04a9e2c8",
   "metadata": {},
   "outputs": [
    {
     "name": "stdout",
     "output_type": "stream",
     "text": [
      "['hello', 'how', 'are', 'you?!']\n"
     ]
    }
   ],
   "source": [
    "print(sample.split())"
   ]
  },
  {
   "cell_type": "code",
   "execution_count": 76,
   "id": "b4169ca2",
   "metadata": {},
   "outputs": [
    {
     "name": "stdout",
     "output_type": "stream",
     "text": [
      "Hello\n",
      "How\n",
      "Are\n",
      "You?!\n"
     ]
    }
   ],
   "source": [
    "L=[]\n",
    "\n",
    "for i in sample.split():\n",
    "        L.append(i.capitalize())\n",
    "        print(i.capitalize())\n",
    "    "
   ]
  },
  {
   "cell_type": "code",
   "execution_count": 77,
   "id": "00663a64",
   "metadata": {},
   "outputs": [
    {
     "data": {
      "text/plain": [
       "['Hello', 'How', 'Are', 'You?!']"
      ]
     },
     "execution_count": 77,
     "metadata": {},
     "output_type": "execute_result"
    }
   ],
   "source": [
    "L"
   ]
  },
  {
   "cell_type": "code",
   "execution_count": 74,
   "id": "19ff0ee5",
   "metadata": {},
   "outputs": [
    {
     "name": "stdout",
     "output_type": "stream",
     "text": [
      "Hello How Are You?!\n"
     ]
    }
   ],
   "source": [
    "print(\" \".join(L))"
   ]
  },
  {
   "cell_type": "code",
   "execution_count": 78,
   "id": "e80681be",
   "metadata": {},
   "outputs": [
    {
     "data": {
      "text/plain": [
       "['Hello', 'How', 'Are', 'You?!']"
      ]
     },
     "execution_count": 78,
     "metadata": {},
     "output_type": "execute_result"
    }
   ],
   "source": [
    "L"
   ]
  },
  {
   "cell_type": "code",
   "execution_count": 79,
   "id": "03e42c33",
   "metadata": {},
   "outputs": [],
   "source": [
    "#given email id print string before @"
   ]
  },
  {
   "cell_type": "code",
   "execution_count": 87,
   "id": "d82a1a2d",
   "metadata": {},
   "outputs": [],
   "source": [
    "sample = \"spider@gmail.com\""
   ]
  },
  {
   "cell_type": "code",
   "execution_count": 88,
   "id": "115dc285",
   "metadata": {},
   "outputs": [
    {
     "data": {
      "text/plain": [
       "'spider'"
      ]
     },
     "execution_count": 88,
     "metadata": {},
     "output_type": "execute_result"
    }
   ],
   "source": [
    "sample[0:sample.find(\"@\")]"
   ]
  },
  {
   "cell_type": "code",
   "execution_count": 90,
   "id": "6374485b",
   "metadata": {},
   "outputs": [],
   "source": [
    "#given a list remove all duplicate items"
   ]
  },
  {
   "cell_type": "code",
   "execution_count": 92,
   "id": "b284a345",
   "metadata": {},
   "outputs": [],
   "source": [
    "L1=[1,1,2,2,3,3,4,4]\n",
    "L=[]"
   ]
  },
  {
   "cell_type": "code",
   "execution_count": 93,
   "id": "06f4b20f",
   "metadata": {},
   "outputs": [],
   "source": [
    "for i in L1:\n",
    "    if i not in L:\n",
    "        L.append(i)"
   ]
  },
  {
   "cell_type": "code",
   "execution_count": 95,
   "id": "2c7744f2",
   "metadata": {},
   "outputs": [
    {
     "data": {
      "text/plain": [
       "[1, 2, 3, 4]"
      ]
     },
     "execution_count": 95,
     "metadata": {},
     "output_type": "execute_result"
    }
   ],
   "source": [
    "L"
   ]
  },
  {
   "cell_type": "code",
   "execution_count": null,
   "id": "e09afa8e",
   "metadata": {},
   "outputs": [],
   "source": []
  }
 ],
 "metadata": {
  "kernelspec": {
   "display_name": "Python 3 (ipykernel)",
   "language": "python",
   "name": "python3"
  },
  "language_info": {
   "codemirror_mode": {
    "name": "ipython",
    "version": 3
   },
   "file_extension": ".py",
   "mimetype": "text/x-python",
   "name": "python",
   "nbconvert_exporter": "python",
   "pygments_lexer": "ipython3",
   "version": "3.9.16"
  }
 },
 "nbformat": 4,
 "nbformat_minor": 5
}
