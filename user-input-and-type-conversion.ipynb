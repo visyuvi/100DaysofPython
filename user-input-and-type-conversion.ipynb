{
 "cells": [
  {
   "cell_type": "code",
   "execution_count": 1,
   "id": "9aaf01c3",
   "metadata": {},
   "outputs": [],
   "source": [
    "#static and dynamic softwares"
   ]
  },
  {
   "cell_type": "code",
   "execution_count": 5,
   "id": "4c840b67",
   "metadata": {},
   "outputs": [
    {
     "name": "stdout",
     "output_type": "stream",
     "text": [
      "Enter nameshaaaaaaaaaaant rahiye\n"
     ]
    },
    {
     "data": {
      "text/plain": [
       "'shaaaaaaaaaaant rahiye'"
      ]
     },
     "execution_count": 5,
     "metadata": {},
     "output_type": "execute_result"
    }
   ],
   "source": [
    "input(prompt=\"Enter name\")"
   ]
  },
  {
   "cell_type": "code",
   "execution_count": 27,
   "id": "d054ad4a",
   "metadata": {},
   "outputs": [
    {
     "name": "stdout",
     "output_type": "stream",
     "text": [
      "Enter the first number 2\n"
     ]
    }
   ],
   "source": [
    "x=int(input(\"Enter the first number \"))"
   ]
  },
  {
   "cell_type": "code",
   "execution_count": 28,
   "id": "2f8749d2",
   "metadata": {},
   "outputs": [
    {
     "name": "stdout",
     "output_type": "stream",
     "text": [
      "Enter the second number 4\n"
     ]
    }
   ],
   "source": [
    " y=int(input(\"Enter the second number \"))"
   ]
  },
  {
   "cell_type": "code",
   "execution_count": 29,
   "id": "f5e09e6b",
   "metadata": {},
   "outputs": [],
   "source": [
    "#type"
   ]
  },
  {
   "cell_type": "code",
   "execution_count": 30,
   "id": "2a27da2c",
   "metadata": {},
   "outputs": [
    {
     "data": {
      "text/plain": [
       "int"
      ]
     },
     "execution_count": 30,
     "metadata": {},
     "output_type": "execute_result"
    }
   ],
   "source": [
    "type(y)"
   ]
  },
  {
   "cell_type": "code",
   "execution_count": 31,
   "id": "4cef69ed",
   "metadata": {},
   "outputs": [],
   "source": [
    "#type conversion type:\n",
    "#implicit and explicit"
   ]
  },
  {
   "cell_type": "code",
   "execution_count": 32,
   "id": "825ce59c",
   "metadata": {},
   "outputs": [],
   "source": [
    "#Example of implicit type conversion\n"
   ]
  },
  {
   "cell_type": "code",
   "execution_count": 33,
   "id": "9a6b640f",
   "metadata": {},
   "outputs": [
    {
     "data": {
      "text/plain": [
       "9.5"
      ]
     },
     "execution_count": 33,
     "metadata": {},
     "output_type": "execute_result"
    }
   ],
   "source": [
    "4+5.5"
   ]
  },
  {
   "cell_type": "code",
   "execution_count": 34,
   "id": "0a3b30a4",
   "metadata": {},
   "outputs": [
    {
     "data": {
      "text/plain": [
       "(11+7j)"
      ]
     },
     "execution_count": 34,
     "metadata": {},
     "output_type": "execute_result"
    }
   ],
   "source": [
    "5+6+7j"
   ]
  },
  {
   "cell_type": "code",
   "execution_count": 35,
   "id": "b4e1c906",
   "metadata": {},
   "outputs": [
    {
     "data": {
      "text/plain": [
       "(9.5+9j)"
      ]
     },
     "execution_count": 35,
     "metadata": {},
     "output_type": "execute_result"
    }
   ],
   "source": [
    "4.5+5+9j"
   ]
  },
  {
   "cell_type": "code",
   "execution_count": 36,
   "id": "bb02683e",
   "metadata": {},
   "outputs": [],
   "source": [
    "#Example of explicit type conversions"
   ]
  },
  {
   "cell_type": "code",
   "execution_count": 37,
   "id": "e934b586",
   "metadata": {},
   "outputs": [
    {
     "name": "stdout",
     "output_type": "stream",
     "text": [
      "6\n"
     ]
    }
   ],
   "source": [
    "#int\n",
    "print(x+y)"
   ]
  },
  {
   "cell_type": "code",
   "execution_count": 38,
   "id": "2adeeef1",
   "metadata": {},
   "outputs": [
    {
     "name": "stdout",
     "output_type": "stream",
     "text": [
      "<class 'str'>\n"
     ]
    }
   ],
   "source": [
    "x='4'\n",
    "print(type(x))"
   ]
  },
  {
   "cell_type": "code",
   "execution_count": null,
   "id": "a8f6ffbf",
   "metadata": {},
   "outputs": [],
   "source": []
  }
 ],
 "metadata": {
  "kernelspec": {
   "display_name": "Python 3 (ipykernel)",
   "language": "python",
   "name": "python3"
  },
  "language_info": {
   "codemirror_mode": {
    "name": "ipython",
    "version": 3
   },
   "file_extension": ".py",
   "mimetype": "text/x-python",
   "name": "python",
   "nbconvert_exporter": "python",
   "pygments_lexer": "ipython3",
   "version": "3.9.16"
  }
 },
 "nbformat": 4,
 "nbformat_minor": 5
}
