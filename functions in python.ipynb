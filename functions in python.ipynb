{
 "cells": [
  {
   "cell_type": "code",
   "execution_count": 1,
   "id": "53b8229c",
   "metadata": {},
   "outputs": [],
   "source": [
    "#functions are blackboxes "
   ]
  },
  {
   "cell_type": "code",
   "execution_count": 2,
   "id": "dc2664f0",
   "metadata": {},
   "outputs": [],
   "source": [
    "#function provides abstraction  "
   ]
  },
  {
   "cell_type": "code",
   "execution_count": 3,
   "id": "4e10df8b",
   "metadata": {},
   "outputs": [],
   "source": [
    "#function follow decomposition\n",
    "#you divide your application into various functions\n"
   ]
  },
  {
   "cell_type": "code",
   "execution_count": 7,
   "id": "03fa708e",
   "metadata": {},
   "outputs": [],
   "source": [
    "#created func_demo.py in /root/anaconda3/lib/python3.9\n",
    "import func_demo\n"
   ]
  },
  {
   "cell_type": "code",
   "execution_count": 5,
   "id": "4f15f3e5",
   "metadata": {},
   "outputs": [
    {
     "name": "stdout",
     "output_type": "stream",
     "text": [
      "False\n",
      "True\n",
      "False\n",
      "True\n",
      "False\n",
      "True\n",
      "False\n",
      "True\n",
      "False\n",
      "True\n"
     ]
    }
   ],
   "source": [
    "for i in range(1,11):\n",
    "    print(func_demo.is_even(i))"
   ]
  },
  {
   "cell_type": "code",
   "execution_count": 6,
   "id": "42062768",
   "metadata": {},
   "outputs": [
    {
     "name": "stdout",
     "output_type": "stream",
     "text": [
      "Not Allowed\n"
     ]
    }
   ],
   "source": [
    "print(func_demo.is_even(\"hello\"))"
   ]
  },
  {
   "cell_type": "code",
   "execution_count": 24,
   "id": "9625fe94",
   "metadata": {},
   "outputs": [
    {
     "name": "stdout",
     "output_type": "stream",
     "text": [
      "\n",
      "    Function description:-\n",
      "    This function tells if a given number is odd or even.\n",
      "    Input - any valid integer\n",
      "    ouput - odd/even\n",
      "    Created by - Vishal Maheshwari\n",
      "    Last edited - 23rd may 2023\n",
      "    \n"
     ]
    }
   ],
   "source": [
    "print(is_even.__doc__) #print function documentation "
   ]
  },
  {
   "cell_type": "code",
   "execution_count": null,
   "id": "188b5027",
   "metadata": {},
   "outputs": [],
   "source": [
    "#python tutor is a nice website for visualization of running code"
   ]
  },
  {
   "cell_type": "code",
   "execution_count": 8,
   "id": "50c3c1fb",
   "metadata": {},
   "outputs": [],
   "source": [
    "#Parameters vs Arguments"
   ]
  },
  {
   "cell_type": "code",
   "execution_count": 13,
   "id": "62bb7bb0",
   "metadata": {},
   "outputs": [],
   "source": [
    "def power(a=1,b=1):\n",
    "    return a**b"
   ]
  },
  {
   "cell_type": "code",
   "execution_count": 14,
   "id": "a09fd1f5",
   "metadata": {},
   "outputs": [
    {
     "data": {
      "text/plain": [
       "8"
      ]
     },
     "execution_count": 14,
     "metadata": {},
     "output_type": "execute_result"
    }
   ],
   "source": [
    "power(2,3)"
   ]
  },
  {
   "cell_type": "code",
   "execution_count": 15,
   "id": "e20ac430",
   "metadata": {},
   "outputs": [
    {
     "data": {
      "text/plain": [
       "9"
      ]
     },
     "execution_count": 15,
     "metadata": {},
     "output_type": "execute_result"
    }
   ],
   "source": [
    " power(3,2)"
   ]
  },
  {
   "cell_type": "code",
   "execution_count": 17,
   "id": "dcb382ed",
   "metadata": {},
   "outputs": [
    {
     "data": {
      "text/plain": [
       "1"
      ]
     },
     "execution_count": 17,
     "metadata": {},
     "output_type": "execute_result"
    }
   ],
   "source": [
    "power()"
   ]
  },
  {
   "cell_type": "code",
   "execution_count": 22,
   "id": "1db98e7d",
   "metadata": {},
   "outputs": [
    {
     "data": {
      "text/plain": [
       "9"
      ]
     },
     "execution_count": 22,
     "metadata": {},
     "output_type": "execute_result"
    }
   ],
   "source": [
    "#Keyword arguments priority is > positional arguments\n",
    "power(b=2,a=3)"
   ]
  },
  {
   "cell_type": "code",
   "execution_count": 35,
   "id": "9d3ccc93",
   "metadata": {},
   "outputs": [],
   "source": [
    "#arbitrary arguments\n",
    "def flexi(*number):\n",
    "    product = 1\n",
    "    print(number)\n",
    "    print(type(number))\n",
    "    for i in number:\n",
    "        product = product * i\n",
    "    print(product)"
   ]
  },
  {
   "cell_type": "code",
   "execution_count": 36,
   "id": "9ebb1120",
   "metadata": {},
   "outputs": [
    {
     "name": "stdout",
     "output_type": "stream",
     "text": [
      "(1, 2, 3, 4, 5)\n",
      "<class 'tuple'>\n",
      "120\n"
     ]
    }
   ],
   "source": [
    "flexi(1,2,3,4,5)"
   ]
  },
  {
   "cell_type": "code",
   "execution_count": null,
   "id": "4fd678fe",
   "metadata": {},
   "outputs": [],
   "source": []
  },
  {
   "cell_type": "code",
   "execution_count": 37,
   "id": "f29189fb",
   "metadata": {},
   "outputs": [],
   "source": [
    "#Global variable and local Variable in python"
   ]
  },
  {
   "cell_type": "code",
   "execution_count": 40,
   "id": "08aef612",
   "metadata": {},
   "outputs": [
    {
     "ename": "UnboundLocalError",
     "evalue": "local variable 'x' referenced before assignment",
     "output_type": "error",
     "traceback": [
      "\u001b[0;31m---------------------------------------------------------------------------\u001b[0m",
      "\u001b[0;31mUnboundLocalError\u001b[0m                         Traceback (most recent call last)",
      "\u001b[0;32m/tmp/ipykernel_1741828/1394475652.py\u001b[0m in \u001b[0;36m<module>\u001b[0;34m\u001b[0m\n\u001b[1;32m      2\u001b[0m     \u001b[0mx\u001b[0m \u001b[0;34m+=\u001b[0m \u001b[0;36m1\u001b[0m\u001b[0;34m\u001b[0m\u001b[0;34m\u001b[0m\u001b[0m\n\u001b[1;32m      3\u001b[0m \u001b[0mx\u001b[0m\u001b[0;34m=\u001b[0m\u001b[0;36m5\u001b[0m\u001b[0;34m\u001b[0m\u001b[0;34m\u001b[0m\u001b[0m\n\u001b[0;32m----> 4\u001b[0;31m \u001b[0mh\u001b[0m\u001b[0;34m(\u001b[0m\u001b[0mx\u001b[0m\u001b[0;34m)\u001b[0m\u001b[0;34m\u001b[0m\u001b[0;34m\u001b[0m\u001b[0m\n\u001b[0m\u001b[1;32m      5\u001b[0m \u001b[0mprint\u001b[0m\u001b[0;34m(\u001b[0m\u001b[0mx\u001b[0m\u001b[0;34m)\u001b[0m\u001b[0;34m\u001b[0m\u001b[0;34m\u001b[0m\u001b[0m\n",
      "\u001b[0;32m/tmp/ipykernel_1741828/1394475652.py\u001b[0m in \u001b[0;36mh\u001b[0;34m(y)\u001b[0m\n\u001b[1;32m      1\u001b[0m \u001b[0;32mdef\u001b[0m \u001b[0mh\u001b[0m\u001b[0;34m(\u001b[0m\u001b[0my\u001b[0m\u001b[0;34m)\u001b[0m\u001b[0;34m:\u001b[0m\u001b[0;34m\u001b[0m\u001b[0;34m\u001b[0m\u001b[0m\n\u001b[0;32m----> 2\u001b[0;31m     \u001b[0mx\u001b[0m \u001b[0;34m+=\u001b[0m \u001b[0;36m1\u001b[0m\u001b[0;34m\u001b[0m\u001b[0;34m\u001b[0m\u001b[0m\n\u001b[0m\u001b[1;32m      3\u001b[0m \u001b[0mx\u001b[0m\u001b[0;34m=\u001b[0m\u001b[0;36m5\u001b[0m\u001b[0;34m\u001b[0m\u001b[0;34m\u001b[0m\u001b[0m\n\u001b[1;32m      4\u001b[0m \u001b[0mh\u001b[0m\u001b[0;34m(\u001b[0m\u001b[0mx\u001b[0m\u001b[0;34m)\u001b[0m\u001b[0;34m\u001b[0m\u001b[0;34m\u001b[0m\u001b[0m\n\u001b[1;32m      5\u001b[0m \u001b[0mprint\u001b[0m\u001b[0;34m(\u001b[0m\u001b[0mx\u001b[0m\u001b[0;34m)\u001b[0m\u001b[0;34m\u001b[0m\u001b[0;34m\u001b[0m\u001b[0m\n",
      "\u001b[0;31mUnboundLocalError\u001b[0m: local variable 'x' referenced before assignment"
     ]
    }
   ],
   "source": [
    "def h(y):\n",
    "    x += 1\n",
    "x=5\n",
    "h(x)\n",
    "print(x)"
   ]
  },
  {
   "cell_type": "code",
   "execution_count": 50,
   "id": "bd7fe516",
   "metadata": {},
   "outputs": [],
   "source": [
    "#nested functions\n",
    "#function in a function\n",
    "#nested functions will be hiddent from main function"
   ]
  },
  {
   "cell_type": "code",
   "execution_count": 1,
   "id": "663f795f",
   "metadata": {},
   "outputs": [],
   "source": [
    "def f():\n",
    "    print(\"Inside f\")\n",
    "    def g():\n",
    "        print(\"Inside g\")\n",
    "    g()"
   ]
  },
  {
   "cell_type": "code",
   "execution_count": 2,
   "id": "4da85a5f",
   "metadata": {},
   "outputs": [
    {
     "name": "stdout",
     "output_type": "stream",
     "text": [
      "Inside f\n",
      "Inside g\n"
     ]
    }
   ],
   "source": [
    " f()"
   ]
  },
  {
   "cell_type": "code",
   "execution_count": 53,
   "id": "d35e384f",
   "metadata": {},
   "outputs": [
    {
     "ename": "NameError",
     "evalue": "name 'g' is not defined",
     "output_type": "error",
     "traceback": [
      "\u001b[0;31m---------------------------------------------------------------------------\u001b[0m",
      "\u001b[0;31mNameError\u001b[0m                                 Traceback (most recent call last)",
      "\u001b[0;32m/tmp/ipykernel_1741828/258099874.py\u001b[0m in \u001b[0;36m<module>\u001b[0;34m\u001b[0m\n\u001b[0;32m----> 1\u001b[0;31m \u001b[0mg\u001b[0m\u001b[0;34m(\u001b[0m\u001b[0;34m)\u001b[0m\u001b[0;34m\u001b[0m\u001b[0;34m\u001b[0m\u001b[0m\n\u001b[0m",
      "\u001b[0;31mNameError\u001b[0m: name 'g' is not defined"
     ]
    }
   ],
   "source": [
    "g()"
   ]
  },
  {
   "cell_type": "code",
   "execution_count": 4,
   "id": "349b0192",
   "metadata": {},
   "outputs": [],
   "source": [
    "#everything  in python is an object"
   ]
  },
  {
   "cell_type": "code",
   "execution_count": 5,
   "id": "b4427e90",
   "metadata": {},
   "outputs": [],
   "source": [
    "#functions are also objects\n",
    "def f(number):\n",
    "    return number**2"
   ]
  },
  {
   "cell_type": "code",
   "execution_count": 6,
   "id": "d821f2a6",
   "metadata": {},
   "outputs": [
    {
     "data": {
      "text/plain": [
       "4"
      ]
     },
     "execution_count": 6,
     "metadata": {},
     "output_type": "execute_result"
    }
   ],
   "source": [
    "f(2)"
   ]
  },
  {
   "cell_type": "code",
   "execution_count": 7,
   "id": "26814b7a",
   "metadata": {},
   "outputs": [
    {
     "data": {
      "text/plain": [
       "16"
      ]
     },
     "execution_count": 7,
     "metadata": {},
     "output_type": "execute_result"
    }
   ],
   "source": [
    "f(4)"
   ]
  },
  {
   "cell_type": "code",
   "execution_count": 8,
   "id": "4c5fd7f4",
   "metadata": {},
   "outputs": [],
   "source": [
    "x = f\n"
   ]
  },
  {
   "cell_type": "code",
   "execution_count": 9,
   "id": "4fc9ddee",
   "metadata": {},
   "outputs": [
    {
     "data": {
      "text/plain": [
       "140111700900592"
      ]
     },
     "execution_count": 9,
     "metadata": {},
     "output_type": "execute_result"
    }
   ],
   "source": [
    "id(f)"
   ]
  },
  {
   "cell_type": "code",
   "execution_count": 10,
   "id": "467ded8c",
   "metadata": {},
   "outputs": [
    {
     "data": {
      "text/plain": [
       "140111700900592"
      ]
     },
     "execution_count": 10,
     "metadata": {},
     "output_type": "execute_result"
    }
   ],
   "source": [
    "id(x)"
   ]
  },
  {
   "cell_type": "code",
   "execution_count": 11,
   "id": "bf5ca43b",
   "metadata": {},
   "outputs": [
    {
     "data": {
      "text/plain": [
       "16"
      ]
     },
     "execution_count": 11,
     "metadata": {},
     "output_type": "execute_result"
    }
   ],
   "source": [
    "x(4)"
   ]
  },
  {
   "cell_type": "code",
   "execution_count": 12,
   "id": "dcbaa74d",
   "metadata": {},
   "outputs": [],
   "source": [
    "#can also delete a function in python"
   ]
  },
  {
   "cell_type": "code",
   "execution_count": 13,
   "id": "17fb5444",
   "metadata": {},
   "outputs": [],
   "source": [
    "del f"
   ]
  },
  {
   "cell_type": "code",
   "execution_count": 14,
   "id": "9002be83",
   "metadata": {},
   "outputs": [
    {
     "data": {
      "text/plain": [
       "16"
      ]
     },
     "execution_count": 14,
     "metadata": {},
     "output_type": "execute_result"
    }
   ],
   "source": [
    "x(4)"
   ]
  },
  {
   "cell_type": "code",
   "execution_count": 15,
   "id": "cde74fd1",
   "metadata": {},
   "outputs": [],
   "source": [
    "L=[1,2,3,4,x]"
   ]
  },
  {
   "cell_type": "code",
   "execution_count": 16,
   "id": "59b657b1",
   "metadata": {},
   "outputs": [],
   "source": [
    "def f():\n",
    "    def x(a,b):\n",
    "        return a+b\n",
    "    \n",
    "    return x"
   ]
  },
  {
   "cell_type": "code",
   "execution_count": 19,
   "id": "e406d940",
   "metadata": {},
   "outputs": [
    {
     "name": "stdout",
     "output_type": "stream",
     "text": [
      "7\n"
     ]
    }
   ],
   "source": [
    "val=f()(3,4)\n",
    "print(val)"
   ]
  },
  {
   "cell_type": "code",
   "execution_count": 22,
   "id": "8894f93a",
   "metadata": {},
   "outputs": [],
   "source": [
    "#benefits of functions:-\n",
    "#Code modularity\n",
    "#write once use forever\n",
    "#Code is organized and coherent(Code Readability)"
   ]
  },
  {
   "cell_type": "code",
   "execution_count": null,
   "id": "a1cb3547",
   "metadata": {},
   "outputs": [],
   "source": []
  }
 ],
 "metadata": {
  "kernelspec": {
   "display_name": "Python 3 (ipykernel)",
   "language": "python",
   "name": "python3"
  },
  "language_info": {
   "codemirror_mode": {
    "name": "ipython",
    "version": 3
   },
   "file_extension": ".py",
   "mimetype": "text/x-python",
   "name": "python",
   "nbconvert_exporter": "python",
   "pygments_lexer": "ipython3",
   "version": "3.9.16"
  }
 },
 "nbformat": 4,
 "nbformat_minor": 5
}
