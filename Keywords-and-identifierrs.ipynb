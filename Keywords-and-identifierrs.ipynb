{
 "cells": [
  {
   "cell_type": "code",
   "execution_count": 1,
   "id": "6df1c517",
   "metadata": {},
   "outputs": [],
   "source": [
    "#python is a case sensitive programming language"
   ]
  },
  {
   "cell_type": "code",
   "execution_count": 3,
   "id": "7aac359f",
   "metadata": {},
   "outputs": [],
   "source": [
    "#keywords\n",
    "#these cannot be used as variable names"
   ]
  },
  {
   "cell_type": "code",
   "execution_count": 11,
   "id": "a2e7e9ef",
   "metadata": {},
   "outputs": [
    {
     "name": "stdout",
     "output_type": "stream",
     "text": [
      "['False', 'None', 'True', '__peg_parser__', 'and', 'as', 'assert', 'async', 'await', 'break', 'class', 'continue', 'def', 'del', 'elif', 'else', 'except', 'finally', 'for', 'from', 'global', 'if', 'import', 'in', 'is', 'lambda', 'nonlocal', 'not', 'or', 'pass', 'raise', 'return', 'try', 'while', 'with', 'yield']\n"
     ]
    }
   ],
   "source": [
    "#python has 33 keywords\n",
    "import keyword\n",
    "type(keyword.kwlist)\n",
    "print(keyword.kwlist)"
   ]
  },
  {
   "cell_type": "code",
   "execution_count": 12,
   "id": "248f05ab",
   "metadata": {},
   "outputs": [],
   "source": [
    "#identifiers"
   ]
  },
  {
   "cell_type": "code",
   "execution_count": 13,
   "id": "305b3c71",
   "metadata": {},
   "outputs": [],
   "source": [
    "#keywords can't be identifiers"
   ]
  },
  {
   "cell_type": "code",
   "execution_count": null,
   "id": "adc38d23",
   "metadata": {},
   "outputs": [],
   "source": []
  }
 ],
 "metadata": {
  "kernelspec": {
   "display_name": "Python 3 (ipykernel)",
   "language": "python",
   "name": "python3"
  },
  "language_info": {
   "codemirror_mode": {
    "name": "ipython",
    "version": 3
   },
   "file_extension": ".py",
   "mimetype": "text/x-python",
   "name": "python",
   "nbconvert_exporter": "python",
   "pygments_lexer": "ipython3",
   "version": "3.9.16"
  }
 },
 "nbformat": 4,
 "nbformat_minor": 5
}
