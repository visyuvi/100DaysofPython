{
 "cells": [
  {
   "cell_type": "code",
   "execution_count": 2,
   "id": "32c912e8",
   "metadata": {},
   "outputs": [
    {
     "ename": "NameError",
     "evalue": "name 'a' is not defined",
     "output_type": "error",
     "traceback": [
      "\u001b[0;31m---------------------------------------------------------------------------\u001b[0m",
      "\u001b[0;31mNameError\u001b[0m                                 Traceback (most recent call last)",
      "\u001b[0;32m/tmp/ipykernel_1667731/1804447767.py\u001b[0m in \u001b[0;36m<module>\u001b[0;34m\u001b[0m\n\u001b[0;32m----> 1\u001b[0;31m \u001b[0ma\u001b[0m\u001b[0;34m\u001b[0m\u001b[0;34m\u001b[0m\u001b[0m\n\u001b[0m",
      "\u001b[0;31mNameError\u001b[0m: name 'a' is not defined"
     ]
    }
   ],
   "source": [
    "a "
   ]
  },
  {
   "cell_type": "code",
   "execution_count": 3,
   "id": "4e63eb4b",
   "metadata": {},
   "outputs": [],
   "source": [
    "a=4"
   ]
  },
  {
   "cell_type": "code",
   "execution_count": 4,
   "id": "77e8a429",
   "metadata": {},
   "outputs": [
    {
     "data": {
      "text/plain": [
       "4"
      ]
     },
     "execution_count": 4,
     "metadata": {},
     "output_type": "execute_result"
    }
   ],
   "source": [
    "a"
   ]
  },
  {
   "cell_type": "code",
   "execution_count": 5,
   "id": "86457ab9",
   "metadata": {},
   "outputs": [
    {
     "data": {
      "text/plain": [
       "139985806043536"
      ]
     },
     "execution_count": 5,
     "metadata": {},
     "output_type": "execute_result"
    }
   ],
   "source": [
    "id(a)"
   ]
  },
  {
   "cell_type": "code",
   "execution_count": 6,
   "id": "7eb50c99",
   "metadata": {},
   "outputs": [
    {
     "data": {
      "text/plain": [
       "'0x7f2db57fa990'"
      ]
     },
     "execution_count": 6,
     "metadata": {},
     "output_type": "execute_result"
    }
   ],
   "source": [
    "hex(139834295298448)"
   ]
  },
  {
   "cell_type": "code",
   "execution_count": 7,
   "id": "5ca1ff7d",
   "metadata": {},
   "outputs": [],
   "source": [
    "#Call by object referncing"
   ]
  },
  {
   "cell_type": "code",
   "execution_count": 8,
   "id": "d023c87b",
   "metadata": {},
   "outputs": [],
   "source": [
    "#Aliasing"
   ]
  },
  {
   "cell_type": "code",
   "execution_count": 9,
   "id": "8d75df81",
   "metadata": {},
   "outputs": [
    {
     "name": "stdout",
     "output_type": "stream",
     "text": [
      "6\n",
      "5\n"
     ]
    }
   ],
   "source": [
    "a=5\n",
    "b=a\n",
    "a=6\n",
    "print(a)\n",
    "print(b)"
   ]
  },
  {
   "cell_type": "code",
   "execution_count": 10,
   "id": "835bfdd8",
   "metadata": {},
   "outputs": [
    {
     "data": {
      "text/plain": [
       "139985806043568"
      ]
     },
     "execution_count": 10,
     "metadata": {},
     "output_type": "execute_result"
    }
   ],
   "source": [
    "id(b)"
   ]
  },
  {
   "cell_type": "code",
   "execution_count": 11,
   "id": "aa024f2d",
   "metadata": {},
   "outputs": [
    {
     "data": {
      "text/plain": [
       "139985806043600"
      ]
     },
     "execution_count": 11,
     "metadata": {},
     "output_type": "execute_result"
    }
   ],
   "source": [
    "id(a)"
   ]
  },
  {
   "cell_type": "code",
   "execution_count": 12,
   "id": "0217bb1e",
   "metadata": {},
   "outputs": [],
   "source": [
    "del a\n"
   ]
  },
  {
   "cell_type": "code",
   "execution_count": 13,
   "id": "34f4faa0",
   "metadata": {},
   "outputs": [
    {
     "data": {
      "text/plain": [
       "5"
      ]
     },
     "execution_count": 13,
     "metadata": {},
     "output_type": "execute_result"
    }
   ],
   "source": [
    "b"
   ]
  },
  {
   "cell_type": "code",
   "execution_count": 14,
   "id": "f3df55ae",
   "metadata": {},
   "outputs": [],
   "source": [
    "#refernce counting"
   ]
  },
  {
   "cell_type": "code",
   "execution_count": 15,
   "id": "5bec80ff",
   "metadata": {},
   "outputs": [],
   "source": [
    "import sys\n",
    "a =\"corona\"\n",
    "b=a\n",
    "c=b"
   ]
  },
  {
   "cell_type": "code",
   "execution_count": 16,
   "id": "ed87566c",
   "metadata": {},
   "outputs": [
    {
     "data": {
      "text/plain": [
       "4"
      ]
     },
     "execution_count": 16,
     "metadata": {},
     "output_type": "execute_result"
    }
   ],
   "source": [
    "sys.getrefcount(a)"
   ]
  },
  {
   "cell_type": "code",
   "execution_count": 17,
   "id": "1673ffc7",
   "metadata": {},
   "outputs": [],
   "source": [
    "x=\"sfsdfsfdsdfs\""
   ]
  },
  {
   "cell_type": "code",
   "execution_count": 18,
   "id": "a2184e2f",
   "metadata": {},
   "outputs": [],
   "source": [
    "y=x\n",
    "z=y"
   ]
  },
  {
   "cell_type": "code",
   "execution_count": 19,
   "id": "d33697cd",
   "metadata": {},
   "outputs": [],
   "source": [
    "import sys\n"
   ]
  },
  {
   "cell_type": "code",
   "execution_count": 20,
   "id": "d3f7fb0f",
   "metadata": {},
   "outputs": [
    {
     "data": {
      "text/plain": [
       "4"
      ]
     },
     "execution_count": 20,
     "metadata": {},
     "output_type": "execute_result"
    }
   ],
   "source": [
    "sys.getrefcount(x)"
   ]
  },
  {
   "cell_type": "code",
   "execution_count": 21,
   "id": "0192caa3",
   "metadata": {},
   "outputs": [],
   "source": [
    "#Garbage Collection"
   ]
  },
  {
   "cell_type": "code",
   "execution_count": 22,
   "id": "e97121f8",
   "metadata": {},
   "outputs": [],
   "source": [
    "#python doesn't give capability to programmer to free unused and unreferenced memory!"
   ]
  },
  {
   "cell_type": "code",
   "execution_count": 23,
   "id": "dd1565ca",
   "metadata": {},
   "outputs": [],
   "source": [
    "#there is a garbage collector program that runs to free unreferenced memory"
   ]
  },
  {
   "cell_type": "code",
   "execution_count": 24,
   "id": "608939ae",
   "metadata": {},
   "outputs": [],
   "source": [
    "#java, python and PHP support it"
   ]
  },
  {
   "cell_type": "code",
   "execution_count": 25,
   "id": "482e2a59",
   "metadata": {},
   "outputs": [],
   "source": [
    "#WB 1"
   ]
  },
  {
   "cell_type": "code",
   "execution_count": 26,
   "id": "e96d6bcf",
   "metadata": {},
   "outputs": [],
   "source": [
    "a = 2\n",
    "b = a\n",
    "c = b"
   ]
  },
  {
   "cell_type": "code",
   "execution_count": 28,
   "id": "ce6fa266",
   "metadata": {},
   "outputs": [
    {
     "data": {
      "text/plain": [
       "1599"
      ]
     },
     "execution_count": 28,
     "metadata": {},
     "output_type": "execute_result"
    }
   ],
   "source": [
    "sys.getrefcount(a)"
   ]
  },
  {
   "cell_type": "code",
   "execution_count": 30,
   "id": "142cf9da",
   "metadata": {},
   "outputs": [],
   "source": [
    "a=\"visihal_maheshs_1\"\n",
    "b=\"visihal_maheshs_1\""
   ]
  },
  {
   "cell_type": "code",
   "execution_count": 31,
   "id": "55e02c16",
   "metadata": {},
   "outputs": [
    {
     "data": {
      "text/plain": [
       "139985757227888"
      ]
     },
     "execution_count": 31,
     "metadata": {},
     "output_type": "execute_result"
    }
   ],
   "source": [
    "id(a)"
   ]
  },
  {
   "cell_type": "code",
   "execution_count": 32,
   "id": "9d9ce661",
   "metadata": {},
   "outputs": [
    {
     "data": {
      "text/plain": [
       "139985757227888"
      ]
     },
     "execution_count": 32,
     "metadata": {},
     "output_type": "execute_result"
    }
   ],
   "source": [
    "id(b)"
   ]
  },
  {
   "cell_type": "code",
   "execution_count": 39,
   "id": "2e16ff44",
   "metadata": {},
   "outputs": [],
   "source": [
    "#for invalid identifiers a nd b will have different ids as shown  below:-\n",
    "a=\"vishal maheshwari\"\n",
    "b=\"vishal maheshwari\""
   ]
  },
  {
   "cell_type": "code",
   "execution_count": 40,
   "id": "4bd32aa0",
   "metadata": {},
   "outputs": [
    {
     "data": {
      "text/plain": [
       "139985740008944"
      ]
     },
     "execution_count": 40,
     "metadata": {},
     "output_type": "execute_result"
    }
   ],
   "source": [
    "id(a)"
   ]
  },
  {
   "cell_type": "code",
   "execution_count": 41,
   "id": "57c27a11",
   "metadata": {},
   "outputs": [
    {
     "data": {
      "text/plain": [
       "139985740008704"
      ]
     },
     "execution_count": 41,
     "metadata": {},
     "output_type": "execute_result"
    }
   ],
   "source": [
    "id(b)"
   ]
  },
  {
   "cell_type": "code",
   "execution_count": 42,
   "id": "3b6b26dd",
   "metadata": {},
   "outputs": [],
   "source": [
    "#mutability"
   ]
  },
  {
   "cell_type": "code",
   "execution_count": 57,
   "id": "31fee27f",
   "metadata": {},
   "outputs": [
    {
     "data": {
      "text/plain": [
       "139985739332288"
      ]
     },
     "execution_count": 57,
     "metadata": {},
     "output_type": "execute_result"
    }
   ],
   "source": [
    "L = [1,2,3,4]\n",
    "id(L)"
   ]
  },
  {
   "cell_type": "code",
   "execution_count": 58,
   "id": "ee65e626",
   "metadata": {},
   "outputs": [
    {
     "data": {
      "text/plain": [
       "(139985806043440, 139985806043472, 139985806043504, 139985806043536)"
      ]
     },
     "execution_count": 58,
     "metadata": {},
     "output_type": "execute_result"
    }
   ],
   "source": [
    "id(L[0]), id(L[1]), id(L[2]), id(L[3])"
   ]
  },
  {
   "cell_type": "code",
   "execution_count": 60,
   "id": "c35942ec",
   "metadata": {},
   "outputs": [],
   "source": [
    "L[2]=1\n"
   ]
  },
  {
   "cell_type": "code",
   "execution_count": 63,
   "id": "f75dfac8",
   "metadata": {},
   "outputs": [
    {
     "data": {
      "text/plain": [
       "139985806043440"
      ]
     },
     "execution_count": 63,
     "metadata": {},
     "output_type": "execute_result"
    }
   ],
   "source": [
    "id(L[2])"
   ]
  },
  {
   "cell_type": "code",
   "execution_count": 64,
   "id": "37673b6e",
   "metadata": {},
   "outputs": [],
   "source": [
    "L=[1,2,3,[4,5]]"
   ]
  },
  {
   "cell_type": "code",
   "execution_count": 65,
   "id": "0ab358fb",
   "metadata": {},
   "outputs": [],
   "source": [
    "#mutability refers to the ability to change or edit data in its memory location\n",
    "#mutability depends on the datatype "
   ]
  },
  {
   "cell_type": "code",
   "execution_count": 70,
   "id": "ef2e76eb",
   "metadata": {},
   "outputs": [],
   "source": [
    "a = \"hello\""
   ]
  },
  {
   "cell_type": "code",
   "execution_count": 71,
   "id": "a55eb61f",
   "metadata": {},
   "outputs": [
    {
     "data": {
      "text/plain": [
       "139985761444080"
      ]
     },
     "execution_count": 71,
     "metadata": {},
     "output_type": "execute_result"
    }
   ],
   "source": [
    "id(a)"
   ]
  },
  {
   "cell_type": "code",
   "execution_count": 72,
   "id": "87f5d8fa",
   "metadata": {},
   "outputs": [],
   "source": [
    "a = a+\"world\""
   ]
  },
  {
   "cell_type": "code",
   "execution_count": 73,
   "id": "76101502",
   "metadata": {},
   "outputs": [
    {
     "data": {
      "text/plain": [
       "'helloworld'"
      ]
     },
     "execution_count": 73,
     "metadata": {},
     "output_type": "execute_result"
    }
   ],
   "source": [
    "a"
   ]
  },
  {
   "cell_type": "code",
   "execution_count": 74,
   "id": "02dae17d",
   "metadata": {},
   "outputs": [
    {
     "data": {
      "text/plain": [
       "139985739292016"
      ]
     },
     "execution_count": 74,
     "metadata": {},
     "output_type": "execute_result"
    }
   ],
   "source": [
    "id(a)"
   ]
  },
  {
   "cell_type": "code",
   "execution_count": 75,
   "id": "f0272cb5",
   "metadata": {},
   "outputs": [],
   "source": [
    "T=(1,2,3)"
   ]
  },
  {
   "cell_type": "code",
   "execution_count": 76,
   "id": "a943416e",
   "metadata": {},
   "outputs": [
    {
     "data": {
      "text/plain": [
       "139985761784384"
      ]
     },
     "execution_count": 76,
     "metadata": {},
     "output_type": "execute_result"
    }
   ],
   "source": [
    "id(T)"
   ]
  },
  {
   "cell_type": "code",
   "execution_count": 77,
   "id": "14da4479",
   "metadata": {},
   "outputs": [],
   "source": [
    "T=T+(5,6)"
   ]
  },
  {
   "cell_type": "code",
   "execution_count": 78,
   "id": "ff336ba3",
   "metadata": {},
   "outputs": [
    {
     "data": {
      "text/plain": [
       "139985739322608"
      ]
     },
     "execution_count": 78,
     "metadata": {},
     "output_type": "execute_result"
    }
   ],
   "source": [
    "id(T)"
   ]
  },
  {
   "cell_type": "code",
   "execution_count": 79,
   "id": "6ff47eca",
   "metadata": {},
   "outputs": [],
   "source": [
    "#sides effects of mutation"
   ]
  },
  {
   "cell_type": "code",
   "execution_count": 80,
   "id": "d4a2dc46",
   "metadata": {},
   "outputs": [],
   "source": [
    "L=[1,2,3]"
   ]
  },
  {
   "cell_type": "code",
   "execution_count": 81,
   "id": "b749a49b",
   "metadata": {},
   "outputs": [],
   "source": [
    "L1 = L"
   ]
  },
  {
   "cell_type": "code",
   "execution_count": 82,
   "id": "39961937",
   "metadata": {},
   "outputs": [
    {
     "data": {
      "text/plain": [
       "139985739290432"
      ]
     },
     "execution_count": 82,
     "metadata": {},
     "output_type": "execute_result"
    }
   ],
   "source": [
    "id(L)"
   ]
  },
  {
   "cell_type": "code",
   "execution_count": 83,
   "id": "48f8ab2b",
   "metadata": {},
   "outputs": [
    {
     "data": {
      "text/plain": [
       "139985739290432"
      ]
     },
     "execution_count": 83,
     "metadata": {},
     "output_type": "execute_result"
    }
   ],
   "source": [
    "id(L1)"
   ]
  },
  {
   "cell_type": "code",
   "execution_count": 84,
   "id": "2a37e645",
   "metadata": {},
   "outputs": [],
   "source": [
    "L1.append(4)"
   ]
  },
  {
   "cell_type": "code",
   "execution_count": 85,
   "id": "fdf70ba9",
   "metadata": {},
   "outputs": [
    {
     "data": {
      "text/plain": [
       "139985739290432"
      ]
     },
     "execution_count": 85,
     "metadata": {},
     "output_type": "execute_result"
    }
   ],
   "source": [
    "id(L1)"
   ]
  },
  {
   "cell_type": "code",
   "execution_count": 86,
   "id": "cbed6d80",
   "metadata": {},
   "outputs": [
    {
     "data": {
      "text/plain": [
       "[1, 2, 3, 4]"
      ]
     },
     "execution_count": 86,
     "metadata": {},
     "output_type": "execute_result"
    }
   ],
   "source": [
    "L1\n"
   ]
  },
  {
   "cell_type": "code",
   "execution_count": 87,
   "id": "d158a0a5",
   "metadata": {},
   "outputs": [
    {
     "data": {
      "text/plain": [
       "[1, 2, 3, 4]"
      ]
     },
     "execution_count": 87,
     "metadata": {},
     "output_type": "execute_result"
    }
   ],
   "source": [
    "L"
   ]
  },
  {
   "cell_type": "code",
   "execution_count": 88,
   "id": "6dadd1d0",
   "metadata": {},
   "outputs": [],
   "source": [
    "#solve above issue using cloning"
   ]
  },
  {
   "cell_type": "code",
   "execution_count": 96,
   "id": "74456b58",
   "metadata": {},
   "outputs": [],
   "source": [
    "L1 = L[:] #cloning step"
   ]
  },
  {
   "cell_type": "code",
   "execution_count": 97,
   "id": "6ebb01a3",
   "metadata": {},
   "outputs": [],
   "source": [
    "L1.append(4)"
   ]
  },
  {
   "cell_type": "code",
   "execution_count": 98,
   "id": "32400d8e",
   "metadata": {},
   "outputs": [
    {
     "data": {
      "text/plain": [
       "139985739290432"
      ]
     },
     "execution_count": 98,
     "metadata": {},
     "output_type": "execute_result"
    }
   ],
   "source": [
    "id(L)"
   ]
  },
  {
   "cell_type": "code",
   "execution_count": 99,
   "id": "384041d2",
   "metadata": {},
   "outputs": [
    {
     "data": {
      "text/plain": [
       "139985739794304"
      ]
     },
     "execution_count": 99,
     "metadata": {},
     "output_type": "execute_result"
    }
   ],
   "source": [
    "id(L1)"
   ]
  },
  {
   "cell_type": "code",
   "execution_count": 100,
   "id": "081a703a",
   "metadata": {},
   "outputs": [
    {
     "data": {
      "text/plain": [
       "[1, 2, 3, 4]"
      ]
     },
     "execution_count": 100,
     "metadata": {},
     "output_type": "execute_result"
    }
   ],
   "source": [
    "L"
   ]
  },
  {
   "cell_type": "code",
   "execution_count": 101,
   "id": "e5ffe1a1",
   "metadata": {},
   "outputs": [
    {
     "data": {
      "text/plain": [
       "[1, 2, 3, 4, 4]"
      ]
     },
     "execution_count": 101,
     "metadata": {},
     "output_type": "execute_result"
    }
   ],
   "source": [
    "L1"
   ]
  },
  {
   "cell_type": "code",
   "execution_count": 110,
   "id": "441710d7",
   "metadata": {},
   "outputs": [],
   "source": [
    "a = (1,2,3,[4,5])"
   ]
  },
  {
   "cell_type": "code",
   "execution_count": 112,
   "id": "3b701c3b",
   "metadata": {},
   "outputs": [],
   "source": [
    "a[-1][-1]=500"
   ]
  },
  {
   "cell_type": "code",
   "execution_count": 114,
   "id": "d1af6583",
   "metadata": {},
   "outputs": [],
   "source": [
    "a=[1,2,3,(4,5)]"
   ]
  },
  {
   "cell_type": "code",
   "execution_count": 115,
   "id": "2004fd99",
   "metadata": {},
   "outputs": [],
   "source": [
    "a[3]=(4,3)"
   ]
  },
  {
   "cell_type": "code",
   "execution_count": 116,
   "id": "4113c801",
   "metadata": {},
   "outputs": [
    {
     "data": {
      "text/plain": [
       "[1, 2, 3, (4, 3)]"
      ]
     },
     "execution_count": 116,
     "metadata": {},
     "output_type": "execute_result"
    }
   ],
   "source": [
    "a"
   ]
  },
  {
   "cell_type": "code",
   "execution_count": 117,
   "id": "6a7a099a",
   "metadata": {},
   "outputs": [
    {
     "ename": "TypeError",
     "evalue": "'tuple' object does not support item assignment",
     "output_type": "error",
     "traceback": [
      "\u001b[0;31m---------------------------------------------------------------------------\u001b[0m",
      "\u001b[0;31mTypeError\u001b[0m                                 Traceback (most recent call last)",
      "\u001b[0;32m/tmp/ipykernel_1667731/2445510982.py\u001b[0m in \u001b[0;36m<module>\u001b[0;34m\u001b[0m\n\u001b[0;32m----> 1\u001b[0;31m \u001b[0ma\u001b[0m\u001b[0;34m[\u001b[0m\u001b[0;36m3\u001b[0m\u001b[0;34m]\u001b[0m\u001b[0;34m[\u001b[0m\u001b[0;36m1\u001b[0m\u001b[0;34m]\u001b[0m\u001b[0;34m=\u001b[0m\u001b[0;36m4\u001b[0m\u001b[0;34m\u001b[0m\u001b[0;34m\u001b[0m\u001b[0m\n\u001b[0m",
      "\u001b[0;31mTypeError\u001b[0m: 'tuple' object does not support item assignment"
     ]
    }
   ],
   "source": [
    "a[3][1]=4"
   ]
  },
  {
   "cell_type": "code",
   "execution_count": 119,
   "id": "e93156d7",
   "metadata": {},
   "outputs": [],
   "source": [
    "a=[1,2]\n",
    "b=[1,2]"
   ]
  },
  {
   "cell_type": "code",
   "execution_count": 120,
   "id": "349f9ac5",
   "metadata": {},
   "outputs": [
    {
     "data": {
      "text/plain": [
       "139985739399104"
      ]
     },
     "execution_count": 120,
     "metadata": {},
     "output_type": "execute_result"
    }
   ],
   "source": [
    "id(a)"
   ]
  },
  {
   "cell_type": "code",
   "execution_count": 121,
   "id": "ed003666",
   "metadata": {},
   "outputs": [
    {
     "data": {
      "text/plain": [
       "139985739398976"
      ]
     },
     "execution_count": 121,
     "metadata": {},
     "output_type": "execute_result"
    }
   ],
   "source": [
    "id(b)"
   ]
  },
  {
   "cell_type": "code",
   "execution_count": 122,
   "id": "517d9712",
   "metadata": {},
   "outputs": [
    {
     "data": {
      "text/plain": [
       "139985806043472"
      ]
     },
     "execution_count": 122,
     "metadata": {},
     "output_type": "execute_result"
    }
   ],
   "source": [
    "id(a[1])"
   ]
  },
  {
   "cell_type": "code",
   "execution_count": 123,
   "id": "b0764d38",
   "metadata": {},
   "outputs": [
    {
     "data": {
      "text/plain": [
       "139985806043472"
      ]
     },
     "execution_count": 123,
     "metadata": {},
     "output_type": "execute_result"
    }
   ],
   "source": [
    "id(b[1])"
   ]
  },
  {
   "cell_type": "code",
   "execution_count": 124,
   "id": "22a7bb05",
   "metadata": {},
   "outputs": [],
   "source": [
    "#concatenation  in a List changes address as shown below:-\n"
   ]
  },
  {
   "cell_type": "code",
   "execution_count": 125,
   "id": "2cea2b75",
   "metadata": {},
   "outputs": [],
   "source": [
    "L=[12,3,4]"
   ]
  },
  {
   "cell_type": "code",
   "execution_count": 126,
   "id": "0c0f50f7",
   "metadata": {},
   "outputs": [
    {
     "data": {
      "text/plain": [
       "139985739398848"
      ]
     },
     "execution_count": 126,
     "metadata": {},
     "output_type": "execute_result"
    }
   ],
   "source": [
    "id(L)"
   ]
  },
  {
   "cell_type": "code",
   "execution_count": 127,
   "id": "ea486723",
   "metadata": {},
   "outputs": [],
   "source": [
    "L=L+[2,3]"
   ]
  },
  {
   "cell_type": "code",
   "execution_count": 128,
   "id": "074a8702",
   "metadata": {},
   "outputs": [
    {
     "data": {
      "text/plain": [
       "139985739386624"
      ]
     },
     "execution_count": 128,
     "metadata": {},
     "output_type": "execute_result"
    }
   ],
   "source": [
    "id(L)"
   ]
  },
  {
   "cell_type": "code",
   "execution_count": 129,
   "id": "06137ae9",
   "metadata": {},
   "outputs": [],
   "source": [
    "c =(a,b)"
   ]
  },
  {
   "cell_type": "code",
   "execution_count": 130,
   "id": "90f7f227",
   "metadata": {},
   "outputs": [
    {
     "data": {
      "text/plain": [
       "([1, 2], [1, 2])"
      ]
     },
     "execution_count": 130,
     "metadata": {},
     "output_type": "execute_result"
    }
   ],
   "source": [
    "c"
   ]
  },
  {
   "cell_type": "code",
   "execution_count": 131,
   "id": "79f3adf5",
   "metadata": {},
   "outputs": [
    {
     "ename": "TypeError",
     "evalue": "'tuple' object does not support item assignment",
     "output_type": "error",
     "traceback": [
      "\u001b[0;31m---------------------------------------------------------------------------\u001b[0m",
      "\u001b[0;31mTypeError\u001b[0m                                 Traceback (most recent call last)",
      "\u001b[0;32m/tmp/ipykernel_1667731/2508919795.py\u001b[0m in \u001b[0;36m<module>\u001b[0;34m\u001b[0m\n\u001b[0;32m----> 1\u001b[0;31m \u001b[0mc\u001b[0m\u001b[0;34m[\u001b[0m\u001b[0;36m0\u001b[0m\u001b[0;34m]\u001b[0m\u001b[0;34m=\u001b[0m\u001b[0mc\u001b[0m\u001b[0;34m[\u001b[0m\u001b[0;36m0\u001b[0m\u001b[0;34m]\u001b[0m\u001b[0;34m+\u001b[0m\u001b[0;34m[\u001b[0m\u001b[0;36m3\u001b[0m\u001b[0;34m,\u001b[0m\u001b[0;36m5\u001b[0m\u001b[0;34m]\u001b[0m\u001b[0;34m\u001b[0m\u001b[0;34m\u001b[0m\u001b[0m\n\u001b[0m",
      "\u001b[0;31mTypeError\u001b[0m: 'tuple' object does not support item assignment"
     ]
    }
   ],
   "source": [
    "c[0]=c[0]+[3,5]"
   ]
  },
  {
   "cell_type": "code",
   "execution_count": null,
   "id": "1acf7503",
   "metadata": {},
   "outputs": [],
   "source": [
    " "
   ]
  }
 ],
 "metadata": {
  "kernelspec": {
   "display_name": "Python 3 (ipykernel)",
   "language": "python",
   "name": "python3"
  },
  "language_info": {
   "codemirror_mode": {
    "name": "ipython",
    "version": 3
   },
   "file_extension": ".py",
   "mimetype": "text/x-python",
   "name": "python",
   "nbconvert_exporter": "python",
   "pygments_lexer": "ipython3",
   "version": "3.9.16"
  }
 },
 "nbformat": 4,
 "nbformat_minor": 5
}
