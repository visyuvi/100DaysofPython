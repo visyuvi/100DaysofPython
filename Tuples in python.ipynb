{
 "cells": [
  {
   "cell_type": "code",
   "execution_count": 1,
   "id": "a3b7ee3d",
   "metadata": {},
   "outputs": [],
   "source": [
    "#Tuples in python"
   ]
  },
  {
   "cell_type": "code",
   "execution_count": 2,
   "id": "381cfff6",
   "metadata": {},
   "outputs": [],
   "source": [
    "#similar to lists"
   ]
  },
  {
   "cell_type": "code",
   "execution_count": 5,
   "id": "74a0bfd9",
   "metadata": {},
   "outputs": [],
   "source": [
    "#create:- How to create a tuple?\n"
   ]
  },
  {
   "cell_type": "code",
   "execution_count": 6,
   "id": "e4b6e8bf",
   "metadata": {},
   "outputs": [],
   "source": [
    "T1=()"
   ]
  },
  {
   "cell_type": "code",
   "execution_count": 7,
   "id": "77aac5d3",
   "metadata": {},
   "outputs": [],
   "source": [
    "T2=(1,2,3,45)"
   ]
  },
  {
   "cell_type": "code",
   "execution_count": 8,
   "id": "2912bb0d",
   "metadata": {},
   "outputs": [
    {
     "data": {
      "text/plain": [
       "(1, 2, 3, 45)"
      ]
     },
     "execution_count": 8,
     "metadata": {},
     "output_type": "execute_result"
    }
   ],
   "source": [
    "T2"
   ]
  },
  {
   "cell_type": "code",
   "execution_count": 9,
   "id": "60cd49e5",
   "metadata": {},
   "outputs": [],
   "source": [
    "T4=(1,2,3,(45))"
   ]
  },
  {
   "cell_type": "code",
   "execution_count": 10,
   "id": "e7d3e883",
   "metadata": {},
   "outputs": [
    {
     "data": {
      "text/plain": [
       "(1, 2, 3, 45)"
      ]
     },
     "execution_count": 10,
     "metadata": {},
     "output_type": "execute_result"
    }
   ],
   "source": [
    "T4"
   ]
  },
  {
   "cell_type": "code",
   "execution_count": 14,
   "id": "b64acce3",
   "metadata": {},
   "outputs": [],
   "source": [
    "T5=(1) #single item tuple not possible this way\n"
   ]
  },
  {
   "cell_type": "code",
   "execution_count": 17,
   "id": "c584aeef",
   "metadata": {},
   "outputs": [
    {
     "data": {
      "text/plain": [
       "tuple"
      ]
     },
     "execution_count": 17,
     "metadata": {},
     "output_type": "execute_result"
    }
   ],
   "source": [
    "type(T5)"
   ]
  },
  {
   "cell_type": "code",
   "execution_count": 16,
   "id": "898edbc5",
   "metadata": {},
   "outputs": [],
   "source": [
    "#How to make a single item  tuple?\n",
    "T5=(1,)"
   ]
  },
  {
   "cell_type": "code",
   "execution_count": 19,
   "id": "33d72e01",
   "metadata": {},
   "outputs": [],
   "source": [
    "T6 = tuple([1,2,3,4,5])"
   ]
  },
  {
   "cell_type": "code",
   "execution_count": 20,
   "id": "24f6d055",
   "metadata": {},
   "outputs": [
    {
     "data": {
      "text/plain": [
       "(1, 2, 3, 4, 5)"
      ]
     },
     "execution_count": 20,
     "metadata": {},
     "output_type": "execute_result"
    }
   ],
   "source": [
    "T6"
   ]
  },
  {
   "cell_type": "code",
   "execution_count": 21,
   "id": "a10c331c",
   "metadata": {},
   "outputs": [
    {
     "data": {
      "text/plain": [
       "1"
      ]
     },
     "execution_count": 21,
     "metadata": {},
     "output_type": "execute_result"
    }
   ],
   "source": [
    "T2[0]"
   ]
  },
  {
   "cell_type": "code",
   "execution_count": 22,
   "id": "3c64d415",
   "metadata": {},
   "outputs": [],
   "source": [
    "#slicing works the same way as in list"
   ]
  },
  {
   "cell_type": "code",
   "execution_count": 23,
   "id": "d0d2ac89",
   "metadata": {},
   "outputs": [],
   "source": [
    "#what is the difference between tuple and list?\n"
   ]
  },
  {
   "cell_type": "code",
   "execution_count": 25,
   "id": "a9196a44",
   "metadata": {},
   "outputs": [],
   "source": [
    "#tuples are immutable just like strings so you can't edit a tuple or add new item in a tuple"
   ]
  },
  {
   "cell_type": "code",
   "execution_count": 26,
   "id": "368f5189",
   "metadata": {},
   "outputs": [],
   "source": [
    "del T2"
   ]
  },
  {
   "cell_type": "code",
   "execution_count": 28,
   "id": "b98852ec",
   "metadata": {},
   "outputs": [],
   "source": [
    "T2=(1,2,3,45)"
   ]
  },
  {
   "cell_type": "code",
   "execution_count": 34,
   "id": "62f5d6a2",
   "metadata": {},
   "outputs": [
    {
     "ename": "TypeError",
     "evalue": "'tuple' object does not support item deletion",
     "output_type": "error",
     "traceback": [
      "\u001b[0;31m---------------------------------------------------------------------------\u001b[0m",
      "\u001b[0;31mTypeError\u001b[0m                                 Traceback (most recent call last)",
      "\u001b[0;32m/tmp/ipykernel_1563630/1739475608.py\u001b[0m in \u001b[0;36m<module>\u001b[0;34m\u001b[0m\n\u001b[0;32m----> 1\u001b[0;31m \u001b[0;32mdel\u001b[0m \u001b[0mT2\u001b[0m\u001b[0;34m[\u001b[0m\u001b[0;34m:\u001b[0m\u001b[0;34m-\u001b[0m\u001b[0;36m1\u001b[0m\u001b[0;34m]\u001b[0m\u001b[0;34m\u001b[0m\u001b[0;34m\u001b[0m\u001b[0m\n\u001b[0m",
      "\u001b[0;31mTypeError\u001b[0m: 'tuple' object does not support item deletion"
     ]
    }
   ],
   "source": [
    "del T2[:-1]"
   ]
  },
  {
   "cell_type": "code",
   "execution_count": 35,
   "id": "79d037b8",
   "metadata": {},
   "outputs": [],
   "source": [
    "#functions\n",
    "#len, sum , min,max,sort"
   ]
  },
  {
   "cell_type": "code",
   "execution_count": 36,
   "id": "1c80ce98",
   "metadata": {},
   "outputs": [
    {
     "data": {
      "text/plain": [
       "1"
      ]
     },
     "execution_count": 36,
     "metadata": {},
     "output_type": "execute_result"
    }
   ],
   "source": [
    "min(T2)"
   ]
  },
  {
   "cell_type": "code",
   "execution_count": 37,
   "id": "1a796049",
   "metadata": {},
   "outputs": [],
   "source": [
    "#tuples are read only data type"
   ]
  },
  {
   "cell_type": "code",
   "execution_count": 38,
   "id": "6e8e8296",
   "metadata": {},
   "outputs": [],
   "source": [
    "#used where data integrity is a must !"
   ]
  },
  {
   "cell_type": "code",
   "execution_count": null,
   "id": "fd919b12",
   "metadata": {},
   "outputs": [],
   "source": []
  }
 ],
 "metadata": {
  "kernelspec": {
   "display_name": "Python 3 (ipykernel)",
   "language": "python",
   "name": "python3"
  },
  "language_info": {
   "codemirror_mode": {
    "name": "ipython",
    "version": 3
   },
   "file_extension": ".py",
   "mimetype": "text/x-python",
   "name": "python",
   "nbconvert_exporter": "python",
   "pygments_lexer": "ipython3",
   "version": "3.9.16"
  }
 },
 "nbformat": 4,
 "nbformat_minor": 5
}
