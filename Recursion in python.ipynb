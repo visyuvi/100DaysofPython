{
 "cells": [
  {
   "cell_type": "code",
   "execution_count": 1,
   "id": "cd83b71a",
   "metadata": {},
   "outputs": [],
   "source": [
    "#iterative vs recursive"
   ]
  },
  {
   "cell_type": "code",
   "execution_count": 4,
   "id": "6043a6fc",
   "metadata": {},
   "outputs": [],
   "source": [
    "def multiply(a,b):\n",
    "    result = 0\n",
    "    for i in range(0,b):\n",
    "        result = result + a\n",
    "    print(result)"
   ]
  },
  {
   "cell_type": "code",
   "execution_count": 5,
   "id": "f451c505",
   "metadata": {},
   "outputs": [
    {
     "name": "stdout",
     "output_type": "stream",
     "text": [
      "40\n"
     ]
    }
   ],
   "source": [
    "multiply(4,10)"
   ]
  },
  {
   "cell_type": "code",
   "execution_count": 6,
   "id": "9fc598c3",
   "metadata": {},
   "outputs": [],
   "source": [
    "#same code using recursion\n",
    "#identify base case\n",
    "\n",
    "def multiply_rec(a,b):\n",
    "    if b==1:\n",
    "        return a\n",
    "    \n",
    "    return a + multiply_rec(a,b-1)"
   ]
  },
  {
   "cell_type": "code",
   "execution_count": 12,
   "id": "47e3ea8c",
   "metadata": {},
   "outputs": [
    {
     "name": "stdout",
     "output_type": "stream",
     "text": [
      "1200\n"
     ]
    }
   ],
   "source": [
    "print(multiply_rec(3,400))"
   ]
  },
  {
   "cell_type": "code",
   "execution_count": 13,
   "id": "28f95fc6",
   "metadata": {},
   "outputs": [],
   "source": [
    "#factorial using recursion"
   ]
  },
  {
   "cell_type": "code",
   "execution_count": 17,
   "id": "efb91b20",
   "metadata": {},
   "outputs": [],
   "source": [
    "def fact(number):\n",
    "    if number == 1:\n",
    "        return 1\n",
    "    \n",
    "    return number * fact(number-1)"
   ]
  },
  {
   "cell_type": "code",
   "execution_count": 23,
   "id": "8b6639c5",
   "metadata": {},
   "outputs": [
    {
     "data": {
      "text/plain": [
       "3628800"
      ]
     },
     "execution_count": 23,
     "metadata": {},
     "output_type": "execute_result"
    }
   ],
   "source": [
    "fact(10)"
   ]
  },
  {
   "cell_type": "code",
   "execution_count": 24,
   "id": "3874bc52",
   "metadata": {},
   "outputs": [],
   "source": [
    "#palindrome using recursion"
   ]
  },
  {
   "cell_type": "code",
   "execution_count": 39,
   "id": "f18115d4",
   "metadata": {},
   "outputs": [],
   "source": [
    "def palindrome(text):\n",
    "    if len(text)<=1:\n",
    "        print(\"palindrome\")\n",
    "    else:\n",
    "        if text[0]==text[-1]:\n",
    "            palindrome(text[1:-1])\n",
    "        else:\n",
    "            print(\"Not a palindrome\")\n",
    "            \n",
    "            "
   ]
  },
  {
   "cell_type": "code",
   "execution_count": 40,
   "id": "0b81f2ef",
   "metadata": {},
   "outputs": [
    {
     "name": "stdout",
     "output_type": "stream",
     "text": [
      "palindrome\n"
     ]
    }
   ],
   "source": [
    "palindrome(\"madam sir ris madam\")"
   ]
  },
  {
   "cell_type": "code",
   "execution_count": 41,
   "id": "817afd60",
   "metadata": {},
   "outputs": [
    {
     "name": "stdout",
     "output_type": "stream",
     "text": [
      "palindrome\n"
     ]
    }
   ],
   "source": [
    "palindrome(\"malayalam\")"
   ]
  },
  {
   "cell_type": "code",
   "execution_count": 42,
   "id": "f9e3796f",
   "metadata": {},
   "outputs": [
    {
     "name": "stdout",
     "output_type": "stream",
     "text": [
      "palindrome\n"
     ]
    }
   ],
   "source": [
    "palindrome(\"abcba\")"
   ]
  },
  {
   "cell_type": "code",
   "execution_count": null,
   "id": "8475d01b",
   "metadata": {},
   "outputs": [],
   "source": []
  },
  {
   "cell_type": "code",
   "execution_count": 44,
   "id": "8c9a02d4",
   "metadata": {},
   "outputs": [],
   "source": [
    "#rabbit problem using recursion"
   ]
  },
  {
   "cell_type": "code",
   "execution_count": 45,
   "id": "f643362c",
   "metadata": {},
   "outputs": [],
   "source": [
    "import time \n",
    "def fib(m):\n",
    "    if m==0 or m==1:\n",
    "        return 1\n",
    "    else:\n",
    "        return fib(m-1) + fib(m-2)\n",
    "          "
   ]
  },
  {
   "cell_type": "code",
   "execution_count": 50,
   "id": "a6b5ae08",
   "metadata": {},
   "outputs": [
    {
     "name": "stdout",
     "output_type": "stream",
     "text": [
      "24157817\n"
     ]
    }
   ],
   "source": [
    "print(fib(48))"
   ]
  },
  {
   "cell_type": "code",
   "execution_count": 53,
   "id": "3740e36f",
   "metadata": {},
   "outputs": [],
   "source": [
    "#the above code can be improved using memoization although you consume extra space for improving time complexity\n",
    "#there  is space time tradeoff"
   ]
  },
  {
   "cell_type": "code",
   "execution_count": 73,
   "id": "7f1cc935",
   "metadata": {},
   "outputs": [],
   "source": [
    "def memo(m,d):\n",
    "    \n",
    "    if m in d:\n",
    "        return d[m]\n",
    "    else:\n",
    "        d[m] = memo(m-1,d)+memo(m-2,d)\n",
    "        return d[m]\n",
    "    "
   ]
  },
  {
   "cell_type": "code",
   "execution_count": 76,
   "id": "0a6342b2",
   "metadata": {},
   "outputs": [
    {
     "name": "stdout",
     "output_type": "stream",
     "text": [
      "89\n"
     ]
    }
   ],
   "source": [
    "d = {0:1,1:1}\n",
    "\n",
    "print(memo(10,d))\n",
    "    "
   ]
  },
  {
   "cell_type": "code",
   "execution_count": null,
   "id": "1b7645a1",
   "metadata": {},
   "outputs": [],
   "source": []
  },
  {
   "cell_type": "code",
   "execution_count": null,
   "id": "f7a8af32",
   "metadata": {},
   "outputs": [],
   "source": []
  },
  {
   "cell_type": "code",
   "execution_count": null,
   "id": "91f61796",
   "metadata": {},
   "outputs": [],
   "source": []
  },
  {
   "cell_type": "code",
   "execution_count": null,
   "id": "9077e658",
   "metadata": {},
   "outputs": [],
   "source": []
  }
 ],
 "metadata": {
  "kernelspec": {
   "display_name": "Python 3 (ipykernel)",
   "language": "python",
   "name": "python3"
  },
  "language_info": {
   "codemirror_mode": {
    "name": "ipython",
    "version": 3
   },
   "file_extension": ".py",
   "mimetype": "text/x-python",
   "name": "python",
   "nbconvert_exporter": "python",
   "pygments_lexer": "ipython3",
   "version": "3.9.16"
  }
 },
 "nbformat": 4,
 "nbformat_minor": 5
}
